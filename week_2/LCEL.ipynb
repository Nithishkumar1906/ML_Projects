{
 "cells": [
  {
   "cell_type": "code",
   "execution_count": 1,
   "id": "c7cd8224-61c5-4e1f-90b3-f951723b5ca7",
   "metadata": {},
   "outputs": [],
   "source": [
    "%load_ext dotenv\n",
    "%dotenv"
   ]
  },
  {
   "cell_type": "code",
   "execution_count": 2,
   "id": "186e1cf6-0753-425f-9770-edec116c3a5d",
   "metadata": {},
   "outputs": [],
   "source": [
    "import os\n",
    "os.environ[\"OPENAI_API_KEY\"] = \"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\""
   ]
  },
  {
   "cell_type": "code",
   "execution_count": 3,
   "id": "65c660b2-5be1-43da-bc14-47da20ada1e0",
   "metadata": {},
   "outputs": [],
   "source": [
    "import openai\n",
    "openai.api_key = os.getenv(\"OPENAI_API_KEY\")"
   ]
  },
  {
   "cell_type": "code",
   "execution_count": 8,
   "id": "f1ec4e6e-6a85-4e33-a953-cbc429073ad6",
   "metadata": {},
   "outputs": [],
   "source": [
    "from langchain_openai.chat_models import ChatOpenAI\n",
    "from langchain_community.chat_models import ChatOpenAI\n",
    "from langchain_core.prompts import ChatPromptTemplate\n",
    "from langchain_core.output_parsers import CommaSeparatedListOutputParser"
   ]
  },
  {
   "cell_type": "code",
   "execution_count": 9,
   "id": "3e4c57c9-beb6-4d2c-a5fd-938ec6e4a591",
   "metadata": {},
   "outputs": [],
   "source": [
    "os.environ[\"OPENAI_API_BASE\"] = \"https://api.groq.com/openai/v1\"\n",
    "\n",
    "chat = ChatOpenAI(\n",
    "    model_name=\"llama3-70b-8192\", \n",
    "    model_kwargs={\"seed\": 365},\n",
    "    temperature=0,\n",
    "    max_tokens = 100)"
   ]
  },
  {
   "cell_type": "code",
   "execution_count": 10,
   "id": "c72e65ba-86de-46cd-bc80-4fc52afee956",
   "metadata": {},
   "outputs": [],
   "source": [
    "list_instruction = CommaSeparatedListOutputParser().get_format_instructions()"
   ]
  },
  {
   "cell_type": "code",
   "execution_count": 12,
   "id": "60ff7743-07a0-4a1f-a420-19bee2cdd0d5",
   "metadata": {},
   "outputs": [],
   "source": [
    "chat_template = ChatPromptTemplate.from_messages([('human',\"I've recently adopted a {pet}. Could you suggest some {pet} names?? \\n\")])"
   ]
  },
  {
   "cell_type": "code",
   "execution_count": 13,
   "id": "3032b11f-a36b-4078-8faf-d79f71929e05",
   "metadata": {},
   "outputs": [],
   "source": [
    "list_output_parser = CommaSeparatedListOutputParser()"
   ]
  },
  {
   "cell_type": "code",
   "execution_count": 14,
   "id": "41114fad-de50-4006-b6dc-2dbd9f773545",
   "metadata": {},
   "outputs": [],
   "source": [
    "chat_result = chat_template.invoke({'pet':'dog'})"
   ]
  },
  {
   "cell_type": "code",
   "execution_count": 19,
   "id": "6d84a126-ae6d-43c2-aaa5-339e803a73d5",
   "metadata": {},
   "outputs": [
    {
     "data": {
      "text/plain": [
       "AIMessage(content=\"Congratulations on adopting a new furry friend! I'd be delighted to help you find the paw-fect name for your dog! Here are some suggestions based on popular breeds, personalities, and themes:\\n\\n**Popular Dog Names:**\\n\\n1. Bella\\n2. Max\\n3. Charlie\\n4. Lucy\\n5. Cooper\\n6. Rocky\\n7. Luna\\n8. Duke\\n9. Daisy\\n10. Gracie\\n\\n**Breed-Specific Names:**\\n\\n1. For a Golden Ret\", additional_kwargs={}, response_metadata={'token_usage': {'completion_tokens': 100, 'prompt_tokens': 25, 'total_tokens': 125, 'completion_tokens_details': None, 'prompt_tokens_details': None, 'queue_time': 0.053022419, 'prompt_time': 0.000467221, 'completion_time': 0.292165445, 'total_time': 0.292632666}, 'model_name': 'llama3-70b-8192', 'system_fingerprint': 'fp_dd4ae1c591', 'finish_reason': 'length', 'logprobs': None}, id='run--a10ee513-7a03-4e11-99f9-0c5c592f88c4-0')"
      ]
     },
     "execution_count": 19,
     "metadata": {},
     "output_type": "execute_result"
    }
   ],
   "source": [
    "chat.invoke(chat_result)"
   ]
  },
  {
   "cell_type": "code",
   "execution_count": 20,
   "id": "61cf1fb2-bfdc-4cd7-94e7-cbca97626c56",
   "metadata": {},
   "outputs": [
    {
     "data": {
      "text/plain": [
       "[\"Congratulations on adopting a new furry friend! I'd be delighted to help you find the paw-fect name for your dog! Here are some suggestions based on popular breeds\",\n",
       " 'personalities',\n",
       " 'and themes:',\n",
       " '**Popular Dog Names:**',\n",
       " '1. Bella',\n",
       " '2. Max',\n",
       " '3. Charlie',\n",
       " '4. Lucy',\n",
       " '5. Cooper',\n",
       " '6. Rocky',\n",
       " '7. Luna',\n",
       " '8. Duke',\n",
       " '9. Daisy',\n",
       " '10. Gracie',\n",
       " '**Breed-Specific Names:**',\n",
       " '1. For a Golden Ret']"
      ]
     },
     "execution_count": 20,
     "metadata": {},
     "output_type": "execute_result"
    }
   ],
   "source": [
    "list_output_parser.invoke(chat.invoke(chat_result))"
   ]
  },
  {
   "cell_type": "markdown",
   "id": "3ad52f15-77c4-4dcf-a802-0986491626d2",
   "metadata": {},
   "source": [
    "LCEL\n"
   ]
  },
  {
   "cell_type": "code",
   "execution_count": 22,
   "id": "6c878349-c61b-49f4-8c46-bebfefd5c773",
   "metadata": {},
   "outputs": [],
   "source": [
    "chain = chat_template | chat | list_output_parser"
   ]
  },
  {
   "cell_type": "code",
   "execution_count": 23,
   "id": "9a5d5f02-1ba6-428b-bc23-ea4e7d39339b",
   "metadata": {},
   "outputs": [
    {
     "data": {
      "text/plain": [
       "[\"Congratulations on adopting a new furry friend! I'd be delighted to help you find the paw-fect name for your dog! Here are some suggestions based on popular breeds\",\n",
       " 'personalities',\n",
       " 'and themes:',\n",
       " '**Popular Dog Names:**',\n",
       " '1. Bella',\n",
       " '2. Max',\n",
       " '3. Charlie',\n",
       " '4. Lucy',\n",
       " '5. Cooper',\n",
       " '6. Rocky',\n",
       " '7. Luna',\n",
       " '8. Duke',\n",
       " '9. Daisy',\n",
       " '10. Gracie',\n",
       " '**Breed-Specific Names:**',\n",
       " '1. For a Golden Ret']"
      ]
     },
     "execution_count": 23,
     "metadata": {},
     "output_type": "execute_result"
    }
   ],
   "source": [
    "chain.invoke({'pet':'dog'})"
   ]
  },
  {
   "cell_type": "markdown",
   "id": "8f707658-ffd3-4212-a4af-c89071beceb2",
   "metadata": {},
   "source": [
    "BATCHING Method()"
   ]
  },
  {
   "cell_type": "code",
   "execution_count": 33,
   "id": "0ddf1cd5-c9b5-4f2f-b1c8-35a5c0c229c4",
   "metadata": {},
   "outputs": [],
   "source": [
    "chat_template = ChatPromptTemplate.from_messages([('human',\"I've recently adopted a {pet} which is a {breed}. Could you suggest several training tips??\")])"
   ]
  },
  {
   "cell_type": "code",
   "execution_count": 46,
   "id": "fa95db7d-a6e1-4b93-9434-81bf6580ab61",
   "metadata": {},
   "outputs": [],
   "source": [
    "os.environ[\"OPENAI_API_BASE\"] = \"https://api.groq.com/openai/v1\"\n",
    "\n",
    "chat = ChatOpenAI(\n",
    "    model_name=\"llama3-70b-8192\", \n",
    "    model_kwargs={\"seed\": 365},\n",
    "    temperature=0,\n",
    "    max_tokens = 230)"
   ]
  },
  {
   "cell_type": "code",
   "execution_count": 47,
   "id": "1be002b4-02e4-4dac-a06d-1e66749dd435",
   "metadata": {},
   "outputs": [],
   "source": [
    "chain= chat_template | chat"
   ]
  },
  {
   "cell_type": "code",
   "execution_count": 48,
   "id": "14ef5f98-49a2-4738-b21f-40cb386dc1da",
   "metadata": {},
   "outputs": [
    {
     "data": {
      "text/plain": [
       "AIMessage(content='Congratulations on adopting a new furry family member! German Shepherds are intelligent, loyal, and loving companions. Training is essential to help your dog become a well-behaved and well-adjusted member of your family. Here are several training tips to get you started:\\n\\n1. **Establish a routine**: Dogs thrive on routine, so create a schedule for feeding, exercise, playtime, and potty breaks. This will help your dog feel secure and develop good habits.\\n2. **Positive Reinforcement**: Reward your dog with treats, praise, and affection when they exhibit good behavior. Avoid punishment or negative reinforcement, as it can lead to fear and mistrust.\\n3. **Basic Obedience Commands**: Teach your dog basic commands like \"sit,\" \"stay,\" \"come,\" \"down,\" and \"leave it.\" Use positive reinforcement and be patient, as it may take time for your dog to learn.\\n4. **Socialization**: Socialization is critical for German Shepherds, as they can be naturally protective of their family. Expose your dog to various environments, people, and other animals to help them become confident and calm', additional_kwargs={}, response_metadata={'token_usage': {'completion_tokens': 230, 'prompt_tokens': 28, 'total_tokens': 258, 'completion_tokens_details': None, 'prompt_tokens_details': None, 'queue_time': 0.056242489, 'prompt_time': 0.000505261, 'completion_time': 0.676834129, 'total_time': 0.67733939}, 'model_name': 'llama3-70b-8192', 'system_fingerprint': 'fp_dd4ae1c591', 'finish_reason': 'length', 'logprobs': None}, id='run--82cc7328-ed44-442a-9340-6b45ee0d1a24-0')"
      ]
     },
     "execution_count": 48,
     "metadata": {},
     "output_type": "execute_result"
    }
   ],
   "source": [
    "chain.invoke({'pet':'dog' , 'breed':'shepherd'})"
   ]
  },
  {
   "cell_type": "code",
   "execution_count": 49,
   "id": "f07ccd34-9706-470b-a6ba-3b8a92f5ef9e",
   "metadata": {},
   "outputs": [
    {
     "data": {
      "text/plain": [
       "[AIMessage(content='Congratulations on adopting a new furry family member! German Shepherds are intelligent, loyal, and loving companions. Training is essential to help your dog become a well-behaved and well-adjusted member of your family. Here are several training tips to get you started:\\n\\n1. **Establish a routine**: Dogs thrive on routine, so create a schedule for feeding, exercise, playtime, and potty breaks. This will help your dog feel secure and develop good habits.\\n2. **Positive Reinforcement**: Reward your dog with treats, praise, and affection when they exhibit good behavior. Avoid punishment or negative reinforcement, as it can lead to fear and mistrust.\\n3. **Basic Obedience Commands**: Teach your dog basic commands like \"sit,\" \"stay,\" \"come,\" \"down,\" and \"leave it.\" Use positive reinforcement and be patient, as it may take time for your dog to learn.\\n4. **Socialization**: Socialization is critical for German Shepherds, as they can be naturally protective of their family. Expose your dog to various environments, people, and other animals to help them become confident and calm', additional_kwargs={}, response_metadata={'token_usage': {'completion_tokens': 230, 'prompt_tokens': 28, 'total_tokens': 258, 'completion_tokens_details': None, 'prompt_tokens_details': None, 'queue_time': 0.052920529, 'prompt_time': 0.000468731, 'completion_time': 0.699662113, 'total_time': 0.700130844}, 'model_name': 'llama3-70b-8192', 'system_fingerprint': 'fp_dd4ae1c591', 'finish_reason': 'length', 'logprobs': None}, id='run--9a7d565a-96ed-47f7-b698-8891bf2da7d4-0'),\n",
       " AIMessage(content=\"Congratulations on adopting a Night Fury dragon! However, I have to clarify that Night Furies are fictional creatures from the How to Train Your Dragon franchise and do not exist in real life. Therefore, it's not possible to adopt or train a real Night Fury dragon.\\n\\nBut, if you're looking for some fun and imaginative training tips for a fictional Night Fury dragon, I'd be happy to play along! Here are a few suggestions:\\n\\n1. **Establish trust**: Night Furies are known for their intelligence and independence. To build trust, start by offering your dragon treats and rewards for calm behavior. Gradually increase interaction time, and be patient with their initial wariness.\\n2. **Use positive reinforcement**: Reward your dragon with praise, treats, and affection when they exhibit desired behaviors, such as flying on command or responding to vocal cues. Avoid punishment or negative reinforcement, as this can lead to fear and mistrust.\\n3. **Develop a communication system**: Night Furies are highly intelligent and can understand complex vocal cues. Develop a system of clicks, whistles, and vocal commands to communicate with your dragon. Be consistent and clear in your\", additional_kwargs={}, response_metadata={'token_usage': {'completion_tokens': 230, 'prompt_tokens': 29, 'total_tokens': 259, 'completion_tokens_details': None, 'prompt_tokens_details': None, 'queue_time': 0.052849502000000007, 'prompt_time': 0.000594739, 'completion_time': 0.86860702, 'total_time': 0.869201759}, 'model_name': 'llama3-70b-8192', 'system_fingerprint': 'fp_dd4ae1c591', 'finish_reason': 'length', 'logprobs': None}, id='run--ad61a7d8-75df-498f-8358-69c847db5181-0')]"
      ]
     },
     "execution_count": 49,
     "metadata": {},
     "output_type": "execute_result"
    }
   ],
   "source": [
    "chain.batch([{'pet':'dog','breed':'shepherd'},{'pet':'dragon' ,'breed':'night fury'}])"
   ]
  },
  {
   "cell_type": "markdown",
   "id": "f1ef7027-ac42-44e9-987d-4971ab4a01e3",
   "metadata": {},
   "source": [
    "STREAMING"
   ]
  },
  {
   "cell_type": "code",
   "execution_count": 50,
   "id": "4f4eaf1d-28ac-4ec7-aeb8-93c5d1fa8998",
   "metadata": {},
   "outputs": [],
   "source": [
    "response = chain.stream({'pet':'dog' , 'breed':'shepherd'})"
   ]
  },
  {
   "cell_type": "code",
   "execution_count": 51,
   "id": "53854b15-8fe5-4d4b-af5f-fefc2a4226f5",
   "metadata": {},
   "outputs": [
    {
     "name": "stdout",
     "output_type": "stream",
     "text": [
      "Congratulations on adopting a new furry family member! German Shepherds are intelligent, loyal, and loving companions. Training is essential to help your dog become a well-behaved and well-adjusted member of your family. Here are several training tips to get you started:\n",
      "\n",
      "1. **Establish a routine**: Dogs thrive on routine, so create a schedule for feeding, exercise, playtime, and potty breaks. This will help your dog feel secure and develop good habits.\n",
      "2. **Positive Reinforcement**: Reward your dog with treats, praise, and affection when they exhibit good behavior. Avoid punishment or negative reinforcement, as it can lead to fear and mistrust.\n",
      "**: Teach your dog basic commands like \"sit,\" \"stay,\" \"come,\" \"down,\" and \"leave it.\" Use positive reinforcement and be patient, as it may take time for your dog to learn.\n",
      ", and other animals to help them become confident and calm Shepherds, as they can be naturally protective of their family. Expose your dog to various environments, people"
     ]
    }
   ],
   "source": [
    "for i in response:\n",
    "    print(i.content, end='')"
   ]
  }
 ],
 "metadata": {
  "kernelspec": {
   "display_name": "langchain_env",
   "language": "python",
   "name": "langchain_env"
  },
  "language_info": {
   "codemirror_mode": {
    "name": "ipython",
    "version": 3
   },
   "file_extension": ".py",
   "mimetype": "text/x-python",
   "name": "python",
   "nbconvert_exporter": "python",
   "pygments_lexer": "ipython3",
   "version": "3.10.10"
  }
 },
 "nbformat": 4,
 "nbformat_minor": 5
}
