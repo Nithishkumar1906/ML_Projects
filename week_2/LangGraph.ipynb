{
 "cells": [
  {
   "cell_type": "code",
   "execution_count": 1,
   "id": "a3fb8d41-ab82-4fb4-9cf3-ca587b0c1271",
   "metadata": {},
   "outputs": [],
   "source": [
    "%load_ext dotenv\n",
    "%dotenv"
   ]
  },
  {
   "cell_type": "code",
   "execution_count": 2,
   "id": "a358c2e7-ebd5-407b-af43-a01876da2fca",
   "metadata": {},
   "outputs": [],
   "source": [
    "from langgraph.graph import START, END , StateGraph\n",
    "from typing_extensions import TypedDict\n",
    "from langchain_openai.chat_models import ChatOpenAI\n",
    "from langchain_core.messages import HumanMessage, BaseMessage\n",
    "from langchain_core.runnables import Runnable\n",
    "from collections.abc import Sequence"
   ]
  },
  {
   "cell_type": "code",
   "execution_count": 3,
   "id": "08599e6e-0420-45ee-b13d-90898856f4eb",
   "metadata": {},
   "outputs": [],
   "source": [
    "class State(TypedDict):\n",
    "    messages: Sequence[BaseMessage]"
   ]
  },
  {
   "cell_type": "code",
   "execution_count": 8,
   "id": "5edef22e-7910-4ab4-a6b4-0f642a5292d6",
   "metadata": {},
   "outputs": [],
   "source": [
    "state = State(messages = [HumanMessage(\"Could you tell me about virat kohli??\")])"
   ]
  },
  {
   "cell_type": "code",
   "execution_count": 9,
   "id": "d4b4b8c9-cf50-48c2-ae70-13d43420bfc7",
   "metadata": {},
   "outputs": [
    {
     "data": {
      "text/plain": [
       "{'messages': [HumanMessage(content='Could you tell me about virat kohli??', additional_kwargs={}, response_metadata={})]}"
      ]
     },
     "execution_count": 9,
     "metadata": {},
     "output_type": "execute_result"
    }
   ],
   "source": [
    "state\n"
   ]
  },
  {
   "cell_type": "code",
   "execution_count": 10,
   "id": "f61a1f4e-3473-497b-b4de-9a585bbf306a",
   "metadata": {},
   "outputs": [
    {
     "name": "stdout",
     "output_type": "stream",
     "text": [
      "================================\u001b[1m Human Message \u001b[0m=================================\n",
      "\n",
      "Could you tell me about virat kohli??\n"
     ]
    }
   ],
   "source": [
    "state[\"messages\"][0].pretty_print()"
   ]
  },
  {
   "cell_type": "code",
   "execution_count": 12,
   "id": "dcc494e8-74ea-4b79-9080-43419ca17949",
   "metadata": {},
   "outputs": [],
   "source": [
    "import os\n",
    "os.environ[\"OPENAI_API_KEY\"] = \"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\""
   ]
  },
  {
   "cell_type": "code",
   "execution_count": 13,
   "id": "2448e7a4-96ce-4b0b-ae42-c6e40b641207",
   "metadata": {},
   "outputs": [],
   "source": [
    "import openai\n",
    "openai.api_key = os.getenv(\"OPENAI_API_KEY\")"
   ]
  },
  {
   "cell_type": "code",
   "execution_count": 16,
   "id": "88126888-c81a-442b-a8a5-6b957d9d9f94",
   "metadata": {},
   "outputs": [
    {
     "name": "stderr",
     "output_type": "stream",
     "text": [
      "C:\\Users\\hp\\.conda\\envs\\langgraph_env\\Lib\\site-packages\\IPython\\core\\interactiveshell.py:3639: UserWarning: Parameters {'seed'} should be specified explicitly. Instead they were passed in as part of `model_kwargs` parameter.\n",
      "  if await self.run_code(code, result, async_=asy):\n"
     ]
    }
   ],
   "source": [
    "os.environ[\"OPENAI_API_BASE\"] = \"https://api.groq.com/openai/v1\"\n",
    "chat = ChatOpenAI(\n",
    "    model_name=\"llama3-70b-8192\", \n",
    "    model_kwargs={\"seed\": 365},\n",
    "    temperature=0,\n",
    "    max_completion_tokens=100)"
   ]
  },
  {
   "cell_type": "code",
   "execution_count": 17,
   "id": "60a131e2-3522-425d-aca0-134bad6fb435",
   "metadata": {},
   "outputs": [],
   "source": [
    "response = chat.invoke(state[\"messages\"])"
   ]
  },
  {
   "cell_type": "code",
   "execution_count": 18,
   "id": "c5e4d02d-0ef2-4940-92b6-99fe876646c9",
   "metadata": {},
   "outputs": [
    {
     "data": {
      "text/plain": [
       "AIMessage(content=\"Virat Kohli! One of the most successful and dominant cricketers of our time. Here's a brief overview of his career and achievements:\\n\\n**Early Life and Career**\\n\\nVirat Kohli was born on November 5, 1988, in Delhi, India. He started playing cricket at a young age and was part of the Delhi Under-15 team. He made his first-class debut for Delhi in 2006 and quickly rose through the ranks.\\n\\n**International Career**\\n\\nKoh\", additional_kwargs={'refusal': None}, response_metadata={'token_usage': {'completion_tokens': 100, 'prompt_tokens': 21, 'total_tokens': 121, 'completion_tokens_details': None, 'prompt_tokens_details': None, 'queue_time': 0.057806586, 'prompt_time': 0.000352454, 'completion_time': 0.36586122, 'total_time': 0.366213674}, 'model_name': 'llama3-70b-8192', 'system_fingerprint': 'fp_dd4ae1c591', 'id': 'chatcmpl-682825ed-6377-4100-aaf6-6973221ff976', 'service_tier': None, 'finish_reason': 'length', 'logprobs': None}, id='run--bac13999-02fe-4f6c-82b7-b8a88cb96eb8-0', usage_metadata={'input_tokens': 21, 'output_tokens': 100, 'total_tokens': 121, 'input_token_details': {}, 'output_token_details': {}})"
      ]
     },
     "execution_count": 18,
     "metadata": {},
     "output_type": "execute_result"
    }
   ],
   "source": [
    "response"
   ]
  },
  {
   "cell_type": "code",
   "execution_count": 20,
   "id": "eef41457-f518-4fd9-97f6-c5715528cf98",
   "metadata": {},
   "outputs": [
    {
     "name": "stdout",
     "output_type": "stream",
     "text": [
      "==================================\u001b[1m Ai Message \u001b[0m==================================\n",
      "\n",
      "Virat Kohli! One of the most successful and dominant cricketers of our time. Here's a brief overview of his career and achievements:\n",
      "\n",
      "**Early Life and Career**\n",
      "\n",
      "Virat Kohli was born on November 5, 1988, in Delhi, India. He started playing cricket at a young age and was part of the Delhi Under-15 team. He made his first-class debut for Delhi in 2006 and quickly rose through the ranks.\n",
      "\n",
      "**International Career**\n",
      "\n",
      "Koh\n"
     ]
    }
   ],
   "source": [
    "response.pretty_print()"
   ]
  },
  {
   "cell_type": "code",
   "execution_count": 22,
   "id": "c14c125f-c855-4120-9d97-923009fa6467",
   "metadata": {},
   "outputs": [],
   "source": [
    "def chatbot(state:State) -> State:\n",
    "    print(f\"\\n----> ENTERING CHATBOT:\")\n",
    "    response = chat.invoke(state[\"messages\"])\n",
    "    response.pretty_print()\n",
    "    return State(messages = [response])"
   ]
  },
  {
   "cell_type": "code",
   "execution_count": 23,
   "id": "ecffddb1-520c-459f-8af8-e02dbf74cd5e",
   "metadata": {},
   "outputs": [
    {
     "name": "stdout",
     "output_type": "stream",
     "text": [
      "\n",
      "----> ENTERING CHATBOT:\n",
      "==================================\u001b[1m Ai Message \u001b[0m==================================\n",
      "\n",
      "Virat Kohli! One of the most successful and dominant cricketers of our time. Here's a brief overview of his career and achievements:\n",
      "\n",
      "**Early Life and Career**\n",
      "\n",
      "Virat Kohli was born on November 5, 1988, in Delhi, India. He started playing cricket at a young age and was part of the Delhi Under-15 team. He made his first-class debut for Delhi in 2006 and quickly rose through the ranks.\n",
      "\n",
      "**International Career**\n",
      "\n",
      "Koh\n"
     ]
    },
    {
     "data": {
      "text/plain": [
       "{'messages': [AIMessage(content=\"Virat Kohli! One of the most successful and dominant cricketers of our time. Here's a brief overview of his career and achievements:\\n\\n**Early Life and Career**\\n\\nVirat Kohli was born on November 5, 1988, in Delhi, India. He started playing cricket at a young age and was part of the Delhi Under-15 team. He made his first-class debut for Delhi in 2006 and quickly rose through the ranks.\\n\\n**International Career**\\n\\nKoh\", additional_kwargs={'refusal': None}, response_metadata={'token_usage': {'completion_tokens': 100, 'prompt_tokens': 21, 'total_tokens': 121, 'completion_tokens_details': None, 'prompt_tokens_details': None, 'queue_time': 0.053956661, 'prompt_time': 0.000634389, 'completion_time': 0.357273481, 'total_time': 0.35790787}, 'model_name': 'llama3-70b-8192', 'system_fingerprint': 'fp_dd4ae1c591', 'id': 'chatcmpl-8bedf110-c9a5-43c1-9002-769b1d4a139a', 'service_tier': None, 'finish_reason': 'length', 'logprobs': None}, id='run--0879ad9c-7a53-4f23-845e-97b1758b1689-0', usage_metadata={'input_tokens': 21, 'output_tokens': 100, 'total_tokens': 121, 'input_token_details': {}, 'output_token_details': {}})]}"
      ]
     },
     "execution_count": 23,
     "metadata": {},
     "output_type": "execute_result"
    }
   ],
   "source": [
    "chatbot(state)"
   ]
  },
  {
   "cell_type": "code",
   "execution_count": 24,
   "id": "682dfd6c-ac4d-4954-a35a-7b4ebb062783",
   "metadata": {},
   "outputs": [],
   "source": [
    "graph = StateGraph(State)"
   ]
  },
  {
   "cell_type": "code",
   "execution_count": 25,
   "id": "6c0c509d-7b76-4357-9387-6d189a3e8102",
   "metadata": {},
   "outputs": [
    {
     "data": {
      "text/plain": [
       "<langgraph.graph.state.StateGraph at 0x1dd2fb27ed0>"
      ]
     },
     "execution_count": 25,
     "metadata": {},
     "output_type": "execute_result"
    }
   ],
   "source": [
    "graph.add_node(\"chatbot\",chatbot)\n",
    "graph.add_edge(START, \"chatbot\")\n",
    "graph.add_edge(\"chatbot\", END)"
   ]
  },
  {
   "cell_type": "code",
   "execution_count": 26,
   "id": "f698ceab-c830-4da2-a085-3ab7231141d9",
   "metadata": {},
   "outputs": [
    {
     "data": {
      "image/png": "[encoded data removed]",
      "text/plain": [
       "<langgraph.graph.state.CompiledStateGraph object at 0x000001DD2D2F9350>"
      ]
     },
     "execution_count": 26,
     "metadata": {},
     "output_type": "execute_result"
    }
   ],
   "source": [
    "graph.compile()"
   ]
  },
  {
   "cell_type": "code",
   "execution_count": 27,
   "id": "de32c073-10b0-4eb7-b96e-4ded4d484cd8",
   "metadata": {},
   "outputs": [
    {
     "name": "stdout",
     "output_type": "stream",
     "text": [
      "\n",
      "----> ENTERING CHATBOT:\n",
      "==================================\u001b[1m Ai Message \u001b[0m==================================\n",
      "\n",
      "Virat Kohli! One of the most successful and dominant cricketers of our time. Here's a brief overview of his career and achievements:\n",
      "\n",
      "**Early Life and Career**\n",
      "\n",
      "Virat Kohli was born on November 5, 1988, in Delhi, India. He started playing cricket at a young age and was part of the Delhi Under-15 team. He made his first-class debut for Delhi in 2006 and quickly rose through the ranks.\n",
      "\n",
      "**International Career**\n",
      "\n",
      "Koh\n"
     ]
    },
    {
     "data": {
      "text/plain": [
       "{'messages': [AIMessage(content=\"Virat Kohli! One of the most successful and dominant cricketers of our time. Here's a brief overview of his career and achievements:\\n\\n**Early Life and Career**\\n\\nVirat Kohli was born on November 5, 1988, in Delhi, India. He started playing cricket at a young age and was part of the Delhi Under-15 team. He made his first-class debut for Delhi in 2006 and quickly rose through the ranks.\\n\\n**International Career**\\n\\nKoh\", additional_kwargs={'refusal': None}, response_metadata={'token_usage': {'completion_tokens': 100, 'prompt_tokens': 21, 'total_tokens': 121, 'completion_tokens_details': None, 'prompt_tokens_details': None, 'queue_time': 0.057841855000000005, 'prompt_time': 0.000338594, 'completion_time': 0.352006642, 'total_time': 0.352345236}, 'model_name': 'llama3-70b-8192', 'system_fingerprint': 'fp_dd4ae1c591', 'id': 'chatcmpl-998f03cc-2655-4dfc-bcf7-73c7d8215fde', 'service_tier': None, 'finish_reason': 'length', 'logprobs': None}, id='run--f8100f6b-b613-4dcd-9417-ae6894c2320b-0', usage_metadata={'input_tokens': 21, 'output_tokens': 100, 'total_tokens': 121, 'input_token_details': {}, 'output_token_details': {}})]}"
      ]
     },
     "execution_count": 27,
     "metadata": {},
     "output_type": "execute_result"
    }
   ],
   "source": [
    "graph.compile().invoke(state)"
   ]
  },
  {
   "cell_type": "code",
   "execution_count": 29,
   "id": "6d008c7b-0d9c-4e3c-8e8a-c9d4a7c40b7c",
   "metadata": {},
   "outputs": [],
   "source": [
    "from typing import Literal"
   ]
  },
  {
   "cell_type": "code",
   "execution_count": 30,
   "id": "4b953cc2-85e5-4fe5-b0d9-0af4e99fe0c8",
   "metadata": {},
   "outputs": [],
   "source": [
    "def ask_question(state:State) -> State:\n",
    "    print(f\"\\n----> ENTERING CHATBOT:\")\n",
    "    print(\"WHAT IS YOUR QUESTION??\")\n",
    "    return State(messages = [HumanMessage(input())])"
   ]
  },
  {
   "cell_type": "code",
   "execution_count": 31,
   "id": "b5f1ffd2-403c-43f2-b189-002914cca1b2",
   "metadata": {},
   "outputs": [
    {
     "name": "stdout",
     "output_type": "stream",
     "text": [
      "\n",
      "----> ENTERING CHATBOT:\n",
      "WHAT IS YOUR QUESTION??\n"
     ]
    },
    {
     "name": "stdin",
     "output_type": "stream",
     "text": [
      " tell me about MS dhoni\n"
     ]
    },
    {
     "data": {
      "text/plain": [
       "{'messages': [HumanMessage(content='tell me about MS dhoni', additional_kwargs={}, response_metadata={})]}"
      ]
     },
     "execution_count": 31,
     "metadata": {},
     "output_type": "execute_result"
    }
   ],
   "source": [
    "ask_question(State(messages = []))"
   ]
  },
  {
   "cell_type": "code",
   "execution_count": 32,
   "id": "08c9c573-0763-4e99-907d-8a9ffe4a1a76",
   "metadata": {},
   "outputs": [],
   "source": [
    "def ask_another_question(state:State) -> State:\n",
    "    print(f\"\\n----> ENTERING CHATBOT:\")\n",
    "    print(\"DO YOU HAVE ANY OTHER QUESTIONS (YES/NO)??\")\n",
    "    return State(messages = [HumanMessage(input())])"
   ]
  },
  {
   "cell_type": "code",
   "execution_count": 34,
   "id": "0ebbb7cf-3966-4b56-96a1-08dccddd6ec1",
   "metadata": {},
   "outputs": [
    {
     "name": "stdout",
     "output_type": "stream",
     "text": [
      "\n",
      "----> ENTERING CHATBOT:\n",
      "DO YOU HAVE ANY OTHER QUESTIONS (YES/NO)??\n"
     ]
    },
    {
     "name": "stdin",
     "output_type": "stream",
     "text": [
      " yes\n"
     ]
    },
    {
     "data": {
      "text/plain": [
       "{'messages': [HumanMessage(content='yes', additional_kwargs={}, response_metadata={})]}"
      ]
     },
     "execution_count": 34,
     "metadata": {},
     "output_type": "execute_result"
    }
   ],
   "source": [
    "ask_another_question(State(messages = []))"
   ]
  },
  {
   "cell_type": "markdown",
   "id": "3f9434cc-a5d2-448d-8c37-cba7001e6449",
   "metadata": {},
   "source": [
    "ROUTING FUNCTIONS"
   ]
  },
  {
   "cell_type": "code",
   "execution_count": 36,
   "id": "300000dc-15dd-471b-bce8-365f6fa1050a",
   "metadata": {},
   "outputs": [],
   "source": [
    "def routing_function(state: State)-> str:\n",
    "\n",
    "    if state[\"messages\"][0].content == \"yes\":\n",
    "        return \"ask_question\"\n",
    "    else:\n",
    "        return \"__end__\""
   ]
  },
  {
   "cell_type": "code",
   "execution_count": 74,
   "id": "ea46d52b-e08e-42f4-a6ee-e6075881823f",
   "metadata": {},
   "outputs": [],
   "source": [
    "graph = StateGraph(State)"
   ]
  },
  {
   "cell_type": "code",
   "execution_count": 75,
   "id": "9cf75e7a-545d-4111-b62e-ca07bc1778cc",
   "metadata": {},
   "outputs": [
    {
     "data": {
      "text/plain": [
       "<langgraph.graph.state.StateGraph at 0x1dd329827d0>"
      ]
     },
     "execution_count": 75,
     "metadata": {},
     "output_type": "execute_result"
    }
   ],
   "source": [
    "graph.add_node(\"ask_question\", ask_question)\n",
    "graph.add_node(\"chatbot\", chatbot)\n",
    "graph.add_node(\"ask_another_question\", ask_another_question)\n",
    "\n",
    "graph.add_edge(START,\"ask_question\")\n",
    "graph.add_edge(\"ask_question\", \"chatbot\")\n",
    "graph.add_edge(\"chatbot\", \"ask_another_question\")\n",
    "graph.add_conditional_edges(\n",
    "    source=\"ask_another_question\",\n",
    "    path=routing_function\n",
    ")\n"
   ]
  },
  {
   "cell_type": "code",
   "execution_count": 76,
   "id": "8b80d84a-5cf0-4de7-be3c-7a73a622e19f",
   "metadata": {},
   "outputs": [
    {
     "data": {
      "image/png": "[encoded data removed]",
      "text/plain": [
       "<langgraph.graph.state.CompiledStateGraph object at 0x000001DD329AF210>"
      ]
     },
     "execution_count": 76,
     "metadata": {},
     "output_type": "execute_result"
    }
   ],
   "source": [
    "complied = graph.compile()\n",
    "complied"
   ]
  },
  {
   "cell_type": "code",
   "execution_count": 77,
   "id": "718ad4ac-ad0e-4be6-8b77-e995dcd37c03",
   "metadata": {},
   "outputs": [
    {
     "name": "stdout",
     "output_type": "stream",
     "text": [
      "\n",
      "----> ENTERING CHATBOT:\n",
      "WHAT IS YOUR QUESTION??\n"
     ]
    },
    {
     "name": "stdin",
     "output_type": "stream",
     "text": [
      " tell me about ms dhoni\n"
     ]
    },
    {
     "name": "stdout",
     "output_type": "stream",
     "text": [
      "\n",
      "----> ENTERING CHATBOT:\n",
      "==================================\u001b[1m Ai Message \u001b[0m==================================\n",
      "\n",
      "Mahendra Singh Dhoni, commonly known as MS Dhoni, is a former Indian international cricketer who served as the captain of the Indian national team in all formats of the game. He is widely regarded as one of the greatest wicket-keeper-batsmen and captains in the history of cricket.\n",
      "\n",
      "Early Life and Career:\n",
      "\n",
      "Dhoni was born on July 7, 1981, in Ranchi, Bihar (now Jharkhand), India. He was a goalkeeper in\n",
      "\n",
      "----> ENTERING CHATBOT:\n",
      "DO YOU HAVE ANY OTHER QUESTIONS (YES/NO)??\n"
     ]
    },
    {
     "name": "stdin",
     "output_type": "stream",
     "text": [
      " yes\n"
     ]
    },
    {
     "name": "stdout",
     "output_type": "stream",
     "text": [
      "\n",
      "----> ENTERING CHATBOT:\n",
      "WHAT IS YOUR QUESTION??\n"
     ]
    },
    {
     "name": "stdin",
     "output_type": "stream",
     "text": [
      " tell me about virat kohli\n"
     ]
    },
    {
     "name": "stdout",
     "output_type": "stream",
     "text": [
      "\n",
      "----> ENTERING CHATBOT:\n",
      "==================================\u001b[1m Ai Message \u001b[0m==================================\n",
      "\n",
      "Virat Kohli!\n",
      "\n",
      "Virat Kohli is an Indian cricketer and the current captain of the India national team. He is widely regarded as one of the greatest batsmen of all time, and is often considered the best batsman of his generation.\n",
      "\n",
      "Here are some interesting facts about Virat Kohli:\n",
      "\n",
      "**Early Life and Career**\n",
      "\n",
      "* Born on November 5, 1988, in Delhi, India\n",
      "* Started playing cricket at the age of 9\n",
      "* Represented Delhi\n",
      "\n",
      "----> ENTERING CHATBOT:\n",
      "DO YOU HAVE ANY OTHER QUESTIONS (YES/NO)??\n"
     ]
    },
    {
     "name": "stdin",
     "output_type": "stream",
     "text": [
      " no\n"
     ]
    },
    {
     "data": {
      "text/plain": [
       "{'messages': [HumanMessage(content='no', additional_kwargs={}, response_metadata={})]}"
      ]
     },
     "execution_count": 77,
     "metadata": {},
     "output_type": "execute_result"
    }
   ],
   "source": [
    "complied.invoke(State(messages = []))"
   ]
  }
 ],
 "metadata": {
  "kernelspec": {
   "display_name": "langgraph_env",
   "language": "python",
   "name": "langgraph_env"
  },
  "language_info": {
   "codemirror_mode": {
    "name": "ipython",
    "version": 3
   },
   "file_extension": ".py",
   "mimetype": "text/x-python",
   "name": "python",
   "nbconvert_exporter": "python",
   "pygments_lexer": "ipython3",
   "version": "3.11.11"
  }
 },
 "nbformat": 4,
 "nbformat_minor": 5
}
