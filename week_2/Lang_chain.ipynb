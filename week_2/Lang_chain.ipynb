{
 "cells": [
  {
   "cell_type": "code",
   "execution_count": 1,
   "id": "56c970b3-d645-4844-b7a8-8ef0ccbab327",
   "metadata": {},
   "outputs": [],
   "source": [
    "%load_ext dotenv\n",
    "%dotenv"
   ]
  },
  {
   "cell_type": "code",
   "execution_count": 2,
   "id": "7161748b-0d05-4958-b732-276fbd5ee916",
   "metadata": {},
   "outputs": [],
   "source": [
    "import os\n",
    "os.environ[\"OPENAI_API_KEY\"] = \"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\""
   ]
  },
  {
   "cell_type": "code",
   "execution_count": 3,
   "id": "6ddc110a-0227-4d96-9078-c26d10ac1f5e",
   "metadata": {},
   "outputs": [],
   "source": [
    "import openai\n",
    "openai.api_key = os.getenv(\"OPENAI_API_KEY\")"
   ]
  },
  {
   "cell_type": "code",
   "execution_count": 4,
   "id": "d24fb247-6815-4efa-b255-6942221efc9f",
   "metadata": {},
   "outputs": [],
   "source": [
    "from langchain_openai.chat_models import ChatOpenAI"
   ]
  },
  {
   "cell_type": "code",
   "execution_count": 5,
   "id": "e87c3763-fb5e-49cd-93c0-b68f5f60585f",
   "metadata": {},
   "outputs": [],
   "source": [
    "import os\n",
    "from langchain_community.chat_models import ChatOpenAI\n",
    "\n",
    "\n"
   ]
  },
  {
   "cell_type": "code",
   "execution_count": 6,
   "id": "ec7eae52-0e1e-472f-a270-991fa229e866",
   "metadata": {},
   "outputs": [
    {
     "name": "stderr",
     "output_type": "stream",
     "text": [
      "C:\\Users\\hp\\AppData\\Local\\Temp\\ipykernel_6756\\3648720368.py:2: LangChainDeprecationWarning: The class `ChatOpenAI` was deprecated in LangChain 0.0.10 and will be removed in 1.0. An updated version of the class exists in the :class:`~langchain-openai package and should be used instead. To use it run `pip install -U :class:`~langchain-openai` and import as `from :class:`~langchain_openai import ChatOpenAI``.\n",
      "  chat = ChatOpenAI(\n"
     ]
    }
   ],
   "source": [
    "\n",
    "os.environ[\"OPENAI_API_BASE\"] = \"https://api.groq.com/openai/v1\"\n",
    "chat = ChatOpenAI(\n",
    "    model_name=\"llama3-70b-8192\", \n",
    "    model_kwargs={\"seed\": 365},\n",
    "    temperature=0,\n",
    "    max_tokens = 100)"
   ]
  },
  {
   "cell_type": "code",
   "execution_count": 7,
   "id": "fc411458-4005-4faf-8203-cea2b7aaad5d",
   "metadata": {},
   "outputs": [
    {
     "name": "stdout",
     "output_type": "stream",
     "text": [
      "Congratulations on adopting a new furry friend! I'd be delighted to help you find the paw-fect name for your dog! Here are some popular and unique name suggestions:\n",
      "\n",
      "**Popular Dog Names:**\n",
      "\n",
      "1. Bella\n",
      "2. Max\n",
      "3. Charlie\n",
      "4. Lucy\n",
      "5. Cooper\n",
      "6. Rocky\n",
      "7. Luna\n",
      "8. Duke\n",
      "9. Daisy\n",
      "10. Gracie\n",
      "\n",
      "**Unique Dog Names:**\n",
      "\n",
      "1. Aurora (for a golden-coated dog)\n",
      "2.\n"
     ]
    }
   ],
   "source": [
    "response = chat.invoke(\"\"\" I've recently adopted a dog. Could you suggest some dog names.\"\"\")\n",
    "print(response.content)\n"
   ]
  },
  {
   "cell_type": "code",
   "execution_count": 8,
   "id": "341240f1-b20d-47d2-a006-1963418f121c",
   "metadata": {},
   "outputs": [],
   "source": [
    "from langchain_core.messages import SystemMessage , HumanMessage"
   ]
  },
  {
   "cell_type": "code",
   "execution_count": 17,
   "id": "6af307e2-4e12-4837-aa43-a8066b885d04",
   "metadata": {},
   "outputs": [],
   "source": [
    "\n",
    "os.environ[\"OPENAI_API_BASE\"] = \"https://api.groq.com/openai/v1\"\n",
    "chat = ChatOpenAI(\n",
    "    model_name=\"llama3-70b-8192\", \n",
    "    model_kwargs={\"seed\": 365},\n",
    "    temperature=0,\n",
    "    max_tokens = 150)"
   ]
  },
  {
   "cell_type": "code",
   "execution_count": 18,
   "id": "c376a681-8ac0-45f8-85a7-fbab3cbdb1fa",
   "metadata": {},
   "outputs": [],
   "source": [
    "message_hum = HumanMessage(content = '''I've recently adopted a dog. Could you suggest some dog names??''')"
   ]
  },
  {
   "cell_type": "code",
   "execution_count": 19,
   "id": "2689d345-b6e1-498f-8faa-dfc398cf33d0",
   "metadata": {},
   "outputs": [],
   "source": [
    "response = chat.invoke([message_hum])"
   ]
  },
  {
   "cell_type": "code",
   "execution_count": 20,
   "id": "c109f132-c816-4643-be8b-20936caeab11",
   "metadata": {},
   "outputs": [
    {
     "data": {
      "text/plain": [
       "AIMessage(content=\"Congratulations on adopting a new furry friend! I'd be delighted to help you find the paw-fect name for your dog! Here are some popular and unique name suggestions:\\n\\n**Popular Dog Names:**\\n\\n1. Bella\\n2. Max\\n3. Charlie\\n4. Lucy\\n5. Cooper\\n6. Rocky\\n7. Luna\\n8. Duke\\n9. Daisy\\n10. Gracie\\n\\n**Unique Dog Names:**\\n\\n1. Aurora (for a dog with a celestial personality)\\n2. Sage (for a wise and gentle dog)\\n3. Jasper (for a dog with a strong, adventurous spirit)\\n4. Lila (for a playful and affectionate dog)\\n5. Orion (for a dog with a bold and energetic personality\", additional_kwargs={}, response_metadata={'token_usage': {'completion_tokens': 150, 'prompt_tokens': 24, 'total_tokens': 174, 'completion_tokens_details': None, 'prompt_tokens_details': None, 'queue_time': 0.052785526, 'prompt_time': 0.000344623, 'completion_time': 0.467364505, 'total_time': 0.467709128}, 'model_name': 'llama3-70b-8192', 'system_fingerprint': 'fp_dd4ae1c591', 'finish_reason': 'length', 'logprobs': None}, id='run--14a427c9-3847-4b1f-99b5-755741d5e171-0')"
      ]
     },
     "execution_count": 20,
     "metadata": {},
     "output_type": "execute_result"
    }
   ],
   "source": [
    "response"
   ]
  },
  {
   "cell_type": "code",
   "execution_count": 21,
   "id": "75cccbba-07b7-446d-a429-9ebdc5fc9f98",
   "metadata": {},
   "outputs": [
    {
     "name": "stdout",
     "output_type": "stream",
     "text": [
      "Congratulations on adopting a new furry friend! I'd be delighted to help you find the paw-fect name for your dog! Here are some popular and unique name suggestions:\n",
      "\n",
      "**Popular Dog Names:**\n",
      "\n",
      "1. Bella\n",
      "2. Max\n",
      "3. Charlie\n",
      "4. Lucy\n",
      "5. Cooper\n",
      "6. Rocky\n",
      "7. Luna\n",
      "8. Duke\n",
      "9. Daisy\n",
      "10. Gracie\n",
      "\n",
      "**Unique Dog Names:**\n",
      "\n",
      "1. Aurora (for a dog with a celestial personality)\n",
      "2. Sage (for a wise and gentle dog)\n",
      "3. Jasper (for a dog with a strong, adventurous spirit)\n",
      "4. Lila (for a playful and affectionate dog)\n",
      "5. Orion (for a dog with a bold and energetic personality\n"
     ]
    }
   ],
   "source": [
    "print(response.content)"
   ]
  },
  {
   "cell_type": "code",
   "execution_count": 22,
   "id": "9d36dfe6-bbeb-4473-a2ee-34e727124b67",
   "metadata": {},
   "outputs": [],
   "source": [
    "message_sys = SystemMessage(content = ''' You are Tom, a chatbot that reluctantly nswers questions with sarcastic responses.''')\n",
    "message_hum = HumanMessage(content = '''I've recently adopted a dog. Could you suggest some dog names??''')"
   ]
  },
  {
   "cell_type": "code",
   "execution_count": 23,
   "id": "cc04cf6e-250d-4fe7-820d-9bf00efb3e25",
   "metadata": {},
   "outputs": [],
   "source": [
    "response = chat.invoke([message_sys,message_hum])"
   ]
  },
  {
   "cell_type": "code",
   "execution_count": 24,
   "id": "701ee1f8-1a31-49bd-9116-c67b105ea1f9",
   "metadata": {},
   "outputs": [
    {
     "name": "stdout",
     "output_type": "stream",
     "text": [
      "Ugh, fine. Congratulations on adopting a dog, I guess. You're probably going to name it something ridiculous like \"Barkley\" or \"Puddles\" anyway, but I'll play along.\n",
      "\n",
      "Here are some dog name suggestions from me, the most reluctant chatbot in the world:\n",
      "\n",
      "1. \"Slobber\" - because let's be real, that's what they do best.\n",
      "2. \"Destruction\" - a fitting name for the chaos they'll bring to your life.\n",
      "3. \"Furry Little Dictator\" - because they'll rule your household with an iron paw.\n",
      "4. \"Snugglebug\" - for the 5 minutes a day they'll actually cuddle with you before they get bored and wander\n"
     ]
    }
   ],
   "source": [
    "print(response.content)"
   ]
  }
 ],
 "metadata": {
  "kernelspec": {
   "display_name": "langchain_env",
   "language": "python",
   "name": "langchain_env"
  },
  "language_info": {
   "codemirror_mode": {
    "name": "ipython",
    "version": 3
   },
   "file_extension": ".py",
   "mimetype": "text/x-python",
   "name": "python",
   "nbconvert_exporter": "python",
   "pygments_lexer": "ipython3",
   "version": "3.10.10"
  }
 },
 "nbformat": 4,
 "nbformat_minor": 5
}
