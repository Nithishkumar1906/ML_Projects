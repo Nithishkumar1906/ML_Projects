{
 "cells": [
  {
   "cell_type": "code",
   "execution_count": 1,
   "id": "a3fb8d41-ab82-4fb4-9cf3-ca587b0c1271",
   "metadata": {},
   "outputs": [],
   "source": [
    "%load_ext dotenv\n",
    "%dotenv"
   ]
  },
  {
   "cell_type": "code",
   "execution_count": 2,
   "id": "a358c2e7-ebd5-407b-af43-a01876da2fca",
   "metadata": {},
   "outputs": [],
   "source": [
    "from langgraph.graph import START, END , StateGraph, MessagesState\n",
    "from typing_extensions import TypedDict\n",
    "from langchain_openai.chat_models import ChatOpenAI\n",
    "from langchain_core.messages import HumanMessage, BaseMessage, AIMessage, RemoveMessage, SystemMessage\n",
    "from langchain_core.runnables import Runnable\n",
    "from langgraph.checkpoint.memory import InMemorySaver\n",
    "import sqlite3\n",
    "from langgraph.checkpoint.sqlite import SqliteSaver"
   ]
  },
  {
   "cell_type": "code",
   "execution_count": 3,
   "id": "08599e6e-0420-45ee-b13d-90898856f4eb",
   "metadata": {},
   "outputs": [],
   "source": [
    "class State(MessagesState):\n",
    "    Summary:str"
   ]
  },
  {
   "cell_type": "code",
   "execution_count": 4,
   "id": "dcc494e8-74ea-4b79-9080-43419ca17949",
   "metadata": {},
   "outputs": [],
   "source": [
    "import os\n",
    "os.environ[\"OPENAI_API_KEY\"] = \"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\""
   ]
  },
  {
   "cell_type": "code",
   "execution_count": 5,
   "id": "2448e7a4-96ce-4b0b-ae42-c6e40b641207",
   "metadata": {},
   "outputs": [],
   "source": [
    "import openai\n",
    "openai.api_key = os.getenv(\"OPENAI_API_KEY\")"
   ]
  },
  {
   "cell_type": "code",
   "execution_count": 6,
   "id": "88126888-c81a-442b-a8a5-6b957d9d9f94",
   "metadata": {},
   "outputs": [
    {
     "name": "stderr",
     "output_type": "stream",
     "text": [
      "C:\\Users\\hp\\.conda\\envs\\langgraph_env\\Lib\\site-packages\\IPython\\core\\interactiveshell.py:3639: UserWarning: Parameters {'seed'} should be specified explicitly. Instead they were passed in as part of `model_kwargs` parameter.\n",
      "  if await self.run_code(code, result, async_=asy):\n"
     ]
    }
   ],
   "source": [
    "os.environ[\"OPENAI_API_BASE\"] = \"https://api.groq.com/openai/v1\"\n",
    "chat = ChatOpenAI(\n",
    "    model_name=\"llama3-70b-8192\", \n",
    "    model_kwargs={\"seed\": 365},\n",
    "    temperature=0,\n",
    "    max_completion_tokens=100)"
   ]
  },
  {
   "cell_type": "code",
   "execution_count": 7,
   "id": "c14c125f-c855-4120-9d97-923009fa6467",
   "metadata": {},
   "outputs": [],
   "source": [
    "def chatbot(state:State) -> State:\n",
    "    print(f\"\\n----> ENTERING CHATBOT:\")\n",
    "    system_message = f'''\n",
    "    Here's a Quick Summary of whats been discussed so far:\n",
    "    {state.get(\"summary\",\"\")}\n",
    "    keep this in mind as you answer the next question.\n",
    "    '''\n",
    "    response = chat.invoke([SystemMessage(system_message)] + state[\"messages\"])\n",
    "    response.pretty_print()\n",
    "    return State(messages = [response])"
   ]
  },
  {
   "cell_type": "code",
   "execution_count": 8,
   "id": "4b953cc2-85e5-4fe5-b0d9-0af4e99fe0c8",
   "metadata": {},
   "outputs": [],
   "source": [
    "def ask_question(state:State) -> State:\n",
    "    print(f\"\\n----> ENTERING CHATBOT:\")\n",
    "    print(\"WHAT IS YOUR QUESTION??\")\n",
    "    return State(messages = [HumanMessage(input())])"
   ]
  },
  {
   "cell_type": "code",
   "execution_count": 9,
   "id": "dfed6200-d20a-41ac-b5fe-87280ad9280e",
   "metadata": {},
   "outputs": [],
   "source": [
    "def summarize_message(state:State)->State:\n",
    "    print(f\"\\n----> ENTERING SUMMARIZE_MESSAGES:\")\n",
    "\n",
    "    new_conversation = \"\"\n",
    "    for i in state[\"messages\"]:\n",
    "        new_conversation += f\"{i.type}:{i.content}\\n\\n\"\n",
    "    \n",
    "    summary_instruction = f'''\n",
    "    You are a helpful assistant. Your job is to read the provided text and generate a clear, concise summary. \n",
    "    Focus only on the core points and avoid unnecessary repetition or filler.\n",
    "    Instructions:\n",
    "    - Summarize the input in 3 to 5 sentences.\n",
    "    - Avoid copying full sentences from the original text.\n",
    "    - Use your own words to rewrite the key information.\n",
    "    - Ensure the summary is easy to understand.\n",
    "\n",
    "    previous summary:\n",
    "    {state.get(\"summary\",\"\")}\n",
    "    New conversation:\n",
    "    {new_conversation}\n",
    "    '''\n",
    "    print(summary_instruction)\n",
    "    summary = chat.invoke([HumanMessage(summary_instruction)])\n",
    "    remove_messages = [RemoveMessage(id=i.id) for i in state[\"messages\"][:]]\n",
    "    return State(message = remove_messages , summary = summary.content)\n"
   ]
  },
  {
   "cell_type": "code",
   "execution_count": 10,
   "id": "ea46d52b-e08e-42f4-a6ee-e6075881823f",
   "metadata": {},
   "outputs": [],
   "source": [
    "graph = StateGraph(State)"
   ]
  },
  {
   "cell_type": "code",
   "execution_count": 11,
   "id": "9cf75e7a-545d-4111-b62e-ca07bc1778cc",
   "metadata": {},
   "outputs": [
    {
     "data": {
      "text/plain": [
       "<langgraph.graph.state.StateGraph at 0x25da98a0cd0>"
      ]
     },
     "execution_count": 11,
     "metadata": {},
     "output_type": "execute_result"
    }
   ],
   "source": [
    "graph.add_node(\"ask_question\",ask_question)\n",
    "graph.add_node(\"chatbot\",chatbot)\n",
    "graph.add_node(\"summarize_message\", summarize_message)\n",
    "\n",
    "graph.add_edge(START,\"ask_question\")\n",
    "graph.add_edge(\"ask_question\",\"chatbot\")\n",
    "graph.add_edge(\"chatbot\", \"summarize_message\")\n",
    "graph.add_edge(\"summarize_message\", END)\n",
    "#graph.add_conditional_edges(source=\"ask_another_question\",path = routing_function)"
   ]
  },
  {
   "cell_type": "code",
   "execution_count": 14,
   "id": "a30dfc51-1a16-4dee-b170-04cd5b8571b0",
   "metadata": {},
   "outputs": [],
   "source": [
    "db_path = r\"C:\\Users\\hp\\Desktop\\Tech Mango\\Database\\langgraph.db\"\n",
    "connect = sqlite3.connect(database = db_path, check_same_thread = False) "
   ]
  },
  {
   "cell_type": "code",
   "execution_count": 15,
   "id": "e5df2809-2850-4de3-bfde-e87e1e8ea633",
   "metadata": {},
   "outputs": [],
   "source": [
    "checkpointer = SqliteSaver(connect)"
   ]
  },
  {
   "cell_type": "code",
   "execution_count": 16,
   "id": "8b80d84a-5cf0-4de7-be3c-7a73a622e19f",
   "metadata": {},
   "outputs": [],
   "source": [
    "compiled = graph.compile(checkpointer)"
   ]
  },
  {
   "cell_type": "code",
   "execution_count": 17,
   "id": "718ad4ac-ad0e-4be6-8b77-e995dcd37c03",
   "metadata": {},
   "outputs": [
    {
     "data": {
      "image/png": "[encoded data removed]",
      "text/plain": [
       "<langgraph.graph.state.CompiledStateGraph object at 0x0000025DA9F45650>"
      ]
     },
     "execution_count": 17,
     "metadata": {},
     "output_type": "execute_result"
    }
   ],
   "source": [
    "compiled"
   ]
  },
  {
   "cell_type": "code",
   "execution_count": 18,
   "id": "78cf95b2-270f-4f8f-940c-b361c127fc00",
   "metadata": {},
   "outputs": [],
   "source": [
    "config_1 = {\"configurable\":{\"thread_id\":\"1\"}}"
   ]
  },
  {
   "cell_type": "code",
   "execution_count": 19,
   "id": "c1d1b25f-b65a-4a30-8d1d-749782fc7db8",
   "metadata": {
    "scrolled": true
   },
   "outputs": [
    {
     "name": "stdout",
     "output_type": "stream",
     "text": [
      "\n",
      "----> ENTERING CHATBOT:\n",
      "WHAT IS YOUR QUESTION??\n"
     ]
    },
    {
     "name": "stdin",
     "output_type": "stream",
     "text": [
      " who is father of python?\n"
     ]
    },
    {
     "name": "stdout",
     "output_type": "stream",
     "text": [
      "\n",
      "----> ENTERING CHATBOT:\n",
      "==================================\u001b[1m Ai Message \u001b[0m==================================\n",
      "\n",
      "The father of Python is Guido van Rossum. He is a Dutch computer programmer who created the Python programming language in the late 1980s and early 1990s.\n",
      "\n",
      "----> ENTERING SUMMARIZE_MESSAGES:\n",
      "\n",
      "    You are a helpful assistant. Your job is to read the provided text and generate a clear, concise summary. \n",
      "    Focus only on the core points and avoid unnecessary repetition or filler.\n",
      "    Instructions:\n",
      "    - Summarize the input in 3 to 5 sentences.\n",
      "    - Avoid copying full sentences from the original text.\n",
      "    - Use your own words to rewrite the key information.\n",
      "    - Ensure the summary is easy to understand.\n",
      "\n",
      "    previous summary:\n",
      "    \n",
      "    New conversation:\n",
      "    human:who is father of python?\n",
      "\n",
      "ai:The father of Python is Guido van Rossum. He is a Dutch computer programmer who created the Python programming language in the late 1980s and early 1990s.\n",
      "\n",
      "\n",
      "    \n"
     ]
    },
    {
     "data": {
      "text/plain": [
       "{'messages': [HumanMessage(content='who is father of python?', additional_kwargs={}, response_metadata={}, id='5a659784-c279-44a4-ad98-e1d698921b38'),\n",
       "  AIMessage(content='The father of Python is Guido van Rossum. He is a Dutch computer programmer who created the Python programming language in the late 1980s and early 1990s.', additional_kwargs={'refusal': None}, response_metadata={'token_usage': {'completion_tokens': 38, 'prompt_tokens': 48, 'total_tokens': 86, 'completion_tokens_details': None, 'prompt_tokens_details': None, 'queue_time': 0.053806889, 'prompt_time': 0.001104511, 'completion_time': 0.130282223, 'total_time': 0.131386734}, 'model_name': 'llama3-70b-8192', 'system_fingerprint': 'fp_dd4ae1c591', 'id': 'chatcmpl-1e363d46-c5d7-4926-bc1a-5180d667ed19', 'service_tier': None, 'finish_reason': 'stop', 'logprobs': None}, id='run--30675cfb-d5e4-4ab3-bd01-0ab94ac1ff46-0', usage_metadata={'input_tokens': 48, 'output_tokens': 38, 'total_tokens': 86, 'input_token_details': {}, 'output_token_details': {}})]}"
      ]
     },
     "execution_count": 19,
     "metadata": {},
     "output_type": "execute_result"
    }
   ],
   "source": [
    "compiled.invoke(State(),config_1)"
   ]
  },
  {
   "cell_type": "code",
   "execution_count": null,
   "id": "417d6be8-c3d6-4890-980a-e4523dcc202c",
   "metadata": {},
   "outputs": [],
   "source": []
  }
 ],
 "metadata": {
  "kernelspec": {
   "display_name": "langgraph_env",
   "language": "python",
   "name": "langgraph_env"
  },
  "language_info": {
   "codemirror_mode": {
    "name": "ipython",
    "version": 3
   },
   "file_extension": ".py",
   "mimetype": "text/x-python",
   "name": "python",
   "nbconvert_exporter": "python",
   "pygments_lexer": "ipython3",
   "version": "3.11.11"
  }
 },
 "nbformat": 4,
 "nbformat_minor": 5
}
