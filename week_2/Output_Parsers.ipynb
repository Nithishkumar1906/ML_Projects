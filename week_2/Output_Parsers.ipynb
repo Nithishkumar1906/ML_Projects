{
 "cells": [
  {
   "cell_type": "code",
   "execution_count": 1,
   "id": "39ea21f6-bc62-4ba0-b52f-d3f9fc2b3ac4",
   "metadata": {},
   "outputs": [],
   "source": [
    "%load_ext dotenv\n",
    "%dotenv"
   ]
  },
  {
   "cell_type": "code",
   "execution_count": 2,
   "id": "c239431d-2d91-4d9d-a952-f1476d3226ca",
   "metadata": {},
   "outputs": [],
   "source": [
    "import os\n",
    "os.environ[\"OPENAI_API_KEY\"] = \"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\""
   ]
  },
  {
   "cell_type": "code",
   "execution_count": 3,
   "id": "b229f05d-aedf-4285-b83b-9c18e2bd57c1",
   "metadata": {},
   "outputs": [],
   "source": [
    "import openai\n",
    "openai.api_key = os.getenv(\"OPENAI_API_KEY\")"
   ]
  },
  {
   "cell_type": "code",
   "execution_count": 9,
   "id": "0f6f7ffc-baff-483f-b41d-208af60d6059",
   "metadata": {},
   "outputs": [],
   "source": [
    "from langchain_openai.chat_models import ChatOpenAI\n",
    "from langchain_community.chat_models import ChatOpenAI\n",
    "from langchain_core.messages import SystemMessage , HumanMessage\n",
    "from langchain_core.output_parsers import CommaSeparatedListOutputParser"
   ]
  },
  {
   "cell_type": "code",
   "execution_count": 10,
   "id": "3abba992-600d-406a-adfe-12ac9a3e166d",
   "metadata": {},
   "outputs": [],
   "source": [
    "os.environ[\"OPENAI_API_BASE\"] = \"https://api.groq.com/openai/v1\"\n",
    "\n",
    "chat = ChatOpenAI(\n",
    "    model_name=\"llama3-70b-8192\", \n",
    "    model_kwargs={\"seed\": 365},\n",
    "    temperature=0,\n",
    "    max_tokens = 100)"
   ]
  },
  {
   "cell_type": "code",
   "execution_count": 11,
   "id": "6c6921b7-e7d2-40ec-9c3e-06e7eab6a1a1",
   "metadata": {},
   "outputs": [
    {
     "name": "stdout",
     "output_type": "stream",
     "text": [
      "Congratulations on adopting a new furry friend! I'd be delighted to help you find the paw-fect name for your dog! Here are some popular and unique name suggestions:\n",
      "\n",
      "**Popular Dog Names:**\n",
      "\n",
      "1. Bella\n",
      "2. Max\n",
      "3. Charlie\n",
      "4. Lucy\n",
      "5. Cooper\n",
      "6. Rocky\n",
      "7. Luna\n",
      "8. Duke\n",
      "9. Daisy\n",
      "10. Gracie\n",
      "\n",
      "**Unique Dog Names:**\n",
      "\n",
      "1. Aurora (for a dog with a celestial personality)\n",
      "2\n"
     ]
    }
   ],
   "source": [
    "message_hum = HumanMessage(content = '''I've recently adopted a dog. Could you suggest some dog names??''')\n",
    "response=chat.invoke([message_hum])\n",
    "print(response.content)"
   ]
  },
  {
   "cell_type": "code",
   "execution_count": 12,
   "id": "49c83264-ae1e-4b2a-ba79-e1f3bd8f2e93",
   "metadata": {},
   "outputs": [],
   "source": [
    "list_output_parser = CommaSeparatedListOutputParser()"
   ]
  },
  {
   "cell_type": "code",
   "execution_count": 13,
   "id": "8cd5d00a-ba5f-4044-906a-12f79ac37adb",
   "metadata": {},
   "outputs": [],
   "source": [
    "message_hum = HumanMessage(content = f'''I've recently adopted a dog. Could you suggest some dog names??\n",
    "{CommaSeparatedListOutputParser().get_format_instructions()}\n",
    "''')\n"
   ]
  },
  {
   "cell_type": "code",
   "execution_count": 14,
   "id": "4104f4c5-e5d8-443f-8210-6501d4f6d72c",
   "metadata": {},
   "outputs": [
    {
     "name": "stdout",
     "output_type": "stream",
     "text": [
      "Congratulations on the new furry family member! Here are some dog name suggestions:\n",
      "\n",
      "Max, Bella, Charlie, Lucy, Cooper, Rocky, Luna, Duke, Daisy, Gracie, Buddy, Bear, Maggie, Oliver, Sadie, Hunter, Ginger, Sam, Coco, Lola, Finn, Rusty, Toby, Abby, Bentley, Zoe, Jack, Sophie, Cody, Ruby, Sparky, Milo, Nikki, Brady, Lacy, Casey, Rowdy, Sasha, Toby, Jasmine\n"
     ]
    }
   ],
   "source": [
    "response=chat.invoke([message_hum])\n",
    "print(response.content)"
   ]
  },
  {
   "cell_type": "code",
   "execution_count": 16,
   "id": "eb13ad74-538a-4f53-8b6a-ee740d09def9",
   "metadata": {},
   "outputs": [
    {
     "data": {
      "text/plain": [
       "['Congratulations on the new furry family member! Here are some dog name suggestions:',\n",
       " 'Max',\n",
       " 'Bella',\n",
       " 'Charlie',\n",
       " 'Lucy',\n",
       " 'Cooper',\n",
       " 'Rocky',\n",
       " 'Luna',\n",
       " 'Duke',\n",
       " 'Daisy',\n",
       " 'Gracie',\n",
       " 'Buddy',\n",
       " 'Bear',\n",
       " 'Maggie',\n",
       " 'Oliver',\n",
       " 'Sadie',\n",
       " 'Hunter',\n",
       " 'Ginger',\n",
       " 'Sam',\n",
       " 'Coco',\n",
       " 'Lola',\n",
       " 'Finn',\n",
       " 'Rusty',\n",
       " 'Toby',\n",
       " 'Abby',\n",
       " 'Bentley',\n",
       " 'Zoe',\n",
       " 'Jack',\n",
       " 'Sophie',\n",
       " 'Cody',\n",
       " 'Ruby',\n",
       " 'Sparky',\n",
       " 'Milo',\n",
       " 'Nikki',\n",
       " 'Brady',\n",
       " 'Lacy',\n",
       " 'Casey',\n",
       " 'Rowdy',\n",
       " 'Sasha',\n",
       " 'Toby',\n",
       " 'Jasmine']"
      ]
     },
     "execution_count": 16,
     "metadata": {},
     "output_type": "execute_result"
    }
   ],
   "source": [
    "response_parsed = list_output_parser.invoke(response)\n",
    "response_parsed"
   ]
  },
  {
   "cell_type": "code",
   "execution_count": 17,
   "id": "1b125bda-2508-4532-8a11-6c06f5bfdbd9",
   "metadata": {},
   "outputs": [],
   "source": [
    "from langchain.output_parsers import DatetimeOutputParser"
   ]
  },
  {
   "cell_type": "code",
   "execution_count": 18,
   "id": "4f65ef29-680c-4b6f-b1ef-74976b1c21de",
   "metadata": {},
   "outputs": [
    {
     "name": "stdout",
     "output_type": "stream",
     "text": [
      "content='When was the cricketer MS Dhoni born??' additional_kwargs={} response_metadata={}\n"
     ]
    }
   ],
   "source": [
    "message_hum = HumanMessage(content = f'''When was the cricketer MS Dhoni born??''')\n",
    "print(message_hum)"
   ]
  },
  {
   "cell_type": "code",
   "execution_count": 19,
   "id": "25f389ea-074e-48a7-85b6-1569e72c5a9a",
   "metadata": {},
   "outputs": [
    {
     "name": "stdout",
     "output_type": "stream",
     "text": [
      "MS Dhoni, the former Indian cricketer and captain, was born on July 7, 1981.\n"
     ]
    }
   ],
   "source": [
    "response=chat.invoke([message_hum])\n",
    "print(response.content)"
   ]
  },
  {
   "cell_type": "code",
   "execution_count": 20,
   "id": "b8c6f4fe-211d-4210-9e06-0bccc804a54a",
   "metadata": {},
   "outputs": [
    {
     "name": "stdout",
     "output_type": "stream",
     "text": [
      "content='When was the cricketer Virat Kohli born??' additional_kwargs={} response_metadata={}\n"
     ]
    }
   ],
   "source": [
    "message_hum = HumanMessage(content = f'''When was the cricketer Virat Kohli born??''')\n",
    "print(message_hum)"
   ]
  },
  {
   "cell_type": "code",
   "execution_count": 21,
   "id": "9e157817-44b7-41a5-8fa3-8c9255c82923",
   "metadata": {},
   "outputs": [
    {
     "name": "stdout",
     "output_type": "stream",
     "text": [
      "Virat Kohli, the Indian cricketer, was born on November 5, 1988.\n"
     ]
    }
   ],
   "source": [
    "response=chat.invoke([message_hum])\n",
    "print(response.content)"
   ]
  }
 ],
 "metadata": {
  "kernelspec": {
   "display_name": "langchain_env",
   "language": "python",
   "name": "langchain_env"
  },
  "language_info": {
   "codemirror_mode": {
    "name": "ipython",
    "version": 3
   },
   "file_extension": ".py",
   "mimetype": "text/x-python",
   "name": "python",
   "nbconvert_exporter": "python",
   "pygments_lexer": "ipython3",
   "version": "3.10.10"
  }
 },
 "nbformat": 4,
 "nbformat_minor": 5
}
