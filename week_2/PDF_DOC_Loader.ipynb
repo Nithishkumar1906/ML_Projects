{
 "cells": [
  {
   "cell_type": "code",
   "execution_count": 11,
   "id": "a2b9fd25-780a-4572-a23e-af4db9edf866",
   "metadata": {},
   "outputs": [],
   "source": [
    "%load_ext dotenv\n",
    "%dotenv"
   ]
  },
  {
   "cell_type": "code",
   "execution_count": 3,
   "id": "e3409ec5-cd53-4e9d-b771-9e314c197717",
   "metadata": {},
   "outputs": [],
   "source": [
    "from langchain_community.document_loaders import PyPDFLoader\n",
    "import copy"
   ]
  },
  {
   "cell_type": "code",
   "execution_count": 5,
   "id": "2b83d0eb-d9c5-4e18-9864-4520d4e43433",
   "metadata": {},
   "outputs": [],
   "source": [
    "loader_pdf = PyPDFLoader(r\"C:\\Users\\hp\\RAG\\Introduction_to_Data_and_Data_Science.pdf\")"
   ]
  },
  {
   "cell_type": "code",
   "execution_count": 6,
   "id": "91827166-78c6-4f75-a276-81d1c8534668",
   "metadata": {},
   "outputs": [],
   "source": [
    "pages_pdf = loader_pdf.load()"
   ]
  },
  {
   "cell_type": "code",
   "execution_count": 7,
   "id": "f94ff9ac-0acd-4b65-b2bc-d06aaf1c2384",
   "metadata": {},
   "outputs": [
    {
     "data": {
      "text/plain": [
       "[Document(metadata={'producer': 'Microsoft® Word for Microsoft 365', 'creator': 'Microsoft® Word for Microsoft 365', 'creationdate': '2023-11-09T10:16:34+02:00', 'author': 'Hristina  Hristova', 'moddate': '2023-11-09T10:16:34+02:00', 'source': 'C:\\\\Users\\\\hp\\\\RAG\\\\Introduction_to_Data_and_Data_Science.pdf', 'total_pages': 6, 'page': 0, 'page_label': '1'}, page_content='Analysis vs Analytics \\nAlright! So… \\nLet’s discuss the not-so-obvious differences \\nbetween the terms analysis and analytics. \\nDue to the similarity of the words, some people \\nbelieve they share the same meaning, and thus \\nuse them interchangeably. Technically, this \\nisn’t correct. There is, in fact, a distinct \\ndifference between the two. And the reason \\nfor one often being used instead of the other \\nis the lack of a transparent understanding \\nof both. \\nSo, let’s clear this up, shall we? \\nFirst, we will start with analysis. \\nConsider the following… \\nYou have a huge dataset containing data of \\nvarious types. Instead of tackling the entire \\ndataset and running the risk of becoming overwhelmed, \\nyou separate it into easier to digest chunks \\nand study them individually and examine how \\nthey relate to other parts. And that’s analysis \\nin a nutshell. \\nOne important thing to remember, however, \\nis that you perform analyses on things that \\nhave already happened in the past. Such as \\nusing an analysis to explain how a story ended \\nthe way it did or how there was a decrease \\nin sales last summer. \\nAll this means that we do analyses to explain \\nhow and/or why something happened. \\nGreat! \\nNow, this leads us nicely on to the definition \\nof analytics. \\nAs you have probably guessed, analytics generally \\nrefers to the future. Instead of explaining \\npast events it explores potential future ones. \\nAnalytics is essentially the application of \\nlogical and computational reasoning to the \\ncomponent parts obtained in an analysis. And \\nin doing this you are looking for patterns'),\n",
       " Document(metadata={'producer': 'Microsoft® Word for Microsoft 365', 'creator': 'Microsoft® Word for Microsoft 365', 'creationdate': '2023-11-09T10:16:34+02:00', 'author': 'Hristina  Hristova', 'moddate': '2023-11-09T10:16:34+02:00', 'source': 'C:\\\\Users\\\\hp\\\\RAG\\\\Introduction_to_Data_and_Data_Science.pdf', 'total_pages': 6, 'page': 1, 'page_label': '2'}, page_content=\"and exploring what you could do with them \\nin the future. \\nHere, analytics branches off into two areas: \\nqualitative analytics – this is using your \\nintuition and experience in conjunction with \\nthe analysis to plan your next business move. \\nAnd quantitative analytics – this is applying \\nformulas and algorithms to numbers you have \\ngathered from your analysis. \\nHere are a couple of examples. \\nSay, you are an owner of an online clothing \\nstore. You are ahead of the competition and \\nhave a great understanding of what your customer's \\nneeds and wants are. You’ve performed a \\nvery detailed analysis from women’s clothing \\narticles and feel sure about which fashion \\ntrends to follow. You may use this intuition \\nto decide on which styles of clothing to start \\nselling. This would be qualitative analytics. \\nBut you might not know when to introduce the \\nnew collection. In that case, relying on past \\nsales data and user experience data, you could \\npredict in which month it would be best to \\ndo that. This is an example of using quantitative \\nanalytics. \\nFantastic! \\nTo backtrack a little, you can combine these \\nareas with analyses also – you could perform \\nqualitative analysis – to explain how or \\nwhy a story ended the way it did. And you \\ncan perform quantitative analysis – working \\nwith past data to explain how sales decreased \\nlast summer. \\nPerfect! \\nNow that we have cleared up the differences \\nbetween analysis and analytics it shouldn’t \\nbe too difficult to see how terms such as \\n‘data analysis’, ‘data analytics’, \\n‘business analysis’ and ‘business analytics’ \\ncan have their unique meanings too. \\nMore of this will be explained in the next \\nvideo which aims to simplify these, as well\"),\n",
       " Document(metadata={'producer': 'Microsoft® Word for Microsoft 365', 'creator': 'Microsoft® Word for Microsoft 365', 'creationdate': '2023-11-09T10:16:34+02:00', 'author': 'Hristina  Hristova', 'moddate': '2023-11-09T10:16:34+02:00', 'source': 'C:\\\\Users\\\\hp\\\\RAG\\\\Introduction_to_Data_and_Data_Science.pdf', 'total_pages': 6, 'page': 2, 'page_label': '3'}, page_content='as many more with a fantastic diagram. So, \\nlet’s move on! \\nProgramming Languages & Software Employed in Data Science - All the Tools You \\nNeed \\nAlright! So… \\nHow are the techniques used in data, business \\nintelligence, or predictive analytics applied \\nin real life? \\nCertainly, with the help of computers. \\nYou can basically split the relevant tools \\ninto two categories—programming languages \\nand software. \\nKnowing a programming language enables you \\nto devise programs that can execute specific \\noperations. Moreover, you can reuse these \\nprograms whenever you need to execute the \\nsame action. \\nAs you can see from the infographic, R, and \\nPython are the two most popular tools across \\nall columns. Their biggest advantage is that \\nthey can manipulate data and are integrated \\nwithin multiple data and data science software \\nplatforms. They are not just suitable for \\nmathematical and statistical computations. \\nIn other words, R, and Python are adaptable. \\nThey can solve a wide variety of business \\nand data-related problems from beginning to \\nthe end. \\nOf course, R, and Python do have their limitations. \\nThey are not able to address problems specific \\nto some domains. One example is ‘relational \\ndatabase management systems’—there, SQL \\nis king. It was specifically created for that \\npurpose. SQL is at its most advantageous when \\nworking with traditional, historical data. \\nWhen preparing your BI analysis, for instance, \\nyou will surely employ it. \\nOkay. \\nWhen it comes to data science, mentioning'),\n",
       " Document(metadata={'producer': 'Microsoft® Word for Microsoft 365', 'creator': 'Microsoft® Word for Microsoft 365', 'creationdate': '2023-11-09T10:16:34+02:00', 'author': 'Hristina  Hristova', 'moddate': '2023-11-09T10:16:34+02:00', 'source': 'C:\\\\Users\\\\hp\\\\RAG\\\\Introduction_to_Data_and_Data_Science.pdf', 'total_pages': 6, 'page': 3, 'page_label': '4'}, page_content='MATLAB is inevitable. It is ideal for working \\nwith mathematical functions or matrix manipulations. \\nThat’s why it is present in all categories \\nexcept for ‘big data’. While respectable, \\nMATLAB usage is a paid service, and that’s \\none of the reasons why it is losing ground \\nto open-source languages like R and Python. \\nEither way, R, Python, and MATLAB, combined \\nwith SQL, cover most of the tools used when \\nworking with traditional data, BI, and conventional \\ndata science. \\nWhat about big data? \\nApart from R and Python, people working in \\nthis area are often proficient in other languages \\nlike Java or Scala. These two have not been \\ndeveloped specifically for doing statistical \\nanalyses, however they turn out to be very \\nuseful when combining data from multiple sources. \\nAll right! Let’s finish off with machine \\nlearning. \\nWhen it comes to machine learning, we often \\ndeal with big data. Thus, we need a lot of \\ncomputational power, and we can expect people \\nto use the languages similar to those in the \\nbig data column. Apart from R, Python, and \\nMATLAB, other, faster languages are used like \\nJava, JavaScript, C, C++, and Scala. \\nCool. \\nWhat we said may be wonderful, but that’s \\nnot all! \\nBy using one or more programming languages, \\npeople create application software or, as \\nthey are sometimes called, software solutions, \\nthat are adjusted for specific business needs. \\nTheir smaller scope does not make them less \\nuseful, in fact, just the opposite—they \\nare a lot easier to learn and be adopted by \\nothers. You have already heard of several \\nof those. \\nBecause of its ability to do relatively complex \\ncomputations and good visualizations quickly, \\nExcel is a tool applicable to more than one'),\n",
       " Document(metadata={'producer': 'Microsoft® Word for Microsoft 365', 'creator': 'Microsoft® Word for Microsoft 365', 'creationdate': '2023-11-09T10:16:34+02:00', 'author': 'Hristina  Hristova', 'moddate': '2023-11-09T10:16:34+02:00', 'source': 'C:\\\\Users\\\\hp\\\\RAG\\\\Introduction_to_Data_and_Data_Science.pdf', 'total_pages': 6, 'page': 4, 'page_label': '5'}, page_content='category—traditional data, BI, and Data \\nScience. Similarly, SPSS is a very famous \\ntool for working with traditional data and \\napplying statistical analysis. \\nAmong the many applications we have plotted, \\nwe can say there is an increasing amount of \\nsoftware designed for working with big data \\nsuch as Apache Hadoop, Apache Hbase, and Mongo \\nDB. \\nIn terms of big data, Hadoop is the name that \\nmust stick with you. Hadoop is listed as a \\nsoftware in the sense that it is a collection \\nof programs, but don’t imagine it as a nice-looking \\napplication. It’s actually a software framework \\nwhich was designed to address the complexity \\nof big data and its computational intensity. \\nMost notably, Hadoop distributes the computational \\ntasks on multiple computers which is basically \\nthe way to handle big data nowadays. \\nPower BI, SaS, Qlik, and especially Tableau \\nare top-notch examples of software designed \\nfor business intelligence visualizations. \\nIn terms of predictive analytics, EViews is \\nmostly used for working with econometric time-series \\nmodels, and Stata—for academic statistical \\nand econometric research, where techniques \\nlike regression, cluster, and factor analysis \\nare constantly applied. \\nAs a final note, remember the following. \\nShould you have the relevant business and \\ntheoretical knowledge, learning a software \\ntool is relatively easy as opposed to learning \\na programming language. More importantly, \\nit will be sufficient for your need to create \\nquick and accurate analyses. \\nHowever, if your theoretical preparation is \\nstrong enough, you will find yourself restricted \\nby software. Knowing a programming language \\nsuch as R and Python, gives you the freedom \\nto create specific, ad-hoc tools for each \\nproject you are working on. \\nGreat!'),\n",
       " Document(metadata={'producer': 'Microsoft® Word for Microsoft 365', 'creator': 'Microsoft® Word for Microsoft 365', 'creationdate': '2023-11-09T10:16:34+02:00', 'author': 'Hristina  Hristova', 'moddate': '2023-11-09T10:16:34+02:00', 'source': 'C:\\\\Users\\\\hp\\\\RAG\\\\Introduction_to_Data_and_Data_Science.pdf', 'total_pages': 6, 'page': 5, 'page_label': '6'}, page_content='We hope we gave you a good idea about the \\nlevel of applicability of the most frequently \\nused programming and software tools in the \\nfield of data science. \\nThank you for watching!')]"
      ]
     },
     "execution_count": 7,
     "metadata": {},
     "output_type": "execute_result"
    }
   ],
   "source": [
    "pages_pdf"
   ]
  },
  {
   "cell_type": "code",
   "execution_count": 8,
   "id": "5ac54082-69fa-42cd-bd01-964ab1bff5c8",
   "metadata": {},
   "outputs": [],
   "source": [
    "pages_pdf_copy = copy.deepcopy(pages_pdf) "
   ]
  },
  {
   "cell_type": "code",
   "execution_count": 9,
   "id": "b592ca94-33bf-49c5-beb3-790abd47ea1b",
   "metadata": {},
   "outputs": [
    {
     "data": {
      "text/plain": [
       "['Analysis',\n",
       " 'vs',\n",
       " 'Analytics',\n",
       " 'Alright!',\n",
       " 'So…',\n",
       " 'Let’s',\n",
       " 'discuss',\n",
       " 'the',\n",
       " 'not-so-obvious',\n",
       " 'differences',\n",
       " 'between',\n",
       " 'the',\n",
       " 'terms',\n",
       " 'analysis',\n",
       " 'and',\n",
       " 'analytics.',\n",
       " 'Due',\n",
       " 'to',\n",
       " 'the',\n",
       " 'similarity',\n",
       " 'of',\n",
       " 'the',\n",
       " 'words,',\n",
       " 'some',\n",
       " 'people',\n",
       " 'believe',\n",
       " 'they',\n",
       " 'share',\n",
       " 'the',\n",
       " 'same',\n",
       " 'meaning,',\n",
       " 'and',\n",
       " 'thus',\n",
       " 'use',\n",
       " 'them',\n",
       " 'interchangeably.',\n",
       " 'Technically,',\n",
       " 'this',\n",
       " 'isn’t',\n",
       " 'correct.',\n",
       " 'There',\n",
       " 'is,',\n",
       " 'in',\n",
       " 'fact,',\n",
       " 'a',\n",
       " 'distinct',\n",
       " 'difference',\n",
       " 'between',\n",
       " 'the',\n",
       " 'two.',\n",
       " 'And',\n",
       " 'the',\n",
       " 'reason',\n",
       " 'for',\n",
       " 'one',\n",
       " 'often',\n",
       " 'being',\n",
       " 'used',\n",
       " 'instead',\n",
       " 'of',\n",
       " 'the',\n",
       " 'other',\n",
       " 'is',\n",
       " 'the',\n",
       " 'lack',\n",
       " 'of',\n",
       " 'a',\n",
       " 'transparent',\n",
       " 'understanding',\n",
       " 'of',\n",
       " 'both.',\n",
       " 'So,',\n",
       " 'let’s',\n",
       " 'clear',\n",
       " 'this',\n",
       " 'up,',\n",
       " 'shall',\n",
       " 'we?',\n",
       " 'First,',\n",
       " 'we',\n",
       " 'will',\n",
       " 'start',\n",
       " 'with',\n",
       " 'analysis.',\n",
       " 'Consider',\n",
       " 'the',\n",
       " 'following…',\n",
       " 'You',\n",
       " 'have',\n",
       " 'a',\n",
       " 'huge',\n",
       " 'dataset',\n",
       " 'containing',\n",
       " 'data',\n",
       " 'of',\n",
       " 'various',\n",
       " 'types.',\n",
       " 'Instead',\n",
       " 'of',\n",
       " 'tackling',\n",
       " 'the',\n",
       " 'entire',\n",
       " 'dataset',\n",
       " 'and',\n",
       " 'running',\n",
       " 'the',\n",
       " 'risk',\n",
       " 'of',\n",
       " 'becoming',\n",
       " 'overwhelmed,',\n",
       " 'you',\n",
       " 'separate',\n",
       " 'it',\n",
       " 'into',\n",
       " 'easier',\n",
       " 'to',\n",
       " 'digest',\n",
       " 'chunks',\n",
       " 'and',\n",
       " 'study',\n",
       " 'them',\n",
       " 'individually',\n",
       " 'and',\n",
       " 'examine',\n",
       " 'how',\n",
       " 'they',\n",
       " 'relate',\n",
       " 'to',\n",
       " 'other',\n",
       " 'parts.',\n",
       " 'And',\n",
       " 'that’s',\n",
       " 'analysis',\n",
       " 'in',\n",
       " 'a',\n",
       " 'nutshell.',\n",
       " 'One',\n",
       " 'important',\n",
       " 'thing',\n",
       " 'to',\n",
       " 'remember,',\n",
       " 'however,',\n",
       " 'is',\n",
       " 'that',\n",
       " 'you',\n",
       " 'perform',\n",
       " 'analyses',\n",
       " 'on',\n",
       " 'things',\n",
       " 'that',\n",
       " 'have',\n",
       " 'already',\n",
       " 'happened',\n",
       " 'in',\n",
       " 'the',\n",
       " 'past.',\n",
       " 'Such',\n",
       " 'as',\n",
       " 'using',\n",
       " 'an',\n",
       " 'analysis',\n",
       " 'to',\n",
       " 'explain',\n",
       " 'how',\n",
       " 'a',\n",
       " 'story',\n",
       " 'ended',\n",
       " 'the',\n",
       " 'way',\n",
       " 'it',\n",
       " 'did',\n",
       " 'or',\n",
       " 'how',\n",
       " 'there',\n",
       " 'was',\n",
       " 'a',\n",
       " 'decrease',\n",
       " 'in',\n",
       " 'sales',\n",
       " 'last',\n",
       " 'summer.',\n",
       " 'All',\n",
       " 'this',\n",
       " 'means',\n",
       " 'that',\n",
       " 'we',\n",
       " 'do',\n",
       " 'analyses',\n",
       " 'to',\n",
       " 'explain',\n",
       " 'how',\n",
       " 'and/or',\n",
       " 'why',\n",
       " 'something',\n",
       " 'happened.',\n",
       " 'Great!',\n",
       " 'Now,',\n",
       " 'this',\n",
       " 'leads',\n",
       " 'us',\n",
       " 'nicely',\n",
       " 'on',\n",
       " 'to',\n",
       " 'the',\n",
       " 'definition',\n",
       " 'of',\n",
       " 'analytics.',\n",
       " 'As',\n",
       " 'you',\n",
       " 'have',\n",
       " 'probably',\n",
       " 'guessed,',\n",
       " 'analytics',\n",
       " 'generally',\n",
       " 'refers',\n",
       " 'to',\n",
       " 'the',\n",
       " 'future.',\n",
       " 'Instead',\n",
       " 'of',\n",
       " 'explaining',\n",
       " 'past',\n",
       " 'events',\n",
       " 'it',\n",
       " 'explores',\n",
       " 'potential',\n",
       " 'future',\n",
       " 'ones.',\n",
       " 'Analytics',\n",
       " 'is',\n",
       " 'essentially',\n",
       " 'the',\n",
       " 'application',\n",
       " 'of',\n",
       " 'logical',\n",
       " 'and',\n",
       " 'computational',\n",
       " 'reasoning',\n",
       " 'to',\n",
       " 'the',\n",
       " 'component',\n",
       " 'parts',\n",
       " 'obtained',\n",
       " 'in',\n",
       " 'an',\n",
       " 'analysis.',\n",
       " 'And',\n",
       " 'in',\n",
       " 'doing',\n",
       " 'this',\n",
       " 'you',\n",
       " 'are',\n",
       " 'looking',\n",
       " 'for',\n",
       " 'patterns']"
      ]
     },
     "execution_count": 9,
     "metadata": {},
     "output_type": "execute_result"
    }
   ],
   "source": [
    "pages_pdf_copy[0].page_content.split()"
   ]
  },
  {
   "cell_type": "code",
   "execution_count": 10,
   "id": "5aac2aa4-ab74-47cf-8855-7fe46b13fc09",
   "metadata": {},
   "outputs": [
    {
     "data": {
      "text/plain": [
       "'Analysis vs Analytics Alright! So… Let’s discuss the not-so-obvious differences between the terms analysis and analytics. Due to the similarity of the words, some people believe they share the same meaning, and thus use them interchangeably. Technically, this isn’t correct. There is, in fact, a distinct difference between the two. And the reason for one often being used instead of the other is the lack of a transparent understanding of both. So, let’s clear this up, shall we? First, we will start with analysis. Consider the following… You have a huge dataset containing data of various types. Instead of tackling the entire dataset and running the risk of becoming overwhelmed, you separate it into easier to digest chunks and study them individually and examine how they relate to other parts. And that’s analysis in a nutshell. One important thing to remember, however, is that you perform analyses on things that have already happened in the past. Such as using an analysis to explain how a story ended the way it did or how there was a decrease in sales last summer. All this means that we do analyses to explain how and/or why something happened. Great! Now, this leads us nicely on to the definition of analytics. As you have probably guessed, analytics generally refers to the future. Instead of explaining past events it explores potential future ones. Analytics is essentially the application of logical and computational reasoning to the component parts obtained in an analysis. And in doing this you are looking for patterns'"
      ]
     },
     "execution_count": 10,
     "metadata": {},
     "output_type": "execute_result"
    }
   ],
   "source": [
    "' '.join(pages_pdf_copy[0].page_content.split())"
   ]
  },
  {
   "cell_type": "code",
   "execution_count": 11,
   "id": "949ae320-80bc-40d4-914e-fce1e19113ac",
   "metadata": {},
   "outputs": [],
   "source": [
    "for i in pages_pdf_copy:\n",
    "    i.page_content = ' '.join(i.page_content.split())"
   ]
  },
  {
   "cell_type": "code",
   "execution_count": 12,
   "id": "47c5cc9b-d456-4757-9dcf-d9ebc8815111",
   "metadata": {},
   "outputs": [
    {
     "name": "stdout",
     "output_type": "stream",
     "text": [
      "[Document(metadata={'producer': 'Microsoft® Word for Microsoft 365', 'creator': 'Microsoft® Word for Microsoft 365', 'creationdate': '2023-11-09T10:16:34+02:00', 'author': 'Hristina  Hristova', 'moddate': '2023-11-09T10:16:34+02:00', 'source': 'C:\\\\Users\\\\hp\\\\RAG\\\\Introduction_to_Data_and_Data_Science.pdf', 'total_pages': 6, 'page': 0, 'page_label': '1'}, page_content='Analysis vs Analytics Alright! So… Let’s discuss the not-so-obvious differences between the terms analysis and analytics. Due to the similarity of the words, some people believe they share the same meaning, and thus use them interchangeably. Technically, this isn’t correct. There is, in fact, a distinct difference between the two. And the reason for one often being used instead of the other is the lack of a transparent understanding of both. So, let’s clear this up, shall we? First, we will start with analysis. Consider the following… You have a huge dataset containing data of various types. Instead of tackling the entire dataset and running the risk of becoming overwhelmed, you separate it into easier to digest chunks and study them individually and examine how they relate to other parts. And that’s analysis in a nutshell. One important thing to remember, however, is that you perform analyses on things that have already happened in the past. Such as using an analysis to explain how a story ended the way it did or how there was a decrease in sales last summer. All this means that we do analyses to explain how and/or why something happened. Great! Now, this leads us nicely on to the definition of analytics. As you have probably guessed, analytics generally refers to the future. Instead of explaining past events it explores potential future ones. Analytics is essentially the application of logical and computational reasoning to the component parts obtained in an analysis. And in doing this you are looking for patterns'), Document(metadata={'producer': 'Microsoft® Word for Microsoft 365', 'creator': 'Microsoft® Word for Microsoft 365', 'creationdate': '2023-11-09T10:16:34+02:00', 'author': 'Hristina  Hristova', 'moddate': '2023-11-09T10:16:34+02:00', 'source': 'C:\\\\Users\\\\hp\\\\RAG\\\\Introduction_to_Data_and_Data_Science.pdf', 'total_pages': 6, 'page': 1, 'page_label': '2'}, page_content=\"and exploring what you could do with them in the future. Here, analytics branches off into two areas: qualitative analytics – this is using your intuition and experience in conjunction with the analysis to plan your next business move. And quantitative analytics – this is applying formulas and algorithms to numbers you have gathered from your analysis. Here are a couple of examples. Say, you are an owner of an online clothing store. You are ahead of the competition and have a great understanding of what your customer's needs and wants are. You’ve performed a very detailed analysis from women’s clothing articles and feel sure about which fashion trends to follow. You may use this intuition to decide on which styles of clothing to start selling. This would be qualitative analytics. But you might not know when to introduce the new collection. In that case, relying on past sales data and user experience data, you could predict in which month it would be best to do that. This is an example of using quantitative analytics. Fantastic! To backtrack a little, you can combine these areas with analyses also – you could perform qualitative analysis – to explain how or why a story ended the way it did. And you can perform quantitative analysis – working with past data to explain how sales decreased last summer. Perfect! Now that we have cleared up the differences between analysis and analytics it shouldn’t be too difficult to see how terms such as ‘data analysis’, ‘data analytics’, ‘business analysis’ and ‘business analytics’ can have their unique meanings too. More of this will be explained in the next video which aims to simplify these, as well\"), Document(metadata={'producer': 'Microsoft® Word for Microsoft 365', 'creator': 'Microsoft® Word for Microsoft 365', 'creationdate': '2023-11-09T10:16:34+02:00', 'author': 'Hristina  Hristova', 'moddate': '2023-11-09T10:16:34+02:00', 'source': 'C:\\\\Users\\\\hp\\\\RAG\\\\Introduction_to_Data_and_Data_Science.pdf', 'total_pages': 6, 'page': 2, 'page_label': '3'}, page_content='as many more with a fantastic diagram. So, let’s move on! Programming Languages & Software Employed in Data Science - All the Tools You Need Alright! So… How are the techniques used in data, business intelligence, or predictive analytics applied in real life? Certainly, with the help of computers. You can basically split the relevant tools into two categories—programming languages and software. Knowing a programming language enables you to devise programs that can execute specific operations. Moreover, you can reuse these programs whenever you need to execute the same action. As you can see from the infographic, R, and Python are the two most popular tools across all columns. Their biggest advantage is that they can manipulate data and are integrated within multiple data and data science software platforms. They are not just suitable for mathematical and statistical computations. In other words, R, and Python are adaptable. They can solve a wide variety of business and data-related problems from beginning to the end. Of course, R, and Python do have their limitations. They are not able to address problems specific to some domains. One example is ‘relational database management systems’—there, SQL is king. It was specifically created for that purpose. SQL is at its most advantageous when working with traditional, historical data. When preparing your BI analysis, for instance, you will surely employ it. Okay. When it comes to data science, mentioning'), Document(metadata={'producer': 'Microsoft® Word for Microsoft 365', 'creator': 'Microsoft® Word for Microsoft 365', 'creationdate': '2023-11-09T10:16:34+02:00', 'author': 'Hristina  Hristova', 'moddate': '2023-11-09T10:16:34+02:00', 'source': 'C:\\\\Users\\\\hp\\\\RAG\\\\Introduction_to_Data_and_Data_Science.pdf', 'total_pages': 6, 'page': 3, 'page_label': '4'}, page_content='MATLAB is inevitable. It is ideal for working with mathematical functions or matrix manipulations. That’s why it is present in all categories except for ‘big data’. While respectable, MATLAB usage is a paid service, and that’s one of the reasons why it is losing ground to open-source languages like R and Python. Either way, R, Python, and MATLAB, combined with SQL, cover most of the tools used when working with traditional data, BI, and conventional data science. What about big data? Apart from R and Python, people working in this area are often proficient in other languages like Java or Scala. These two have not been developed specifically for doing statistical analyses, however they turn out to be very useful when combining data from multiple sources. All right! Let’s finish off with machine learning. When it comes to machine learning, we often deal with big data. Thus, we need a lot of computational power, and we can expect people to use the languages similar to those in the big data column. Apart from R, Python, and MATLAB, other, faster languages are used like Java, JavaScript, C, C++, and Scala. Cool. What we said may be wonderful, but that’s not all! By using one or more programming languages, people create application software or, as they are sometimes called, software solutions, that are adjusted for specific business needs. Their smaller scope does not make them less useful, in fact, just the opposite—they are a lot easier to learn and be adopted by others. You have already heard of several of those. Because of its ability to do relatively complex computations and good visualizations quickly, Excel is a tool applicable to more than one'), Document(metadata={'producer': 'Microsoft® Word for Microsoft 365', 'creator': 'Microsoft® Word for Microsoft 365', 'creationdate': '2023-11-09T10:16:34+02:00', 'author': 'Hristina  Hristova', 'moddate': '2023-11-09T10:16:34+02:00', 'source': 'C:\\\\Users\\\\hp\\\\RAG\\\\Introduction_to_Data_and_Data_Science.pdf', 'total_pages': 6, 'page': 4, 'page_label': '5'}, page_content='category—traditional data, BI, and Data Science. Similarly, SPSS is a very famous tool for working with traditional data and applying statistical analysis. Among the many applications we have plotted, we can say there is an increasing amount of software designed for working with big data such as Apache Hadoop, Apache Hbase, and Mongo DB. In terms of big data, Hadoop is the name that must stick with you. Hadoop is listed as a software in the sense that it is a collection of programs, but don’t imagine it as a nice-looking application. It’s actually a software framework which was designed to address the complexity of big data and its computational intensity. Most notably, Hadoop distributes the computational tasks on multiple computers which is basically the way to handle big data nowadays. Power BI, SaS, Qlik, and especially Tableau are top-notch examples of software designed for business intelligence visualizations. In terms of predictive analytics, EViews is mostly used for working with econometric time-series models, and Stata—for academic statistical and econometric research, where techniques like regression, cluster, and factor analysis are constantly applied. As a final note, remember the following. Should you have the relevant business and theoretical knowledge, learning a software tool is relatively easy as opposed to learning a programming language. More importantly, it will be sufficient for your need to create quick and accurate analyses. However, if your theoretical preparation is strong enough, you will find yourself restricted by software. Knowing a programming language such as R and Python, gives you the freedom to create specific, ad-hoc tools for each project you are working on. Great!'), Document(metadata={'producer': 'Microsoft® Word for Microsoft 365', 'creator': 'Microsoft® Word for Microsoft 365', 'creationdate': '2023-11-09T10:16:34+02:00', 'author': 'Hristina  Hristova', 'moddate': '2023-11-09T10:16:34+02:00', 'source': 'C:\\\\Users\\\\hp\\\\RAG\\\\Introduction_to_Data_and_Data_Science.pdf', 'total_pages': 6, 'page': 5, 'page_label': '6'}, page_content='We hope we gave you a good idea about the level of applicability of the most frequently used programming and software tools in the field of data science. Thank you for watching!')]\n"
     ]
    }
   ],
   "source": [
    "print(pages_pdf_copy)"
   ]
  },
  {
   "cell_type": "code",
   "execution_count": 14,
   "id": "cd448ad4-ef7b-4e77-a862-a44848eaf862",
   "metadata": {},
   "outputs": [
    {
     "data": {
      "text/plain": [
       "('Analysis vs Analytics \\nAlright! So… \\nLet’s discuss the not-so-obvious differences \\nbetween the terms analysis and analytics. \\nDue to the similarity of the words, some people \\nbelieve they share the same meaning, and thus \\nuse them interchangeably. Technically, this \\nisn’t correct. There is, in fact, a distinct \\ndifference between the two. And the reason \\nfor one often being used instead of the other \\nis the lack of a transparent understanding \\nof both. \\nSo, let’s clear this up, shall we? \\nFirst, we will start with analysis. \\nConsider the following… \\nYou have a huge dataset containing data of \\nvarious types. Instead of tackling the entire \\ndataset and running the risk of becoming overwhelmed, \\nyou separate it into easier to digest chunks \\nand study them individually and examine how \\nthey relate to other parts. And that’s analysis \\nin a nutshell. \\nOne important thing to remember, however, \\nis that you perform analyses on things that \\nhave already happened in the past. Such as \\nusing an analysis to explain how a story ended \\nthe way it did or how there was a decrease \\nin sales last summer. \\nAll this means that we do analyses to explain \\nhow and/or why something happened. \\nGreat! \\nNow, this leads us nicely on to the definition \\nof analytics. \\nAs you have probably guessed, analytics generally \\nrefers to the future. Instead of explaining \\npast events it explores potential future ones. \\nAnalytics is essentially the application of \\nlogical and computational reasoning to the \\ncomponent parts obtained in an analysis. And \\nin doing this you are looking for patterns',\n",
       " 'Analysis vs Analytics Alright! So… Let’s discuss the not-so-obvious differences between the terms analysis and analytics. Due to the similarity of the words, some people believe they share the same meaning, and thus use them interchangeably. Technically, this isn’t correct. There is, in fact, a distinct difference between the two. And the reason for one often being used instead of the other is the lack of a transparent understanding of both. So, let’s clear this up, shall we? First, we will start with analysis. Consider the following… You have a huge dataset containing data of various types. Instead of tackling the entire dataset and running the risk of becoming overwhelmed, you separate it into easier to digest chunks and study them individually and examine how they relate to other parts. And that’s analysis in a nutshell. One important thing to remember, however, is that you perform analyses on things that have already happened in the past. Such as using an analysis to explain how a story ended the way it did or how there was a decrease in sales last summer. All this means that we do analyses to explain how and/or why something happened. Great! Now, this leads us nicely on to the definition of analytics. As you have probably guessed, analytics generally refers to the future. Instead of explaining past events it explores potential future ones. Analytics is essentially the application of logical and computational reasoning to the component parts obtained in an analysis. And in doing this you are looking for patterns')"
      ]
     },
     "execution_count": 14,
     "metadata": {},
     "output_type": "execute_result"
    }
   ],
   "source": [
    "pages_pdf[0].page_content, pages_pdf_copy[0].page_content"
   ]
  },
  {
   "cell_type": "code",
   "execution_count": 4,
   "id": "382ae249-91c0-4927-93b0-686e2f6394c8",
   "metadata": {},
   "outputs": [],
   "source": [
    "from langchain_community.document_loaders import Docx2txtLoader\n",
    "import copy"
   ]
  },
  {
   "cell_type": "code",
   "execution_count": 18,
   "id": "18136550-b8d2-457c-b8cf-ef9ceeb9f192",
   "metadata": {},
   "outputs": [],
   "source": [
    "loader = Docx2txtLoader(r\"C:\\Users\\hp\\RAG\\Introduction_to_Data_and_Data_Science.docx\")\n",
    "pages = loader.load()\n",
    "for i in range(len(pages)):\n",
    "    pages[i].page_content = ' '.join(pages[i].page_content.split())"
   ]
  },
  {
   "cell_type": "code",
   "execution_count": 19,
   "id": "9b46538c-5d3e-4c58-ac55-2196220dd9dd",
   "metadata": {},
   "outputs": [
    {
     "data": {
      "text/plain": [
       "\"Analysis vs Analytics Alright! So… Let’s discuss the not-so-obvious differences between the terms analysis and analytics. Due to the similarity of the words, some people believe they share the same meaning, and thus use them interchangeably. Technically, this isn’t correct. There is, in fact, a distinct difference between the two. And the reason for one often being used instead of the other is the lack of a transparent understanding of both. So, let’s clear this up, shall we? First, we will start with analysis. Consider the following… You have a huge dataset containing data of various types. Instead of tackling the entire dataset and running the risk of becoming overwhelmed, you separate it into easier to digest chunks and study them individually and examine how they relate to other parts. And that’s analysis in a nutshell. One important thing to remember, however, is that you perform analyses on things that have already happened in the past. Such as using an analysis to explain how a story ended the way it did or how there was a decrease in sales last summer. All this means that we do analyses to explain how and/or why something happened. Great! Now, this leads us nicely on to the definition of analytics. As you have probably guessed, analytics generally refers to the future. Instead of explaining past events it explores potential future ones. Analytics is essentially the application of logical and computational reasoning to the component parts obtained in an analysis. And in doing this you are looking for patterns and exploring what you could do with them in the future. Here, analytics branches off into two areas: qualitative analytics – this is using your intuition and experience in conjunction with the analysis to plan your next business move. And quantitative analytics – this is applying formulas and algorithms to numbers you have gathered from your analysis. Here are a couple of examples. Say, you are an owner of an online clothing store. You are ahead of the competition and have a great understanding of what your customer's needs and wants are. You’ve performed a very detailed analysis from women’s clothing articles and feel sure about which fashion trends to follow. You may use this intuition to decide on which styles of clothing to start selling. This would be qualitative analytics. But you might not know when to introduce the new collection. In that case, relying on past sales data and user experience data, you could predict in which month it would be best to do that. This is an example of using quantitative analytics. Fantastic! To backtrack a little, you can combine these areas with analyses also – you could perform qualitative analysis – to explain how or why a story ended the way it did. And you can perform quantitative analysis – working with past data to explain how sales decreased last summer. Perfect! Now that we have cleared up the differences between analysis and analytics it shouldn’t be too difficult to see how terms such as ‘data analysis’, ‘data analytics’, ‘business analysis’ and ‘business analytics’ can have their unique meanings too. More of this will be explained in the next video which aims to simplify these, as well as many more with a fantastic diagram. So, let’s move on! Programming Languages & Software Employed in Data Science - All the Tools You Need Alright! So… How are the techniques used in data, business intelligence, or predictive analytics applied in real life? Certainly, with the help of computers. You can basically split the relevant tools into two categories—programming languages and software. Knowing a programming language enables you to devise programs that can execute specific operations. Moreover, you can reuse these programs whenever you need to execute the same action. As you can see from the infographic, R, and Python are the two most popular tools across all columns. Their biggest advantage is that they can manipulate data and are integrated within multiple data and data science software platforms. They are not just suitable for mathematical and statistical computations. In other words, R, and Python are adaptable. They can solve a wide variety of business and data-related problems from beginning to the end. Of course, R, and Python do have their limitations. They are not able to address problems specific to some domains. One example is ‘relational database management systems’—there, SQL is king. It was specifically created for that purpose. SQL is at its most advantageous when working with traditional, historical data. When preparing your BI analysis, for instance, you will surely employ it. Okay. When it comes to data science, mentioning MATLAB is inevitable. It is ideal for working with mathematical functions or matrix manipulations. That’s why it is present in all categories except for ‘big data’. While respectable, MATLAB usage is a paid service, and that’s one of the reasons why it is losing ground to open-source languages like R and Python. Either way, R, Python, and MATLAB, combined with SQL, cover most of the tools used when working with traditional data, BI, and conventional data science. What about big data? Apart from R and Python, people working in this area are often proficient in other languages like Java or Scala. These two have not been developed specifically for doing statistical analyses, however they turn out to be very useful when combining data from multiple sources. All right! Let’s finish off with machine learning. When it comes to machine learning, we often deal with big data. Thus, we need a lot of computational power, and we can expect people to use the languages similar to those in the big data column. Apart from R, Python, and MATLAB, other, faster languages are used like Java, JavaScript, C, C++, and Scala. Cool. What we said may be wonderful, but that’s not all! By using one or more programming languages, people create application software or, as they are sometimes called, software solutions, that are adjusted for specific business needs. Their smaller scope does not make them less useful, in fact, just the opposite—they are a lot easier to learn and be adopted by others. You have already heard of several of those. Because of its ability to do relatively complex computations and good visualizations quickly, Excel is a tool applicable to more than one category—traditional data, BI, and Data Science. Similarly, SPSS is a very famous tool for working with traditional data and applying statistical analysis. Among the many applications we have plotted, we can say there is an increasing amount of software designed for working with big data such as Apache Hadoop, Apache Hbase, and Mongo DB. In terms of big data, Hadoop is the name that must stick with you. Hadoop is listed as a software in the sense that it is a collection of programs, but don’t imagine it as a nice-looking application. It’s actually a software framework which was designed to address the complexity of big data and its computational intensity. Most notably, Hadoop distributes the computational tasks on multiple computers which is basically the way to handle big data nowadays. Power BI, SaS, Qlik, and especially Tableau are top-notch examples of software designed for business intelligence visualizations. In terms of predictive analytics, EViews is mostly used for working with econometric time-series models, and Stata—for academic statistical and econometric research, where techniques like regression, cluster, and factor analysis are constantly applied. As a final note, remember the following. Should you have the relevant business and theoretical knowledge, learning a software tool is relatively easy as opposed to learning a programming language. More importantly, it will be sufficient for your need to create quick and accurate analyses. However, if your theoretical preparation is strong enough, you will find yourself restricted by software. Knowing a programming language such as R and Python, gives you the freedom to create specific, ad-hoc tools for each project you are working on. Great! We hope we gave you a good idea about the level of applicability of the most frequently used programming and software tools in the field of data science. Thank you for watching!\""
      ]
     },
     "execution_count": 19,
     "metadata": {},
     "output_type": "execute_result"
    }
   ],
   "source": [
    "pages[0].page_content"
   ]
  },
  {
   "cell_type": "code",
   "execution_count": 20,
   "id": "61cbfbf4-0a35-4324-88a9-5c2980e0815b",
   "metadata": {},
   "outputs": [
    {
     "data": {
      "text/plain": [
       "8259"
      ]
     },
     "execution_count": 20,
     "metadata": {},
     "output_type": "execute_result"
    }
   ],
   "source": [
    "len(pages[0].page_content)"
   ]
  },
  {
   "cell_type": "code",
   "execution_count": 21,
   "id": "0c6a20bc-8385-40c6-8427-8c4a72bd8ccc",
   "metadata": {},
   "outputs": [],
   "source": [
    "from langchain_text_splitters.character import CharacterTextSplitter"
   ]
  },
  {
   "cell_type": "code",
   "execution_count": 22,
   "id": "5f72854f-6320-4232-8cf9-e5cc9828bb72",
   "metadata": {},
   "outputs": [],
   "source": [
    "char_splitter = CharacterTextSplitter(separator = \"\", chunk_size = 500, chunk_overlap = 0)"
   ]
  },
  {
   "cell_type": "code",
   "execution_count": 24,
   "id": "657bf577-f5f8-40f1-87ce-20097d48f192",
   "metadata": {},
   "outputs": [
    {
     "data": {
      "text/plain": [
       "[Document(metadata={'source': 'C:\\\\Users\\\\hp\\\\RAG\\\\Introduction_to_Data_and_Data_Science.docx'}, page_content='Analysis vs Analytics Alright! So… Let’s discuss the not-so-obvious differences between the terms analysis and analytics. Due to the similarity of the words, some people believe they share the same meaning, and thus use them interchangeably. Technically, this isn’t correct. There is, in fact, a distinct difference between the two. And the reason for one often being used instead of the other is the lack of a transparent understanding of both. So, let’s clear this up, shall we? First, we will star'),\n",
       " Document(metadata={'source': 'C:\\\\Users\\\\hp\\\\RAG\\\\Introduction_to_Data_and_Data_Science.docx'}, page_content='t with analysis. Consider the following… You have a huge dataset containing data of various types. Instead of tackling the entire dataset and running the risk of becoming overwhelmed, you separate it into easier to digest chunks and study them individually and examine how they relate to other parts. And that’s analysis in a nutshell. One important thing to remember, however, is that you perform analyses on things that have already happened in the past. Such as using an analysis to explain how a'),\n",
       " Document(metadata={'source': 'C:\\\\Users\\\\hp\\\\RAG\\\\Introduction_to_Data_and_Data_Science.docx'}, page_content='story ended the way it did or how there was a decrease in sales last summer. All this means that we do analyses to explain how and/or why something happened. Great! Now, this leads us nicely on to the definition of analytics. As you have probably guessed, analytics generally refers to the future. Instead of explaining past events it explores potential future ones. Analytics is essentially the application of logical and computational reasoning to the component parts obtained in an analysis. And i'),\n",
       " Document(metadata={'source': 'C:\\\\Users\\\\hp\\\\RAG\\\\Introduction_to_Data_and_Data_Science.docx'}, page_content='n doing this you are looking for patterns and exploring what you could do with them in the future. Here, analytics branches off into two areas: qualitative analytics – this is using your intuition and experience in conjunction with the analysis to plan your next business move. And quantitative analytics – this is applying formulas and algorithms to numbers you have gathered from your analysis. Here are a couple of examples. Say, you are an owner of an online clothing store. You are ahead of the'),\n",
       " Document(metadata={'source': 'C:\\\\Users\\\\hp\\\\RAG\\\\Introduction_to_Data_and_Data_Science.docx'}, page_content=\"competition and have a great understanding of what your customer's needs and wants are. You’ve performed a very detailed analysis from women’s clothing articles and feel sure about which fashion trends to follow. You may use this intuition to decide on which styles of clothing to start selling. This would be qualitative analytics. But you might not know when to introduce the new collection. In that case, relying on past sales data and user experience data, you could predict in which month it wou\"),\n",
       " Document(metadata={'source': 'C:\\\\Users\\\\hp\\\\RAG\\\\Introduction_to_Data_and_Data_Science.docx'}, page_content='ld be best to do that. This is an example of using quantitative analytics. Fantastic! To backtrack a little, you can combine these areas with analyses also – you could perform qualitative analysis – to explain how or why a story ended the way it did. And you can perform quantitative analysis – working with past data to explain how sales decreased last summer. Perfect! Now that we have cleared up the differences between analysis and analytics it shouldn’t be too difficult to see how terms such as'),\n",
       " Document(metadata={'source': 'C:\\\\Users\\\\hp\\\\RAG\\\\Introduction_to_Data_and_Data_Science.docx'}, page_content='‘data analysis’, ‘data analytics’, ‘business analysis’ and ‘business analytics’ can have their unique meanings too. More of this will be explained in the next video which aims to simplify these, as well as many more with a fantastic diagram. So, let’s move on! Programming Languages & Software Employed in Data Science - All the Tools You Need Alright! So… How are the techniques used in data, business intelligence, or predictive analytics applied in real life? Certainly, with the help of computer'),\n",
       " Document(metadata={'source': 'C:\\\\Users\\\\hp\\\\RAG\\\\Introduction_to_Data_and_Data_Science.docx'}, page_content='s. You can basically split the relevant tools into two categories—programming languages and software. Knowing a programming language enables you to devise programs that can execute specific operations. Moreover, you can reuse these programs whenever you need to execute the same action. As you can see from the infographic, R, and Python are the two most popular tools across all columns. Their biggest advantage is that they can manipulate data and are integrated within multiple data and data scien'),\n",
       " Document(metadata={'source': 'C:\\\\Users\\\\hp\\\\RAG\\\\Introduction_to_Data_and_Data_Science.docx'}, page_content='ce software platforms. They are not just suitable for mathematical and statistical computations. In other words, R, and Python are adaptable. They can solve a wide variety of business and data-related problems from beginning to the end. Of course, R, and Python do have their limitations. They are not able to address problems specific to some domains. One example is ‘relational database management systems’—there, SQL is king. It was specifically created for that purpose. SQL is at its most advant'),\n",
       " Document(metadata={'source': 'C:\\\\Users\\\\hp\\\\RAG\\\\Introduction_to_Data_and_Data_Science.docx'}, page_content='ageous when working with traditional, historical data. When preparing your BI analysis, for instance, you will surely employ it. Okay. When it comes to data science, mentioning MATLAB is inevitable. It is ideal for working with mathematical functions or matrix manipulations. That’s why it is present in all categories except for ‘big data’. While respectable, MATLAB usage is a paid service, and that’s one of the reasons why it is losing ground to open-source languages like R and Python. Either wa'),\n",
       " Document(metadata={'source': 'C:\\\\Users\\\\hp\\\\RAG\\\\Introduction_to_Data_and_Data_Science.docx'}, page_content='y, R, Python, and MATLAB, combined with SQL, cover most of the tools used when working with traditional data, BI, and conventional data science. What about big data? Apart from R and Python, people working in this area are often proficient in other languages like Java or Scala. These two have not been developed specifically for doing statistical analyses, however they turn out to be very useful when combining data from multiple sources. All right! Let’s finish off with machine learning. When it'),\n",
       " Document(metadata={'source': 'C:\\\\Users\\\\hp\\\\RAG\\\\Introduction_to_Data_and_Data_Science.docx'}, page_content='comes to machine learning, we often deal with big data. Thus, we need a lot of computational power, and we can expect people to use the languages similar to those in the big data column. Apart from R, Python, and MATLAB, other, faster languages are used like Java, JavaScript, C, C++, and Scala. Cool. What we said may be wonderful, but that’s not all! By using one or more programming languages, people create application software or, as they are sometimes called, software solutions, that are adjus'),\n",
       " Document(metadata={'source': 'C:\\\\Users\\\\hp\\\\RAG\\\\Introduction_to_Data_and_Data_Science.docx'}, page_content='ted for specific business needs. Their smaller scope does not make them less useful, in fact, just the opposite—they are a lot easier to learn and be adopted by others. You have already heard of several of those. Because of its ability to do relatively complex computations and good visualizations quickly, Excel is a tool applicable to more than one category—traditional data, BI, and Data Science. Similarly, SPSS is a very famous tool for working with traditional data and applying statistical ana'),\n",
       " Document(metadata={'source': 'C:\\\\Users\\\\hp\\\\RAG\\\\Introduction_to_Data_and_Data_Science.docx'}, page_content='lysis. Among the many applications we have plotted, we can say there is an increasing amount of software designed for working with big data such as Apache Hadoop, Apache Hbase, and Mongo DB. In terms of big data, Hadoop is the name that must stick with you. Hadoop is listed as a software in the sense that it is a collection of programs, but don’t imagine it as a nice-looking application. It’s actually a software framework which was designed to address the complexity of big data and its computati'),\n",
       " Document(metadata={'source': 'C:\\\\Users\\\\hp\\\\RAG\\\\Introduction_to_Data_and_Data_Science.docx'}, page_content='onal intensity. Most notably, Hadoop distributes the computational tasks on multiple computers which is basically the way to handle big data nowadays. Power BI, SaS, Qlik, and especially Tableau are top-notch examples of software designed for business intelligence visualizations. In terms of predictive analytics, EViews is mostly used for working with econometric time-series models, and Stata—for academic statistical and econometric research, where techniques like regression, cluster, and factor'),\n",
       " Document(metadata={'source': 'C:\\\\Users\\\\hp\\\\RAG\\\\Introduction_to_Data_and_Data_Science.docx'}, page_content='analysis are constantly applied. As a final note, remember the following. Should you have the relevant business and theoretical knowledge, learning a software tool is relatively easy as opposed to learning a programming language. More importantly, it will be sufficient for your need to create quick and accurate analyses. However, if your theoretical preparation is strong enough, you will find yourself restricted by software. Knowing a programming language such as R and Python, gives you the fre'),\n",
       " Document(metadata={'source': 'C:\\\\Users\\\\hp\\\\RAG\\\\Introduction_to_Data_and_Data_Science.docx'}, page_content='edom to create specific, ad-hoc tools for each project you are working on. Great! We hope we gave you a good idea about the level of applicability of the most frequently used programming and software tools in the field of data science. Thank you for watching!')]"
      ]
     },
     "execution_count": 24,
     "metadata": {},
     "output_type": "execute_result"
    }
   ],
   "source": [
    "pages_char_split = char_splitter.split_documents(pages)\n",
    "pages_char_split"
   ]
  },
  {
   "cell_type": "code",
   "execution_count": 2,
   "id": "ab316e5d-5c05-4a42-a167-5754011b99a5",
   "metadata": {},
   "outputs": [],
   "source": [
    "from langchain_text_splitters.markdown import MarkdownHeaderTextSplitter"
   ]
  },
  {
   "cell_type": "code",
   "execution_count": 5,
   "id": "7b37493c-9cde-48e3-bc08-91bd215774bd",
   "metadata": {},
   "outputs": [],
   "source": [
    "loader = Docx2txtLoader(r\"C:\\Users\\hp\\RAG\\Introduction_to_Data_and_Data_Science.docx\")\n",
    "pages = loader.load()"
   ]
  },
  {
   "cell_type": "code",
   "execution_count": 28,
   "id": "0fef5d1d-c159-4aa4-bf2e-f70697b92b00",
   "metadata": {},
   "outputs": [
    {
     "data": {
      "text/plain": [
       "[Document(metadata={'source': 'C:\\\\Users\\\\hp\\\\RAG\\\\Introduction_to_Data_and_Data_Science.docx'}, page_content=\"Analysis vs Analytics\\n\\nAlright! So…\\n\\nLet’s discuss the not-so-obvious differences between the terms analysis and analytics.\\n\\nDue to the similarity of the words, some people believe they share the same meaning, and thus use them interchangeably. Technically, this\\n\\nisn’t correct. There is, in fact, a distinct difference between the two. And the reason for one often being used instead of the other is the lack of a transparent understanding\\n\\nof both.\\n\\nSo, let’s clear this up, shall we? First, we will start with analysis. Consider the following…\\n\\nYou have a huge dataset containing data of various types. Instead of tackling the entire\\n\\ndataset and running the risk of becoming overwhelmed, you separate it into easier to digest chunks\\n\\nand study them individually and examine how they relate to other parts. And that’s analysis in a nutshell.\\n\\nOne important thing to remember, however, is that you perform analyses on things that have already happened in the past. Such as using an analysis to explain how a story ended the way it did or how there was a decrease\\n\\nin sales last summer.\\n\\nAll this means that we do analyses to explain how and/or why something happened.\\n\\nGreat!\\n\\nNow, this leads us nicely on to the definition of analytics.\\n\\nAs you have probably guessed, analytics generally refers to the future. Instead of explaining\\n\\npast events it explores potential future ones. Analytics is essentially the application of logical and computational reasoning to the component parts obtained in an analysis. And in doing this you are looking for patterns\\n\\n\\n\\nand exploring what you could do with them in the future.\\n\\nHere, analytics branches off into two areas: qualitative analytics – this is using your intuition and experience in conjunction with the analysis to plan your next business move. And quantitative analytics – this is applying formulas and algorithms to numbers you have gathered from your analysis.\\n\\nHere are a couple of examples.\\n\\nSay, you are an owner of an online clothing store. You are ahead of the competition and\\n\\nhave a great understanding of what your customer's\\n\\nneeds and wants are. You’ve performed a\\n\\nvery detailed analysis from women’s clothing articles and feel sure about which fashion trends to follow. You may use this intuition to decide on which styles of clothing to start selling. This would be qualitative analytics.\\n\\nBut you might not know when to introduce the new collection. In that case, relying on past sales data and user experience data, you could predict in which month it would be best to\\n\\ndo that. This is an example of using quantitative analytics.\\n\\nFantastic!\\n\\nTo backtrack a little, you can combine these areas with analyses also – you could perform qualitative analysis – to explain how or\\n\\nwhy a story ended the way it did. And you can perform quantitative analysis – working with past data to explain how sales decreased last summer.\\n\\nPerfect!\\n\\nNow that we have cleared up the differences between analysis and analytics it shouldn’t be too difficult to see how terms such as ‘data analysis’, ‘data analytics’,\\n\\n‘business analysis’ and ‘business analytics’\\n\\ncan have their unique meanings too. More of this will be explained in the next video which aims to simplify these, as well\\n\\n\\n\\nas many more with a fantastic diagram. So,\\n\\nlet’s move on!\\n\\n\\n\\nProgramming Languages & Software Employed in Data Science - All the Tools You Need\\n\\nAlright! So…\\n\\nHow are the techniques used in data, business intelligence, or predictive analytics applied\\n\\nin real life?\\n\\nCertainly, with the help of computers.\\n\\nYou can basically split the relevant tools\\n\\ninto two categories—programming languages and software.\\n\\nKnowing a programming language enables you to devise programs that can execute specific operations. Moreover, you can reuse these programs whenever you need to execute the same action.\\n\\nAs you can see from the infographic, R, and Python are the two most popular tools across all columns. Their biggest advantage is that they can manipulate data and are integrated within multiple data and data science software platforms. They are not just suitable for mathematical and statistical computations.\\n\\nIn other words, R, and Python are adaptable.\\n\\nThey can solve a wide variety of business\\n\\nand data-related problems from beginning to the end.\\n\\nOf course, R, and Python do have their limitations.\\n\\nThey are not able to address problems specific to some domains. One example is ‘relational database management systems’—there, SQL is king. It was specifically created for that\\n\\npurpose. SQL is at its most advantageous when working with traditional, historical data.\\n\\nWhen preparing your BI analysis, for instance, you will surely employ it.\\n\\nOkay.\\n\\nWhen it comes to data science, mentioning\\n\\n\\n\\nMATLAB is inevitable. It is ideal for working\\n\\nwith mathematical functions or matrix manipulations.\\n\\nThat’s why it is present in all categories except for ‘big data’. While respectable, MATLAB usage is a paid service, and that’s one of the reasons why it is losing ground\\n\\nto open-source languages like R and Python. Either way, R, Python, and MATLAB, combined with SQL, cover most of the tools used when working with traditional data, BI, and conventional data science.\\n\\nWhat about big data?\\n\\nApart from R and Python, people working in this area are often proficient in other languages like Java or Scala. These two have not been developed specifically for doing statistical analyses, however they turn out to be very\\n\\nuseful when combining data from multiple sources.\\n\\nAll right! Let’s finish off with machine\\n\\nlearning.\\n\\nWhen it comes to machine learning, we often deal with big data. Thus, we need a lot of computational power, and we can expect people to use the languages similar to those in the\\n\\nbig data column. Apart from R, Python, and MATLAB, other, faster languages are used like Java, JavaScript, C, C++, and Scala.\\n\\nCool.\\n\\nWhat we said may be wonderful, but that’s\\n\\nnot all!\\n\\nBy using one or more programming languages, people create application software or, as\\n\\nthey are sometimes called, software solutions, that are adjusted for specific business needs. Their smaller scope does not make them less useful, in fact, just the opposite—they\\n\\nare a lot easier to learn and be adopted by others. You have already heard of several of those.\\n\\nBecause of its ability to do relatively complex computations and good visualizations quickly, Excel is a tool applicable to more than one\\n\\n\\n\\ncategory—traditional data, BI, and Data Science. Similarly, SPSS is a very famous tool for working with traditional data and applying statistical analysis.\\n\\nAmong the many applications we have plotted, we can say there is an increasing amount of software designed for working with big data\\n\\nsuch as Apache Hadoop, Apache Hbase, and Mongo DB.\\n\\nIn terms of big data, Hadoop is the name that must stick with you. Hadoop is listed as a software in the sense that it is a collection\\n\\nof programs, but don’t imagine it as a nice-looking application. It’s actually a software framework which was designed to address the complexity\\n\\nof big data and its computational intensity.\\n\\nMost notably, Hadoop distributes the computational tasks on multiple computers which is basically\\n\\nthe way to handle big data nowadays.\\n\\nPower BI, SaS, Qlik, and especially Tableau are top-notch examples of software designed for business intelligence visualizations.\\n\\nIn terms of predictive analytics, EViews is\\n\\nmostly used for working with econometric time-series models, and Stata—for academic statistical\\n\\nand econometric research, where techniques like regression, cluster, and factor analysis are constantly applied.\\n\\nAs a final note, remember the following. Should you have the relevant business and theoretical knowledge, learning a software tool is relatively easy as opposed to learning a programming language. More importantly, it will be sufficient for your need to create quick and accurate analyses.\\n\\nHowever, if your theoretical preparation is strong enough, you will find yourself restricted by software. Knowing a programming language such as R and Python, gives you the freedom to create specific, ad-hoc tools for each\\n\\nproject you are working on. Great!\\n\\n\\n\\nWe hope we gave you a good idea about the level of applicability of the most frequently used programming and software tools in the field of data science.\\n\\nThank you for watching!\")]"
      ]
     },
     "execution_count": 28,
     "metadata": {},
     "output_type": "execute_result"
    }
   ],
   "source": [
    "pages"
   ]
  },
  {
   "cell_type": "code",
   "execution_count": 6,
   "id": "c6bc7cbc-61f3-460d-9560-0cae173a5166",
   "metadata": {},
   "outputs": [],
   "source": [
    "md_splitter = MarkdownHeaderTextSplitter(headers_to_split_on=[(\"#\",\"Course Title\"),(\"##\",\"Lecture Title\")])"
   ]
  },
  {
   "cell_type": "code",
   "execution_count": 7,
   "id": "00bcb167-7980-41eb-bc7a-d2bdac2e0552",
   "metadata": {},
   "outputs": [],
   "source": [
    "pages_md_split = md_splitter.split_text(pages[0].page_content)"
   ]
  },
  {
   "cell_type": "code",
   "execution_count": 31,
   "id": "a1545ec7-5dba-44f1-bf53-8655660c1d2f",
   "metadata": {},
   "outputs": [
    {
     "data": {
      "text/plain": [
       "[Document(metadata={}, page_content=\"Analysis vs Analytics  \\nAlright! So…  \\nLet’s discuss the not-so-obvious differences between the terms analysis and analytics.  \\nDue to the similarity of the words, some people believe they share the same meaning, and thus use them interchangeably. Technically, this  \\nisn’t correct. There is, in fact, a distinct difference between the two. And the reason for one often being used instead of the other is the lack of a transparent understanding  \\nof both.  \\nSo, let’s clear this up, shall we? First, we will start with analysis. Consider the following…  \\nYou have a huge dataset containing data of various types. Instead of tackling the entire  \\ndataset and running the risk of becoming overwhelmed, you separate it into easier to digest chunks  \\nand study them individually and examine how they relate to other parts. And that’s analysis in a nutshell.  \\nOne important thing to remember, however, is that you perform analyses on things that have already happened in the past. Such as using an analysis to explain how a story ended the way it did or how there was a decrease  \\nin sales last summer.  \\nAll this means that we do analyses to explain how and/or why something happened.  \\nGreat!  \\nNow, this leads us nicely on to the definition of analytics.  \\nAs you have probably guessed, analytics generally refers to the future. Instead of explaining  \\npast events it explores potential future ones. Analytics is essentially the application of logical and computational reasoning to the component parts obtained in an analysis. And in doing this you are looking for patterns  \\nand exploring what you could do with them in the future.  \\nHere, analytics branches off into two areas: qualitative analytics – this is using your intuition and experience in conjunction with the analysis to plan your next business move. And quantitative analytics – this is applying formulas and algorithms to numbers you have gathered from your analysis.  \\nHere are a couple of examples.  \\nSay, you are an owner of an online clothing store. You are ahead of the competition and  \\nhave a great understanding of what your customer's  \\nneeds and wants are. You’ve performed a  \\nvery detailed analysis from women’s clothing articles and feel sure about which fashion trends to follow. You may use this intuition to decide on which styles of clothing to start selling. This would be qualitative analytics.  \\nBut you might not know when to introduce the new collection. In that case, relying on past sales data and user experience data, you could predict in which month it would be best to  \\ndo that. This is an example of using quantitative analytics.  \\nFantastic!  \\nTo backtrack a little, you can combine these areas with analyses also – you could perform qualitative analysis – to explain how or  \\nwhy a story ended the way it did. And you can perform quantitative analysis – working with past data to explain how sales decreased last summer.  \\nPerfect!  \\nNow that we have cleared up the differences between analysis and analytics it shouldn’t be too difficult to see how terms such as ‘data analysis’, ‘data analytics’,  \\n‘business analysis’ and ‘business analytics’  \\ncan have their unique meanings too. More of this will be explained in the next video which aims to simplify these, as well  \\nas many more with a fantastic diagram. So,  \\nlet’s move on!  \\nProgramming Languages & Software Employed in Data Science - All the Tools You Need  \\nAlright! So…  \\nHow are the techniques used in data, business intelligence, or predictive analytics applied  \\nin real life?  \\nCertainly, with the help of computers.  \\nYou can basically split the relevant tools  \\ninto two categories—programming languages and software.  \\nKnowing a programming language enables you to devise programs that can execute specific operations. Moreover, you can reuse these programs whenever you need to execute the same action.  \\nAs you can see from the infographic, R, and Python are the two most popular tools across all columns. Their biggest advantage is that they can manipulate data and are integrated within multiple data and data science software platforms. They are not just suitable for mathematical and statistical computations.  \\nIn other words, R, and Python are adaptable.  \\nThey can solve a wide variety of business  \\nand data-related problems from beginning to the end.  \\nOf course, R, and Python do have their limitations.  \\nThey are not able to address problems specific to some domains. One example is ‘relational database management systems’—there, SQL is king. It was specifically created for that  \\npurpose. SQL is at its most advantageous when working with traditional, historical data.  \\nWhen preparing your BI analysis, for instance, you will surely employ it.  \\nOkay.  \\nWhen it comes to data science, mentioning  \\nMATLAB is inevitable. It is ideal for working  \\nwith mathematical functions or matrix manipulations.  \\nThat’s why it is present in all categories except for ‘big data’. While respectable, MATLAB usage is a paid service, and that’s one of the reasons why it is losing ground  \\nto open-source languages like R and Python. Either way, R, Python, and MATLAB, combined with SQL, cover most of the tools used when working with traditional data, BI, and conventional data science.  \\nWhat about big data?  \\nApart from R and Python, people working in this area are often proficient in other languages like Java or Scala. These two have not been developed specifically for doing statistical analyses, however they turn out to be very  \\nuseful when combining data from multiple sources.  \\nAll right! Let’s finish off with machine  \\nlearning.  \\nWhen it comes to machine learning, we often deal with big data. Thus, we need a lot of computational power, and we can expect people to use the languages similar to those in the  \\nbig data column. Apart from R, Python, and MATLAB, other, faster languages are used like Java, JavaScript, C, C++, and Scala.  \\nCool.  \\nWhat we said may be wonderful, but that’s  \\nnot all!  \\nBy using one or more programming languages, people create application software or, as  \\nthey are sometimes called, software solutions, that are adjusted for specific business needs. Their smaller scope does not make them less useful, in fact, just the opposite—they  \\nare a lot easier to learn and be adopted by others. You have already heard of several of those.  \\nBecause of its ability to do relatively complex computations and good visualizations quickly, Excel is a tool applicable to more than one  \\ncategory—traditional data, BI, and Data Science. Similarly, SPSS is a very famous tool for working with traditional data and applying statistical analysis.  \\nAmong the many applications we have plotted, we can say there is an increasing amount of software designed for working with big data  \\nsuch as Apache Hadoop, Apache Hbase, and Mongo DB.  \\nIn terms of big data, Hadoop is the name that must stick with you. Hadoop is listed as a software in the sense that it is a collection  \\nof programs, but don’t imagine it as a nice-looking application. It’s actually a software framework which was designed to address the complexity  \\nof big data and its computational intensity.  \\nMost notably, Hadoop distributes the computational tasks on multiple computers which is basically  \\nthe way to handle big data nowadays.  \\nPower BI, SaS, Qlik, and especially Tableau are top-notch examples of software designed for business intelligence visualizations.  \\nIn terms of predictive analytics, EViews is  \\nmostly used for working with econometric time-series models, and Stata—for academic statistical  \\nand econometric research, where techniques like regression, cluster, and factor analysis are constantly applied.  \\nAs a final note, remember the following. Should you have the relevant business and theoretical knowledge, learning a software tool is relatively easy as opposed to learning a programming language. More importantly, it will be sufficient for your need to create quick and accurate analyses.  \\nHowever, if your theoretical preparation is strong enough, you will find yourself restricted by software. Knowing a programming language such as R and Python, gives you the freedom to create specific, ad-hoc tools for each  \\nproject you are working on. Great!  \\nWe hope we gave you a good idea about the level of applicability of the most frequently used programming and software tools in the field of data science.  \\nThank you for watching!\")]"
      ]
     },
     "execution_count": 31,
     "metadata": {},
     "output_type": "execute_result"
    }
   ],
   "source": [
    "pages_md_split"
   ]
  },
  {
   "cell_type": "code",
   "execution_count": 1,
   "id": "25549006-70e6-4bb6-84b2-6d6e5b5e743e",
   "metadata": {},
   "outputs": [],
   "source": [
    "from langchain_text_splitters.markdown import MarkdownHeaderTextSplitter\n",
    "from langchain_text_splitters.character import CharacterTextSplitter\n",
    "from langchain_openai.embeddings import OpenAIEmbeddings"
   ]
  },
  {
   "cell_type": "code",
   "execution_count": 17,
   "id": "b612d97f-539b-42af-8fc6-6500ffca85b9",
   "metadata": {},
   "outputs": [],
   "source": [
    "import os\n",
    "os.environ[\"OPENAI_API_KEY\"] = \"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\""
   ]
  },
  {
   "cell_type": "code",
   "execution_count": 18,
   "id": "7f331280-8f0b-4f03-a080-3aa57954e52e",
   "metadata": {},
   "outputs": [],
   "source": [
    "import openai\n",
    "openai.api_key = os.getenv(\"OPENAI_API_KEY\")"
   ]
  },
  {
   "cell_type": "code",
   "execution_count": 8,
   "id": "9eb457c3-d09b-4d58-b1d0-122564e4a492",
   "metadata": {},
   "outputs": [],
   "source": [
    "for i in range(len(pages_md_split)):\n",
    "    pages_md_split[i].page_content = ' '.join(pages_md_split[i].page_content.split())"
   ]
  },
  {
   "cell_type": "code",
   "execution_count": 9,
   "id": "109603bf-4d84-4cee-942f-1ba06530b556",
   "metadata": {},
   "outputs": [],
   "source": [
    "char_splitter = CharacterTextSplitter( \n",
    "                        separator = \".\", chunk_size = 500, chunk_overlap = 50)\n",
    "\n",
    "pages_char_split = char_splitter.split_documents(pages_md_split)"
   ]
  },
  {
   "cell_type": "code",
   "execution_count": 10,
   "id": "4bc2a06f-37b0-462f-bf33-56d01470747f",
   "metadata": {},
   "outputs": [
    {
     "data": {
      "text/plain": [
       "[Document(metadata={}, page_content=\"Analysis vs Analytics Alright! So… Let’s discuss the not-so-obvious differences between the terms analysis and analytics. Due to the similarity of the words, some people believe they share the same meaning, and thus use them interchangeably. Technically, this isn’t correct. There is, in fact, a distinct difference between the two. And the reason for one often being used instead of the other is the lack of a transparent understanding of both. So, let’s clear this up, shall we? First, we will start with analysis. Consider the following… You have a huge dataset containing data of various types. Instead of tackling the entire dataset and running the risk of becoming overwhelmed, you separate it into easier to digest chunks and study them individually and examine how they relate to other parts. And that’s analysis in a nutshell. One important thing to remember, however, is that you perform analyses on things that have already happened in the past. Such as using an analysis to explain how a story ended the way it did or how there was a decrease in sales last summer. All this means that we do analyses to explain how and/or why something happened. Great! Now, this leads us nicely on to the definition of analytics. As you have probably guessed, analytics generally refers to the future. Instead of explaining past events it explores potential future ones. Analytics is essentially the application of logical and computational reasoning to the component parts obtained in an analysis. And in doing this you are looking for patterns and exploring what you could do with them in the future. Here, analytics branches off into two areas: qualitative analytics – this is using your intuition and experience in conjunction with the analysis to plan your next business move. And quantitative analytics – this is applying formulas and algorithms to numbers you have gathered from your analysis. Here are a couple of examples. Say, you are an owner of an online clothing store. You are ahead of the competition and have a great understanding of what your customer's needs and wants are. You’ve performed a very detailed analysis from women’s clothing articles and feel sure about which fashion trends to follow. You may use this intuition to decide on which styles of clothing to start selling. This would be qualitative analytics. But you might not know when to introduce the new collection. In that case, relying on past sales data and user experience data, you could predict in which month it would be best to do that. This is an example of using quantitative analytics. Fantastic! To backtrack a little, you can combine these areas with analyses also – you could perform qualitative analysis – to explain how or why a story ended the way it did. And you can perform quantitative analysis – working with past data to explain how sales decreased last summer. Perfect! Now that we have cleared up the differences between analysis and analytics it shouldn’t be too difficult to see how terms such as ‘data analysis’, ‘data analytics’, ‘business analysis’ and ‘business analytics’ can have their unique meanings too. More of this will be explained in the next video which aims to simplify these, as well as many more with a fantastic diagram. So, let’s move on! Programming Languages & Software Employed in Data Science - All the Tools You Need Alright! So… How are the techniques used in data, business intelligence, or predictive analytics applied in real life? Certainly, with the help of computers. You can basically split the relevant tools into two categories—programming languages and software. Knowing a programming language enables you to devise programs that can execute specific operations. Moreover, you can reuse these programs whenever you need to execute the same action. As you can see from the infographic, R, and Python are the two most popular tools across all columns. Their biggest advantage is that they can manipulate data and are integrated within multiple data and data science software platforms. They are not just suitable for mathematical and statistical computations. In other words, R, and Python are adaptable. They can solve a wide variety of business and data-related problems from beginning to the end. Of course, R, and Python do have their limitations. They are not able to address problems specific to some domains. One example is ‘relational database management systems’—there, SQL is king. It was specifically created for that purpose. SQL is at its most advantageous when working with traditional, historical data. When preparing your BI analysis, for instance, you will surely employ it. Okay. When it comes to data science, mentioning MATLAB is inevitable. It is ideal for working with mathematical functions or matrix manipulations. That’s why it is present in all categories except for ‘big data’. While respectable, MATLAB usage is a paid service, and that’s one of the reasons why it is losing ground to open-source languages like R and Python. Either way, R, Python, and MATLAB, combined with SQL, cover most of the tools used when working with traditional data, BI, and conventional data science. What about big data? Apart from R and Python, people working in this area are often proficient in other languages like Java or Scala. These two have not been developed specifically for doing statistical analyses, however they turn out to be very useful when combining data from multiple sources. All right! Let’s finish off with machine learning. When it comes to machine learning, we often deal with big data. Thus, we need a lot of computational power, and we can expect people to use the languages similar to those in the big data column. Apart from R, Python, and MATLAB, other, faster languages are used like Java, JavaScript, C, C++, and Scala. Cool. What we said may be wonderful, but that’s not all! By using one or more programming languages, people create application software or, as they are sometimes called, software solutions, that are adjusted for specific business needs. Their smaller scope does not make them less useful, in fact, just the opposite—they are a lot easier to learn and be adopted by others. You have already heard of several of those. Because of its ability to do relatively complex computations and good visualizations quickly, Excel is a tool applicable to more than one category—traditional data, BI, and Data Science. Similarly, SPSS is a very famous tool for working with traditional data and applying statistical analysis. Among the many applications we have plotted, we can say there is an increasing amount of software designed for working with big data such as Apache Hadoop, Apache Hbase, and Mongo DB. In terms of big data, Hadoop is the name that must stick with you. Hadoop is listed as a software in the sense that it is a collection of programs, but don’t imagine it as a nice-looking application. It’s actually a software framework which was designed to address the complexity of big data and its computational intensity. Most notably, Hadoop distributes the computational tasks on multiple computers which is basically the way to handle big data nowadays. Power BI, SaS, Qlik, and especially Tableau are top-notch examples of software designed for business intelligence visualizations. In terms of predictive analytics, EViews is mostly used for working with econometric time-series models, and Stata—for academic statistical and econometric research, where techniques like regression, cluster, and factor analysis are constantly applied. As a final note, remember the following. Should you have the relevant business and theoretical knowledge, learning a software tool is relatively easy as opposed to learning a programming language. More importantly, it will be sufficient for your need to create quick and accurate analyses. However, if your theoretical preparation is strong enough, you will find yourself restricted by software. Knowing a programming language such as R and Python, gives you the freedom to create specific, ad-hoc tools for each project you are working on. Great! We hope we gave you a good idea about the level of applicability of the most frequently used programming and software tools in the field of data science. Thank you for watching!\")]"
      ]
     },
     "execution_count": 10,
     "metadata": {},
     "output_type": "execute_result"
    }
   ],
   "source": [
    "pages_md_split"
   ]
  },
  {
   "cell_type": "code",
   "execution_count": 15,
   "id": "c875144b-d359-4c84-8a70-4bcc0cf86446",
   "metadata": {},
   "outputs": [],
   "source": [
    "embedding = OpenAIEmbeddings(model= \"text-embedding-ada-002\")"
   ]
  },
  {
   "cell_type": "code",
   "execution_count": 19,
   "id": "d91affec-cf54-49d3-a62d-246e2c162bf8",
   "metadata": {},
   "outputs": [
    {
     "ename": "AuthenticationError",
     "evalue": "Error code: 401 - {'error': {'message': 'Incorrect API key provided: gsk_cIy7********************************************Kj1d. You can find your API key at https://platform.openai.com/account/api-keys.', 'type': 'invalid_request_error', 'param': None, 'code': 'invalid_api_key'}}",
     "output_type": "error",
     "traceback": [
      "\u001b[1;31m---------------------------------------------------------------------------\u001b[0m",
      "\u001b[1;31mAuthenticationError\u001b[0m                       Traceback (most recent call last)",
      "Cell \u001b[1;32mIn[19], line 1\u001b[0m\n\u001b[1;32m----> 1\u001b[0m vector_1 \u001b[38;5;241m=\u001b[39m \u001b[43membedding\u001b[49m\u001b[38;5;241;43m.\u001b[39;49m\u001b[43membed_query\u001b[49m\u001b[43m(\u001b[49m\u001b[43mpages_char_split\u001b[49m\u001b[43m[\u001b[49m\u001b[38;5;241;43m3\u001b[39;49m\u001b[43m]\u001b[49m\u001b[38;5;241;43m.\u001b[39;49m\u001b[43mpage_content\u001b[49m\u001b[43m)\u001b[49m\n\u001b[0;32m      2\u001b[0m vector_2 \u001b[38;5;241m=\u001b[39m embedding\u001b[38;5;241m.\u001b[39membed_query(pages_char_split[\u001b[38;5;241m5\u001b[39m]\u001b[38;5;241m.\u001b[39mpage_content)\n\u001b[0;32m      3\u001b[0m vector_3 \u001b[38;5;241m=\u001b[39m embedding\u001b[38;5;241m.\u001b[39membed_query(pages_char_split[\u001b[38;5;241m18\u001b[39m]\u001b[38;5;241m.\u001b[39mpage_content)\n",
      "File \u001b[1;32m~\\.conda\\envs\\langchain_env\\lib\\site-packages\\langchain_openai\\embeddings\\base.py:638\u001b[0m, in \u001b[0;36mOpenAIEmbeddings.embed_query\u001b[1;34m(self, text, **kwargs)\u001b[0m\n\u001b[0;32m    628\u001b[0m \u001b[38;5;28;01mdef\u001b[39;00m\u001b[38;5;250m \u001b[39m\u001b[38;5;21membed_query\u001b[39m(\u001b[38;5;28mself\u001b[39m, text: \u001b[38;5;28mstr\u001b[39m, \u001b[38;5;241m*\u001b[39m\u001b[38;5;241m*\u001b[39mkwargs: Any) \u001b[38;5;241m-\u001b[39m\u001b[38;5;241m>\u001b[39m \u001b[38;5;28mlist\u001b[39m[\u001b[38;5;28mfloat\u001b[39m]:\n\u001b[0;32m    629\u001b[0m \u001b[38;5;250m    \u001b[39m\u001b[38;5;124;03m\"\"\"Call out to OpenAI's embedding endpoint for embedding query text.\u001b[39;00m\n\u001b[0;32m    630\u001b[0m \n\u001b[0;32m    631\u001b[0m \u001b[38;5;124;03m    Args:\u001b[39;00m\n\u001b[1;32m   (...)\u001b[0m\n\u001b[0;32m    636\u001b[0m \u001b[38;5;124;03m        Embedding for the text.\u001b[39;00m\n\u001b[0;32m    637\u001b[0m \u001b[38;5;124;03m    \"\"\"\u001b[39;00m\n\u001b[1;32m--> 638\u001b[0m     \u001b[38;5;28;01mreturn\u001b[39;00m \u001b[38;5;28mself\u001b[39m\u001b[38;5;241m.\u001b[39membed_documents([text], \u001b[38;5;241m*\u001b[39m\u001b[38;5;241m*\u001b[39mkwargs)[\u001b[38;5;241m0\u001b[39m]\n",
      "File \u001b[1;32m~\\.conda\\envs\\langchain_env\\lib\\site-packages\\langchain_openai\\embeddings\\base.py:590\u001b[0m, in \u001b[0;36mOpenAIEmbeddings.embed_documents\u001b[1;34m(self, texts, chunk_size, **kwargs)\u001b[0m\n\u001b[0;32m    587\u001b[0m \u001b[38;5;66;03m# NOTE: to keep things simple, we assume the list may contain texts longer\u001b[39;00m\n\u001b[0;32m    588\u001b[0m \u001b[38;5;66;03m#       than the maximum context and use length-safe embedding function.\u001b[39;00m\n\u001b[0;32m    589\u001b[0m engine \u001b[38;5;241m=\u001b[39m cast(\u001b[38;5;28mstr\u001b[39m, \u001b[38;5;28mself\u001b[39m\u001b[38;5;241m.\u001b[39mdeployment)\n\u001b[1;32m--> 590\u001b[0m \u001b[38;5;28;01mreturn\u001b[39;00m \u001b[38;5;28mself\u001b[39m\u001b[38;5;241m.\u001b[39m_get_len_safe_embeddings(\n\u001b[0;32m    591\u001b[0m     texts, engine\u001b[38;5;241m=\u001b[39mengine, chunk_size\u001b[38;5;241m=\u001b[39mchunk_size, \u001b[38;5;241m*\u001b[39m\u001b[38;5;241m*\u001b[39mkwargs\n\u001b[0;32m    592\u001b[0m )\n",
      "File \u001b[1;32m~\\.conda\\envs\\langchain_env\\lib\\site-packages\\langchain_openai\\embeddings\\base.py:478\u001b[0m, in \u001b[0;36mOpenAIEmbeddings._get_len_safe_embeddings\u001b[1;34m(self, texts, engine, chunk_size, **kwargs)\u001b[0m\n\u001b[0;32m    476\u001b[0m batched_embeddings: \u001b[38;5;28mlist\u001b[39m[\u001b[38;5;28mlist\u001b[39m[\u001b[38;5;28mfloat\u001b[39m]] \u001b[38;5;241m=\u001b[39m []\n\u001b[0;32m    477\u001b[0m \u001b[38;5;28;01mfor\u001b[39;00m i \u001b[38;5;129;01min\u001b[39;00m _iter:\n\u001b[1;32m--> 478\u001b[0m     response \u001b[38;5;241m=\u001b[39m \u001b[38;5;28mself\u001b[39m\u001b[38;5;241m.\u001b[39mclient\u001b[38;5;241m.\u001b[39mcreate(\n\u001b[0;32m    479\u001b[0m         \u001b[38;5;28minput\u001b[39m\u001b[38;5;241m=\u001b[39mtokens[i : i \u001b[38;5;241m+\u001b[39m _chunk_size], \u001b[38;5;241m*\u001b[39m\u001b[38;5;241m*\u001b[39mclient_kwargs\n\u001b[0;32m    480\u001b[0m     )\n\u001b[0;32m    481\u001b[0m     \u001b[38;5;28;01mif\u001b[39;00m \u001b[38;5;129;01mnot\u001b[39;00m \u001b[38;5;28misinstance\u001b[39m(response, \u001b[38;5;28mdict\u001b[39m):\n\u001b[0;32m    482\u001b[0m         response \u001b[38;5;241m=\u001b[39m response\u001b[38;5;241m.\u001b[39mmodel_dump()\n",
      "File \u001b[1;32m~\\.conda\\envs\\langchain_env\\lib\\site-packages\\openai\\resources\\embeddings.py:129\u001b[0m, in \u001b[0;36mEmbeddings.create\u001b[1;34m(self, input, model, dimensions, encoding_format, user, extra_headers, extra_query, extra_body, timeout)\u001b[0m\n\u001b[0;32m    123\u001b[0m             embedding\u001b[38;5;241m.\u001b[39membedding \u001b[38;5;241m=\u001b[39m np\u001b[38;5;241m.\u001b[39mfrombuffer(  \u001b[38;5;66;03m# type: ignore[no-untyped-call]\u001b[39;00m\n\u001b[0;32m    124\u001b[0m                 base64\u001b[38;5;241m.\u001b[39mb64decode(data), dtype\u001b[38;5;241m=\u001b[39m\u001b[38;5;124m\"\u001b[39m\u001b[38;5;124mfloat32\u001b[39m\u001b[38;5;124m\"\u001b[39m\n\u001b[0;32m    125\u001b[0m             )\u001b[38;5;241m.\u001b[39mtolist()\n\u001b[0;32m    127\u001b[0m     \u001b[38;5;28;01mreturn\u001b[39;00m obj\n\u001b[1;32m--> 129\u001b[0m \u001b[38;5;28;01mreturn\u001b[39;00m \u001b[38;5;28;43mself\u001b[39;49m\u001b[38;5;241;43m.\u001b[39;49m\u001b[43m_post\u001b[49m\u001b[43m(\u001b[49m\n\u001b[0;32m    130\u001b[0m \u001b[43m    \u001b[49m\u001b[38;5;124;43m\"\u001b[39;49m\u001b[38;5;124;43m/embeddings\u001b[39;49m\u001b[38;5;124;43m\"\u001b[39;49m\u001b[43m,\u001b[49m\n\u001b[0;32m    131\u001b[0m \u001b[43m    \u001b[49m\u001b[43mbody\u001b[49m\u001b[38;5;241;43m=\u001b[39;49m\u001b[43mmaybe_transform\u001b[49m\u001b[43m(\u001b[49m\u001b[43mparams\u001b[49m\u001b[43m,\u001b[49m\u001b[43m \u001b[49m\u001b[43membedding_create_params\u001b[49m\u001b[38;5;241;43m.\u001b[39;49m\u001b[43mEmbeddingCreateParams\u001b[49m\u001b[43m)\u001b[49m\u001b[43m,\u001b[49m\n\u001b[0;32m    132\u001b[0m \u001b[43m    \u001b[49m\u001b[43moptions\u001b[49m\u001b[38;5;241;43m=\u001b[39;49m\u001b[43mmake_request_options\u001b[49m\u001b[43m(\u001b[49m\n\u001b[0;32m    133\u001b[0m \u001b[43m        \u001b[49m\u001b[43mextra_headers\u001b[49m\u001b[38;5;241;43m=\u001b[39;49m\u001b[43mextra_headers\u001b[49m\u001b[43m,\u001b[49m\n\u001b[0;32m    134\u001b[0m \u001b[43m        \u001b[49m\u001b[43mextra_query\u001b[49m\u001b[38;5;241;43m=\u001b[39;49m\u001b[43mextra_query\u001b[49m\u001b[43m,\u001b[49m\n\u001b[0;32m    135\u001b[0m \u001b[43m        \u001b[49m\u001b[43mextra_body\u001b[49m\u001b[38;5;241;43m=\u001b[39;49m\u001b[43mextra_body\u001b[49m\u001b[43m,\u001b[49m\n\u001b[0;32m    136\u001b[0m \u001b[43m        \u001b[49m\u001b[43mtimeout\u001b[49m\u001b[38;5;241;43m=\u001b[39;49m\u001b[43mtimeout\u001b[49m\u001b[43m,\u001b[49m\n\u001b[0;32m    137\u001b[0m \u001b[43m        \u001b[49m\u001b[43mpost_parser\u001b[49m\u001b[38;5;241;43m=\u001b[39;49m\u001b[43mparser\u001b[49m\u001b[43m,\u001b[49m\n\u001b[0;32m    138\u001b[0m \u001b[43m    \u001b[49m\u001b[43m)\u001b[49m\u001b[43m,\u001b[49m\n\u001b[0;32m    139\u001b[0m \u001b[43m    \u001b[49m\u001b[43mcast_to\u001b[49m\u001b[38;5;241;43m=\u001b[39;49m\u001b[43mCreateEmbeddingResponse\u001b[49m\u001b[43m,\u001b[49m\n\u001b[0;32m    140\u001b[0m \u001b[43m\u001b[49m\u001b[43m)\u001b[49m\n",
      "File \u001b[1;32m~\\.conda\\envs\\langchain_env\\lib\\site-packages\\openai\\_base_client.py:1249\u001b[0m, in \u001b[0;36mSyncAPIClient.post\u001b[1;34m(self, path, cast_to, body, options, files, stream, stream_cls)\u001b[0m\n\u001b[0;32m   1235\u001b[0m \u001b[38;5;28;01mdef\u001b[39;00m\u001b[38;5;250m \u001b[39m\u001b[38;5;21mpost\u001b[39m(\n\u001b[0;32m   1236\u001b[0m     \u001b[38;5;28mself\u001b[39m,\n\u001b[0;32m   1237\u001b[0m     path: \u001b[38;5;28mstr\u001b[39m,\n\u001b[1;32m   (...)\u001b[0m\n\u001b[0;32m   1244\u001b[0m     stream_cls: \u001b[38;5;28mtype\u001b[39m[_StreamT] \u001b[38;5;241m|\u001b[39m \u001b[38;5;28;01mNone\u001b[39;00m \u001b[38;5;241m=\u001b[39m \u001b[38;5;28;01mNone\u001b[39;00m,\n\u001b[0;32m   1245\u001b[0m ) \u001b[38;5;241m-\u001b[39m\u001b[38;5;241m>\u001b[39m ResponseT \u001b[38;5;241m|\u001b[39m _StreamT:\n\u001b[0;32m   1246\u001b[0m     opts \u001b[38;5;241m=\u001b[39m FinalRequestOptions\u001b[38;5;241m.\u001b[39mconstruct(\n\u001b[0;32m   1247\u001b[0m         method\u001b[38;5;241m=\u001b[39m\u001b[38;5;124m\"\u001b[39m\u001b[38;5;124mpost\u001b[39m\u001b[38;5;124m\"\u001b[39m, url\u001b[38;5;241m=\u001b[39mpath, json_data\u001b[38;5;241m=\u001b[39mbody, files\u001b[38;5;241m=\u001b[39mto_httpx_files(files), \u001b[38;5;241m*\u001b[39m\u001b[38;5;241m*\u001b[39moptions\n\u001b[0;32m   1248\u001b[0m     )\n\u001b[1;32m-> 1249\u001b[0m     \u001b[38;5;28;01mreturn\u001b[39;00m cast(ResponseT, \u001b[38;5;28;43mself\u001b[39;49m\u001b[38;5;241;43m.\u001b[39;49m\u001b[43mrequest\u001b[49m\u001b[43m(\u001b[49m\u001b[43mcast_to\u001b[49m\u001b[43m,\u001b[49m\u001b[43m \u001b[49m\u001b[43mopts\u001b[49m\u001b[43m,\u001b[49m\u001b[43m \u001b[49m\u001b[43mstream\u001b[49m\u001b[38;5;241;43m=\u001b[39;49m\u001b[43mstream\u001b[49m\u001b[43m,\u001b[49m\u001b[43m \u001b[49m\u001b[43mstream_cls\u001b[49m\u001b[38;5;241;43m=\u001b[39;49m\u001b[43mstream_cls\u001b[49m\u001b[43m)\u001b[49m)\n",
      "File \u001b[1;32m~\\.conda\\envs\\langchain_env\\lib\\site-packages\\openai\\_base_client.py:1037\u001b[0m, in \u001b[0;36mSyncAPIClient.request\u001b[1;34m(self, cast_to, options, stream, stream_cls)\u001b[0m\n\u001b[0;32m   1034\u001b[0m             err\u001b[38;5;241m.\u001b[39mresponse\u001b[38;5;241m.\u001b[39mread()\n\u001b[0;32m   1036\u001b[0m         log\u001b[38;5;241m.\u001b[39mdebug(\u001b[38;5;124m\"\u001b[39m\u001b[38;5;124mRe-raising status error\u001b[39m\u001b[38;5;124m\"\u001b[39m)\n\u001b[1;32m-> 1037\u001b[0m         \u001b[38;5;28;01mraise\u001b[39;00m \u001b[38;5;28mself\u001b[39m\u001b[38;5;241m.\u001b[39m_make_status_error_from_response(err\u001b[38;5;241m.\u001b[39mresponse) \u001b[38;5;28;01mfrom\u001b[39;00m\u001b[38;5;250m \u001b[39m\u001b[38;5;28;01mNone\u001b[39;00m\n\u001b[0;32m   1039\u001b[0m     \u001b[38;5;28;01mbreak\u001b[39;00m\n\u001b[0;32m   1041\u001b[0m \u001b[38;5;28;01massert\u001b[39;00m response \u001b[38;5;129;01mis\u001b[39;00m \u001b[38;5;129;01mnot\u001b[39;00m \u001b[38;5;28;01mNone\u001b[39;00m, \u001b[38;5;124m\"\u001b[39m\u001b[38;5;124mcould not resolve response (should never happen)\u001b[39m\u001b[38;5;124m\"\u001b[39m\n",
      "\u001b[1;31mAuthenticationError\u001b[0m: Error code: 401 - {'error': {'message': 'Incorrect API key provided: gsk_cIy7********************************************Kj1d. You can find your API key at https://platform.openai.com/account/api-keys.', 'type': 'invalid_request_error', 'param': None, 'code': 'invalid_api_key'}}"
     ]
    }
   ],
   "source": [
    "vector_1 = embedding.embed_query(pages_char_split[3].page_content)\n",
    "vector_2 = embedding.embed_query(pages_char_split[5].page_content)\n",
    "vector_3 = embedding.embed_query(pages_char_split[18].page_content)"
   ]
  },
  {
   "cell_type": "markdown",
   "id": "1e1c69c8-859c-4f76-a19c-bca34de084b1",
   "metadata": {},
   "source": [
    "SINCE I AM USING GROQ API WHICH DOESNOT SUPPORT EMBEDDING MODEL. SO THAT I CANNOT USE OpenAIEmbeddings WITH GROQ..."
   ]
  }
 ],
 "metadata": {
  "kernelspec": {
   "display_name": "langchain_env",
   "language": "python",
   "name": "langchain_env"
  },
  "language_info": {
   "codemirror_mode": {
    "name": "ipython",
    "version": 3
   },
   "file_extension": ".py",
   "mimetype": "text/x-python",
   "name": "python",
   "nbconvert_exporter": "python",
   "pygments_lexer": "ipython3",
   "version": "3.10.10"
  }
 },
 "nbformat": 4,
 "nbformat_minor": 5
}
