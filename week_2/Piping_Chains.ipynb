{
 "cells": [
  {
   "cell_type": "code",
   "execution_count": 1,
   "id": "3dee8cc7-f69e-4ca5-ad09-125a4ad680ea",
   "metadata": {},
   "outputs": [],
   "source": [
    "%load_ext dotenv\n",
    "%dotenv"
   ]
  },
  {
   "cell_type": "code",
   "execution_count": 2,
   "id": "e8f586ea-5da8-45fb-bc05-55c0edfb580e",
   "metadata": {},
   "outputs": [],
   "source": [
    "import os\n",
    "os.environ[\"OPENAI_API_KEY\"] = \"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\""
   ]
  },
  {
   "cell_type": "code",
   "execution_count": 3,
   "id": "eb560a85-2520-4e8c-84e1-9d3f0ff9982f",
   "metadata": {},
   "outputs": [],
   "source": [
    "import openai\n",
    "openai.api_key = os.getenv(\"OPENAI_API_KEY\")"
   ]
  },
  {
   "cell_type": "code",
   "execution_count": 7,
   "id": "429ddf1a-bdd9-4e4d-a890-9d76703939d5",
   "metadata": {},
   "outputs": [],
   "source": [
    "from langchain_openai.chat_models import ChatOpenAI\n",
    "from langchain_core.prompts import ChatPromptTemplate\n",
    "from langchain_core.runnables import RunnablePassthrough\n",
    "from langchain_core.output_parsers import StrOutputParser"
   ]
  },
  {
   "cell_type": "code",
   "execution_count": 8,
   "id": "8bb44cca-8f4e-4ac1-a692-f11395bcba34",
   "metadata": {},
   "outputs": [
    {
     "name": "stderr",
     "output_type": "stream",
     "text": [
      "C:\\Users\\hp\\.conda\\envs\\langchain_env\\lib\\site-packages\\IPython\\core\\interactiveshell.py:3519: UserWarning: Parameters {'seed'} should be specified explicitly. Instead they were passed in as part of `model_kwargs` parameter.\n",
      "  if await self.run_code(code, result, async_=asy):\n"
     ]
    }
   ],
   "source": [
    "os.environ[\"OPENAI_API_BASE\"] = \"https://api.groq.com/openai/v1\"\n",
    "\n",
    "chat = ChatOpenAI(\n",
    "    model_name=\"llama3-70b-8192\", \n",
    "    model_kwargs={\"seed\": 365},\n",
    "    temperature=0,\n",
    "    max_tokens = 100)"
   ]
  },
  {
   "cell_type": "code",
   "execution_count": 9,
   "id": "dfa7d73d-c340-4c83-9048-766d196f93c4",
   "metadata": {},
   "outputs": [
    {
     "data": {
      "text/plain": [
       "'hi'"
      ]
     },
     "execution_count": 9,
     "metadata": {},
     "output_type": "execute_result"
    }
   ],
   "source": [
    "RunnablePassthrough().invoke('hi')"
   ]
  },
  {
   "cell_type": "code",
   "execution_count": 12,
   "id": "0de44f34-be0a-478a-be0a-29f521265db1",
   "metadata": {},
   "outputs": [],
   "source": [
    "chat_template_tools = ChatPromptTemplate.from_template('''What are the five most import tools a {job title} needs?\n",
    "Answer only by listing tools.''')"
   ]
  },
  {
   "cell_type": "code",
   "execution_count": 14,
   "id": "b130bdad-2b31-4b3e-a68f-ad1c5fa9b680",
   "metadata": {},
   "outputs": [
    {
     "data": {
      "text/plain": [
       "ChatPromptTemplate(input_variables=['job title'], input_types={}, partial_variables={}, messages=[HumanMessagePromptTemplate(prompt=PromptTemplate(input_variables=['job title'], input_types={}, partial_variables={}, template='What are the five most import tools a {job title} needs?\\nAnswer only by listing tools.'), additional_kwargs={})])"
      ]
     },
     "execution_count": 14,
     "metadata": {},
     "output_type": "execute_result"
    }
   ],
   "source": [
    "chat_template_tools"
   ]
  },
  {
   "cell_type": "code",
   "execution_count": 15,
   "id": "72d9f442-c763-478b-8d98-773876f9dcf0",
   "metadata": {},
   "outputs": [],
   "source": [
    "string_parser = StrOutputParser()"
   ]
  },
  {
   "cell_type": "code",
   "execution_count": 16,
   "id": "beddda47-2f63-4286-bf9d-6171bb88cb23",
   "metadata": {},
   "outputs": [],
   "source": [
    "chain_tool = chat_template_tools | chat | string_parser"
   ]
  },
  {
   "cell_type": "code",
   "execution_count": 18,
   "id": "5a02300f-8a70-45eb-8f3e-11af874a7940",
   "metadata": {},
   "outputs": [
    {
     "name": "stdout",
     "output_type": "stream",
     "text": [
      "Here are the five most important tools a Machine Learning Engineer needs:\n",
      "\n",
      "1. Python\n",
      "2. TensorFlow/Keras\n",
      "3. PyTorch\n",
      "4. Jupyter Notebook\n",
      "5. Git\n"
     ]
    }
   ],
   "source": [
    "print(chain_tool.invoke({'job title':'Machine Learning Engineer'}))"
   ]
  },
  {
   "cell_type": "code",
   "execution_count": 21,
   "id": "b56a1350-5c4e-4562-b2f7-ac402459447f",
   "metadata": {},
   "outputs": [
    {
     "name": "stdout",
     "output_type": "stream",
     "text": [
      "Here are the five most important tools a Data Scientist needs:\n",
      "\n",
      "1. Python\n",
      "2. Jupyter Notebook\n",
      "3. pandas\n",
      "4. scikit-learn\n",
      "5. Tableau\n"
     ]
    }
   ],
   "source": [
    "print(chain_tool.invoke({'job title':'Data Scientist'}))"
   ]
  },
  {
   "cell_type": "code",
   "execution_count": 23,
   "id": "a78b6a45-4db9-4edc-9b9d-50ac69977747",
   "metadata": {},
   "outputs": [],
   "source": [
    "chat_template_tools = ChatPromptTemplate.from_template('''What are the five most import tools a {job title} needs?\n",
    "Answer only by listing tools.''')\n",
    "\n",
    "chat_template_strategy = ChatPromptTemplate.from_template(''' Considering the tools provided, develop a strategy for effectively learning and mastering them:{tool}''')"
   ]
  },
  {
   "cell_type": "code",
   "execution_count": 28,
   "id": "c373477b-cb1b-474b-b1cc-7510c262eed3",
   "metadata": {},
   "outputs": [
    {
     "name": "stderr",
     "output_type": "stream",
     "text": [
      "C:\\Users\\hp\\.conda\\envs\\langchain_env\\lib\\site-packages\\IPython\\core\\interactiveshell.py:3519: UserWarning: Parameters {'seed'} should be specified explicitly. Instead they were passed in as part of `model_kwargs` parameter.\n",
      "  if await self.run_code(code, result, async_=asy):\n"
     ]
    }
   ],
   "source": [
    "chat = ChatOpenAI(\n",
    "    model_name=\"llama3-70b-8192\", \n",
    "    model_kwargs={\"seed\": 365},\n",
    "    temperature=0,\n",
    "    max_tokens = 1000)"
   ]
  },
  {
   "cell_type": "code",
   "execution_count": 29,
   "id": "9fed056b-616b-40a1-9887-9d9cb4030d8c",
   "metadata": {},
   "outputs": [],
   "source": [
    "chain_tool = chat_template_tools | chat | string_parser\n",
    "chain_strategy = chat_template_strategy | chat | string_parser"
   ]
  },
  {
   "cell_type": "code",
   "execution_count": 30,
   "id": "6ba2c03b-4400-4d56-91ea-df30bc450800",
   "metadata": {},
   "outputs": [
    {
     "data": {
      "text/plain": [
       "'Here are the five most important tools a Machine Learning Engineer needs:\\n\\n1. Python\\n2. TensorFlow/Keras\\n3. PyTorch\\n4. Jupyter Notebook\\n5. Git'"
      ]
     },
     "execution_count": 30,
     "metadata": {},
     "output_type": "execute_result"
    }
   ],
   "source": [
    "chain_tool.invoke({'job title':'Machine Learning Engineer'})"
   ]
  },
  {
   "cell_type": "code",
   "execution_count": 31,
   "id": "0ab4ac13-2f62-48a1-82c6-1e08e616b911",
   "metadata": {},
   "outputs": [
    {
     "name": "stdout",
     "output_type": "stream",
     "text": [
      "Here's a strategy for effectively learning and mastering the tools:\n",
      "\n",
      "**Phase 1: Foundational Knowledge (Weeks 1-4)**\n",
      "\n",
      "1. **Python**:\n",
      "\t* Start with the basics: variables, data types, control structures, functions, and object-oriented programming.\n",
      "\t* Complete online tutorials or courses, such as Codecademy's Python course or Python.org's tutorials.\n",
      "\t* Practice writing Python scripts and solving problems on platforms like LeetCode or HackerRank.\n",
      "2. **Math and Statistics**:\n",
      "\t* Review linear algebra, calculus, probability, and statistics concepts.\n",
      "\t* Brush up on mathematical notation and concepts, such as vectors, matrices, and tensors.\n",
      "\n",
      "**Phase 2: Deep Learning Fundamentals (Weeks 5-8)**\n",
      "\n",
      "1. **TensorFlow/Keras**:\n",
      "\t* Learn the basics of TensorFlow and Keras, including tensors, graphs, and sessions.\n",
      "\t* Complete tutorials and guides on the official TensorFlow and Keras websites.\n",
      "\t* Implement simple neural networks using Keras and TensorFlow.\n",
      "2. **Deep Learning Concepts**:\n",
      "\t* Study the fundamentals of deep learning, including perceptrons, multilayer perceptrons, and backpropagation.\n",
      "\t* Learn about convolutional neural networks (CNNs), recurrent neural networks (RNNs), and long short-term memory (LSTM) networks.\n",
      "\n",
      "**Phase 3: Advanced Deep Learning and Tools (Weeks 9-12)**\n",
      "\n",
      "1. **PyTorch**:\n",
      "\t* Learn the basics of PyTorch, including tensors, autograd, and modules.\n",
      "\t* Complete tutorials and guides on the official PyTorch website.\n",
      "\t* Implement neural networks using PyTorch.\n",
      "2. **Jupyter Notebook**:\n",
      "\t* Learn how to use Jupyter Notebook for data exploration, visualization, and prototyping.\n",
      "\t* Practice creating and sharing notebooks with others.\n",
      "3. **Git**:\n",
      "\t* Learn the basics of version control using Git.\n",
      "\t* Create a GitHub account and practice creating repositories, committing changes, and collaborating with others.\n",
      "\n",
      "**Phase 4: Project-Based Learning and Practice (After Week 12)**\n",
      "\n",
      "1. **Work on Projects**:\n",
      "\t* Apply your knowledge by working on real-world projects, such as image classification, natural language processing, or recommender systems.\n",
      "\t* Experiment with different architectures, hyperparameters, and techniques.\n",
      "2. **Participate in Kaggle Competitions**:\n",
      "\t* Join Kaggle competitions to practice and improve your skills.\n",
      "\t* Learn from others by reviewing their code and approaches.\n",
      "3. **Read Research Papers and Articles**:\n",
      "\t* Stay up-to-date with the latest developments in deep learning by reading research papers and articles.\n",
      "\t* Implement and experiment with new techniques and architectures.\n",
      "\n",
      "**Additional Tips**\n",
      "\n",
      "* **Practice consistently**: Set aside time each week to practice and review the material.\n",
      "* **Join online communities**: Participate in online forums, such as Reddit's r/MachineLearning and r/Python, to connect with others and get help when needed.\n",
      "* **Read documentation and tutorials**: Refer to official documentation and tutorials for each tool to deepen your understanding.\n",
      "* **Work with others**: Collaborate with others on projects or participate in study groups to learn from their experiences and approaches.\n",
      "\n",
      "By following this strategy, you'll be well on your way to mastering Python, TensorFlow/Keras, PyTorch, Jupyter Notebook, and Git, and becoming proficient in deep learning.\n"
     ]
    }
   ],
   "source": [
    "print(chain_strategy.invoke({'tool':'''1. Python\n",
    "2. TensorFlow/Keras\n",
    "3. PyTorch\n",
    "4. Jupyter Notebook\n",
    "5. Git'''}))"
   ]
  }
 ],
 "metadata": {
  "kernelspec": {
   "display_name": "langchain_env",
   "language": "python",
   "name": "langchain_env"
  },
  "language_info": {
   "codemirror_mode": {
    "name": "ipython",
    "version": 3
   },
   "file_extension": ".py",
   "mimetype": "text/x-python",
   "name": "python",
   "nbconvert_exporter": "python",
   "pygments_lexer": "ipython3",
   "version": "3.10.10"
  }
 },
 "nbformat": 4,
 "nbformat_minor": 5
}
