{
 "cells": [
  {
   "cell_type": "code",
   "execution_count": 1,
   "id": "3cd8589a-d895-40bd-a240-7badb6f483e2",
   "metadata": {},
   "outputs": [],
   "source": [
    "%load_ext dotenv\n",
    "%dotenv"
   ]
  },
  {
   "cell_type": "code",
   "execution_count": 2,
   "id": "0df015c8-c8f1-40a3-984d-b136df396666",
   "metadata": {},
   "outputs": [],
   "source": [
    "import os\n",
    "os.environ[\"OPENAI_API_KEY\"] = \"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\""
   ]
  },
  {
   "cell_type": "code",
   "execution_count": 3,
   "id": "ce116e2a-eef8-4acd-b518-76c739de7115",
   "metadata": {},
   "outputs": [],
   "source": [
    "import openai\n",
    "openai.api_key = os.getenv(\"OPENAI_API_KEY\")"
   ]
  },
  {
   "cell_type": "code",
   "execution_count": 4,
   "id": "0752b5e6-2bb2-4aa3-9b18-b166017c9ee4",
   "metadata": {},
   "outputs": [],
   "source": [
    "from langchain_openai.chat_models import ChatOpenAI\n",
    "from langchain_core.prompts import ChatPromptTemplate\n",
    "from langchain_core.runnables import RunnablePassthrough\n",
    "from langchain_core.output_parsers import StrOutputParser"
   ]
  },
  {
   "cell_type": "code",
   "execution_count": 5,
   "id": "7e660276-bab2-4203-86f6-3a165cc779ac",
   "metadata": {},
   "outputs": [
    {
     "name": "stderr",
     "output_type": "stream",
     "text": [
      "C:\\Users\\hp\\.conda\\envs\\langchain_env\\lib\\site-packages\\IPython\\core\\interactiveshell.py:3519: UserWarning: Parameters {'seed'} should be specified explicitly. Instead they were passed in as part of `model_kwargs` parameter.\n",
      "  if await self.run_code(code, result, async_=asy):\n"
     ]
    }
   ],
   "source": [
    "os.environ[\"OPENAI_API_BASE\"] = \"https://api.groq.com/openai/v1\"\n",
    "\n",
    "chat = ChatOpenAI(\n",
    "    model_name=\"llama3-70b-8192\", \n",
    "    model_kwargs={\"seed\": 365},\n",
    "    temperature=0,\n",
    "    max_tokens = 100)"
   ]
  },
  {
   "cell_type": "code",
   "execution_count": 7,
   "id": "631fb0d5-07f5-444e-9238-0a706cd72b0a",
   "metadata": {},
   "outputs": [],
   "source": [
    "chat_template_tools = ChatPromptTemplate.from_template('''What are the five most import tools a {job title} needs?\n",
    "Answer only by listing tools.''')\n",
    "\n",
    "chat_template_strategy = ChatPromptTemplate.from_template(''' Considering the tools provided, develop a strategy for effectively learning and mastering them:{tool}''')"
   ]
  },
  {
   "cell_type": "code",
   "execution_count": 8,
   "id": "8ed7e61c-42bd-4fc9-b4fa-d35ea348fd02",
   "metadata": {},
   "outputs": [],
   "source": [
    "string_parser = StrOutputParser()"
   ]
  },
  {
   "cell_type": "code",
   "execution_count": 9,
   "id": "7afd5bc8-8c55-4fab-9e44-645bf149f2b3",
   "metadata": {},
   "outputs": [],
   "source": [
    "chain_tool = chat_template_tools | chat | string_parser\n",
    "chain_strategy = chat_template_strategy | chat | string_parser"
   ]
  },
  {
   "cell_type": "code",
   "execution_count": 12,
   "id": "d496e7a3-db74-4bc8-8624-213981cc66bc",
   "metadata": {},
   "outputs": [],
   "source": [
    "chain_long = (chat_template_tools | chat | string_parser |{'tools':RunnablePassthrough()} | chat_template_strategy | chat | string_parser)"
   ]
  },
  {
   "cell_type": "code",
   "execution_count": 13,
   "id": "5fbd984b-5e30-4ebf-9862-000903e70f21",
   "metadata": {},
   "outputs": [
    {
     "name": "stdout",
     "output_type": "stream",
     "text": [
      "     +-------------+       \n",
      "     | PromptInput |       \n",
      "     +-------------+       \n",
      "            *              \n",
      "            *              \n",
      "            *              \n",
      "  +--------------------+   \n",
      "  | ChatPromptTemplate |   \n",
      "  +--------------------+   \n",
      "            *              \n",
      "            *              \n",
      "            *              \n",
      "      +------------+       \n",
      "      | ChatOpenAI |       \n",
      "      +------------+       \n",
      "            *              \n",
      "            *              \n",
      "            *              \n",
      "   +-----------------+     \n",
      "   | StrOutputParser |     \n",
      "   +-----------------+     \n",
      "            *              \n",
      "            *              \n",
      "            *              \n",
      "+-----------------------+  \n",
      "| StrOutputParserOutput |  \n",
      "+-----------------------+  \n",
      "            *              \n",
      "            *              \n",
      "            *              \n",
      "     +-------------+       \n",
      "     | Passthrough |       \n",
      "     +-------------+       \n",
      "            *              \n",
      "            *              \n",
      "            *              \n",
      "  +--------------------+   \n",
      "  | ChatPromptTemplate |   \n",
      "  +--------------------+   \n",
      "            *              \n",
      "            *              \n",
      "            *              \n",
      "      +------------+       \n",
      "      | ChatOpenAI |       \n",
      "      +------------+       \n",
      "            *              \n",
      "            *              \n",
      "            *              \n",
      "   +-----------------+     \n",
      "   | StrOutputParser |     \n",
      "   +-----------------+     \n",
      "            *              \n",
      "            *              \n",
      "            *              \n",
      "+-----------------------+  \n",
      "| StrOutputParserOutput |  \n",
      "+-----------------------+  \n"
     ]
    }
   ],
   "source": [
    "chain_long.get_graph().print_ascii()"
   ]
  },
  {
   "cell_type": "markdown",
   "id": "cc62a917-acca-47d6-9e45-f252b564b14b",
   "metadata": {},
   "source": [
    "Runnable Lambda"
   ]
  },
  {
   "cell_type": "code",
   "execution_count": 23,
   "id": "c65e08bd-c505-4e2a-879f-78f8b660a8aa",
   "metadata": {},
   "outputs": [],
   "source": [
    "from langchain_core.runnables import RunnableLambda"
   ]
  },
  {
   "cell_type": "code",
   "execution_count": 14,
   "id": "7f287cb3-a75d-4c82-8cb9-dd6ee186e3fb",
   "metadata": {},
   "outputs": [],
   "source": [
    "find_sum = lambda x:sum(x)"
   ]
  },
  {
   "cell_type": "code",
   "execution_count": 15,
   "id": "bfdafa85-f9f2-4918-bf39-20ace8ef3d0c",
   "metadata": {},
   "outputs": [
    {
     "data": {
      "text/plain": [
       "16"
      ]
     },
     "execution_count": 15,
     "metadata": {},
     "output_type": "execute_result"
    }
   ],
   "source": [
    "find_sum([1,4,5,6])"
   ]
  },
  {
   "cell_type": "code",
   "execution_count": 20,
   "id": "7fbf7e79-c5bf-405c-a887-95a041c81f7b",
   "metadata": {},
   "outputs": [],
   "source": [
    "find_square = lambda x: x**2"
   ]
  },
  {
   "cell_type": "code",
   "execution_count": 21,
   "id": "6e7cd5ed-bfdc-4646-bef9-3a82c30dbc4d",
   "metadata": {},
   "outputs": [
    {
     "data": {
      "text/plain": [
       "36"
      ]
     },
     "execution_count": 21,
     "metadata": {},
     "output_type": "execute_result"
    }
   ],
   "source": [
    "find_square(6)"
   ]
  },
  {
   "cell_type": "code",
   "execution_count": 37,
   "id": "a2ed8d30-4e29-4366-b0d7-8dc793160b10",
   "metadata": {},
   "outputs": [],
   "source": [
    "runnable_sum = RunnableLambda(lambda x: sum(x))"
   ]
  },
  {
   "cell_type": "code",
   "execution_count": 38,
   "id": "287b569e-492d-44a7-9296-8e21c1fee96b",
   "metadata": {},
   "outputs": [
    {
     "data": {
      "text/plain": [
       "80"
      ]
     },
     "execution_count": 38,
     "metadata": {},
     "output_type": "execute_result"
    }
   ],
   "source": [
    "runnable_sum.invoke([1,23,56])"
   ]
  },
  {
   "cell_type": "code",
   "execution_count": 39,
   "id": "b284cba4-b712-46b6-a0f2-efafae3604b0",
   "metadata": {},
   "outputs": [],
   "source": [
    "#runnable_sum = RunnableLambda(find_sum)"
   ]
  },
  {
   "cell_type": "code",
   "execution_count": 40,
   "id": "99482204-44ef-4b92-94e3-476e69813c50",
   "metadata": {},
   "outputs": [],
   "source": [
    "#runnable_sum.invoke([1,23,56])"
   ]
  },
  {
   "cell_type": "code",
   "execution_count": 41,
   "id": "37317478-7301-44cf-a960-0dbe1f121a0b",
   "metadata": {},
   "outputs": [],
   "source": [
    "runnable_square = RunnableLambda(lambda x: x**2)"
   ]
  },
  {
   "cell_type": "code",
   "execution_count": 42,
   "id": "68313b58-5f22-45bb-8443-aab9cd4f3356",
   "metadata": {},
   "outputs": [
    {
     "data": {
      "text/plain": [
       "64"
      ]
     },
     "execution_count": 42,
     "metadata": {},
     "output_type": "execute_result"
    }
   ],
   "source": [
    "runnable_square.invoke(8)"
   ]
  },
  {
   "cell_type": "code",
   "execution_count": 43,
   "id": "72839bf9-8ad7-4bcf-8688-51cb02eab4a3",
   "metadata": {},
   "outputs": [],
   "source": [
    "chain = runnable_sum | runnable_square"
   ]
  },
  {
   "cell_type": "code",
   "execution_count": 44,
   "id": "4d03c98f-88f9-468d-9366-7326eec83262",
   "metadata": {},
   "outputs": [
    {
     "data": {
      "text/plain": [
       "9"
      ]
     },
     "execution_count": 44,
     "metadata": {},
     "output_type": "execute_result"
    }
   ],
   "source": [
    "chain.invoke([1,2])"
   ]
  },
  {
   "cell_type": "code",
   "execution_count": 45,
   "id": "7def71d1-29f9-442f-9d6a-377beb25c1f2",
   "metadata": {},
   "outputs": [
    {
     "name": "stdout",
     "output_type": "stream",
     "text": [
      "+-------------+  \n",
      "| LambdaInput |  \n",
      "+-------------+  \n",
      "        *        \n",
      "        *        \n",
      "        *        \n",
      "   +--------+    \n",
      "   | Lambda |    \n",
      "   +--------+    \n",
      "        *        \n",
      "        *        \n",
      "        *        \n",
      "   +--------+    \n",
      "   | Lambda |    \n",
      "   +--------+    \n",
      "        *        \n",
      "        *        \n",
      "        *        \n",
      "+--------------+ \n",
      "| LambdaOutput | \n",
      "+--------------+ \n"
     ]
    }
   ],
   "source": [
    "chain.get_graph().print_ascii()"
   ]
  }
 ],
 "metadata": {
  "kernelspec": {
   "display_name": "langchain_env",
   "language": "python",
   "name": "langchain_env"
  },
  "language_info": {
   "codemirror_mode": {
    "name": "ipython",
    "version": 3
   },
   "file_extension": ".py",
   "mimetype": "text/x-python",
   "name": "python",
   "nbconvert_exporter": "python",
   "pygments_lexer": "ipython3",
   "version": "3.10.10"
  }
 },
 "nbformat": 4,
 "nbformat_minor": 5
}
