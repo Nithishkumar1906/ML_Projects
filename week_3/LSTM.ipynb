{
  "nbformat": 4,
  "nbformat_minor": 0,
  "metadata": {
    "colab": {
      "provenance": []
    },
    "kernelspec": {
      "name": "python3",
      "display_name": "Python 3"
    },
    "language_info": {
      "name": "python"
    }
  },
  "cells": [
    {
      "cell_type": "code",
      "execution_count": 36,
      "metadata": {
        "id": "PYO4tZIOLDLy"
      },
      "outputs": [],
      "source": [
        "text = \"\"\"A black hole is a region of spacetime where gravity is so strong that nothing—no particles or even electromagnetic radiation such as light—can escape from it.\n",
        "This cosmic entity forms when a massive star collapses under its own gravity at the end of its life cycle.\n",
        "The boundary of no escape is called the event horizon.\n",
        "Although it has a great effect on the fate and trajectory of light that passes close to it, the event horizon itself emits no radiation.\n",
        "Because it reflects no light, it is incredibly difficult to observe directly\"\"\""
      ]
    },
    {
      "cell_type": "code",
      "source": [
        "import tensorflow as tf\n",
        "from tensorflow.keras.preprocessing.text import Tokenizer"
      ],
      "metadata": {
        "id": "odnwvgF_LRzi"
      },
      "execution_count": 37,
      "outputs": []
    },
    {
      "cell_type": "code",
      "source": [
        "token = Tokenizer()\n",
        "token.fit_on_texts([text])"
      ],
      "metadata": {
        "id": "tUSF9Yo4Lut2"
      },
      "execution_count": 38,
      "outputs": []
    },
    {
      "cell_type": "code",
      "source": [
        "len(token.word_index)"
      ],
      "metadata": {
        "colab": {
          "base_uri": "https://localhost:8080/"
        },
        "id": "1nG0cg1LL4HR",
        "outputId": "6b0993b1-43b6-4528-d2b8-cf107028ec3b"
      },
      "execution_count": 39,
      "outputs": [
        {
          "output_type": "execute_result",
          "data": {
            "text/plain": [
              "65"
            ]
          },
          "metadata": {},
          "execution_count": 39
        }
      ]
    },
    {
      "cell_type": "code",
      "source": [
        "from re import S\n",
        "for sentence in text.split('\\n'):\n",
        "  print(sentence)"
      ],
      "metadata": {
        "colab": {
          "base_uri": "https://localhost:8080/"
        },
        "id": "lMM8AtILL7Fe",
        "outputId": "cde528f3-0472-4eb9-b07d-25069d4664ff"
      },
      "execution_count": 40,
      "outputs": [
        {
          "output_type": "stream",
          "name": "stdout",
          "text": [
            "A black hole is a region of spacetime where gravity is so strong that nothing—no particles or even electromagnetic radiation such as light—can escape from it.\n",
            "This cosmic entity forms when a massive star collapses under its own gravity at the end of its life cycle.\n",
            "The boundary of no escape is called the event horizon.\n",
            "Although it has a great effect on the fate and trajectory of light that passes close to it, the event horizon itself emits no radiation.\n",
            "Because it reflects no light, it is incredibly difficult to observe directly\n"
          ]
        }
      ]
    },
    {
      "cell_type": "code",
      "source": [
        "from re import S\n",
        "for sentence in text.split('\\n'):\n",
        "  print(token.texts_to_sequences([sentence]))"
      ],
      "metadata": {
        "colab": {
          "base_uri": "https://localhost:8080/"
        },
        "id": "lqjH8Pw6MSdo",
        "outputId": "83b32d1b-5871-4658-8167-54c66928ff55"
      },
      "execution_count": 41,
      "outputs": [
        {
          "output_type": "stream",
          "name": "stdout",
          "text": [
            "[[3, 16, 17, 4, 3, 18, 5, 19, 20, 7, 4, 21, 22, 8, 23, 24, 25, 26, 27, 9, 28, 29, 30, 10, 31, 1]]\n",
            "[[32, 33, 34, 35, 36, 3, 37, 38, 39, 40, 11, 41, 7, 42, 2, 43, 5, 11, 44, 45]]\n",
            "[[2, 46, 5, 6, 10, 4, 47, 2, 12, 13]]\n",
            "[[48, 1, 49, 3, 50, 51, 52, 2, 53, 54, 55, 5, 14, 8, 56, 57, 15, 1, 2, 12, 13, 58, 59, 6, 9]]\n",
            "[[60, 1, 61, 6, 14, 1, 4, 62, 63, 15, 64, 65]]\n"
          ]
        }
      ]
    },
    {
      "cell_type": "code",
      "source": [
        "input_list = []\n",
        "for sentence in text.split('\\n'):\n",
        "  token_sentence = token.texts_to_sequences([sentence])[0]\n",
        "\n",
        "  for i in range(1,len(token_sentence)):\n",
        "    input_list.append(token_sentence[:i+1])"
      ],
      "metadata": {
        "id": "q6L4YPNCMipL"
      },
      "execution_count": 42,
      "outputs": []
    },
    {
      "cell_type": "code",
      "source": [
        "input_list"
      ],
      "metadata": {
        "colab": {
          "base_uri": "https://localhost:8080/"
        },
        "id": "rUG_nN3jN4GE",
        "outputId": "2d5f9be0-7733-46de-a0d9-5d96dbb23483"
      },
      "execution_count": 43,
      "outputs": [
        {
          "output_type": "execute_result",
          "data": {
            "text/plain": [
              "[[3, 16],\n",
              " [3, 16, 17],\n",
              " [3, 16, 17, 4],\n",
              " [3, 16, 17, 4, 3],\n",
              " [3, 16, 17, 4, 3, 18],\n",
              " [3, 16, 17, 4, 3, 18, 5],\n",
              " [3, 16, 17, 4, 3, 18, 5, 19],\n",
              " [3, 16, 17, 4, 3, 18, 5, 19, 20],\n",
              " [3, 16, 17, 4, 3, 18, 5, 19, 20, 7],\n",
              " [3, 16, 17, 4, 3, 18, 5, 19, 20, 7, 4],\n",
              " [3, 16, 17, 4, 3, 18, 5, 19, 20, 7, 4, 21],\n",
              " [3, 16, 17, 4, 3, 18, 5, 19, 20, 7, 4, 21, 22],\n",
              " [3, 16, 17, 4, 3, 18, 5, 19, 20, 7, 4, 21, 22, 8],\n",
              " [3, 16, 17, 4, 3, 18, 5, 19, 20, 7, 4, 21, 22, 8, 23],\n",
              " [3, 16, 17, 4, 3, 18, 5, 19, 20, 7, 4, 21, 22, 8, 23, 24],\n",
              " [3, 16, 17, 4, 3, 18, 5, 19, 20, 7, 4, 21, 22, 8, 23, 24, 25],\n",
              " [3, 16, 17, 4, 3, 18, 5, 19, 20, 7, 4, 21, 22, 8, 23, 24, 25, 26],\n",
              " [3, 16, 17, 4, 3, 18, 5, 19, 20, 7, 4, 21, 22, 8, 23, 24, 25, 26, 27],\n",
              " [3, 16, 17, 4, 3, 18, 5, 19, 20, 7, 4, 21, 22, 8, 23, 24, 25, 26, 27, 9],\n",
              " [3, 16, 17, 4, 3, 18, 5, 19, 20, 7, 4, 21, 22, 8, 23, 24, 25, 26, 27, 9, 28],\n",
              " [3,\n",
              "  16,\n",
              "  17,\n",
              "  4,\n",
              "  3,\n",
              "  18,\n",
              "  5,\n",
              "  19,\n",
              "  20,\n",
              "  7,\n",
              "  4,\n",
              "  21,\n",
              "  22,\n",
              "  8,\n",
              "  23,\n",
              "  24,\n",
              "  25,\n",
              "  26,\n",
              "  27,\n",
              "  9,\n",
              "  28,\n",
              "  29],\n",
              " [3,\n",
              "  16,\n",
              "  17,\n",
              "  4,\n",
              "  3,\n",
              "  18,\n",
              "  5,\n",
              "  19,\n",
              "  20,\n",
              "  7,\n",
              "  4,\n",
              "  21,\n",
              "  22,\n",
              "  8,\n",
              "  23,\n",
              "  24,\n",
              "  25,\n",
              "  26,\n",
              "  27,\n",
              "  9,\n",
              "  28,\n",
              "  29,\n",
              "  30],\n",
              " [3,\n",
              "  16,\n",
              "  17,\n",
              "  4,\n",
              "  3,\n",
              "  18,\n",
              "  5,\n",
              "  19,\n",
              "  20,\n",
              "  7,\n",
              "  4,\n",
              "  21,\n",
              "  22,\n",
              "  8,\n",
              "  23,\n",
              "  24,\n",
              "  25,\n",
              "  26,\n",
              "  27,\n",
              "  9,\n",
              "  28,\n",
              "  29,\n",
              "  30,\n",
              "  10],\n",
              " [3,\n",
              "  16,\n",
              "  17,\n",
              "  4,\n",
              "  3,\n",
              "  18,\n",
              "  5,\n",
              "  19,\n",
              "  20,\n",
              "  7,\n",
              "  4,\n",
              "  21,\n",
              "  22,\n",
              "  8,\n",
              "  23,\n",
              "  24,\n",
              "  25,\n",
              "  26,\n",
              "  27,\n",
              "  9,\n",
              "  28,\n",
              "  29,\n",
              "  30,\n",
              "  10,\n",
              "  31],\n",
              " [3,\n",
              "  16,\n",
              "  17,\n",
              "  4,\n",
              "  3,\n",
              "  18,\n",
              "  5,\n",
              "  19,\n",
              "  20,\n",
              "  7,\n",
              "  4,\n",
              "  21,\n",
              "  22,\n",
              "  8,\n",
              "  23,\n",
              "  24,\n",
              "  25,\n",
              "  26,\n",
              "  27,\n",
              "  9,\n",
              "  28,\n",
              "  29,\n",
              "  30,\n",
              "  10,\n",
              "  31,\n",
              "  1],\n",
              " [32, 33],\n",
              " [32, 33, 34],\n",
              " [32, 33, 34, 35],\n",
              " [32, 33, 34, 35, 36],\n",
              " [32, 33, 34, 35, 36, 3],\n",
              " [32, 33, 34, 35, 36, 3, 37],\n",
              " [32, 33, 34, 35, 36, 3, 37, 38],\n",
              " [32, 33, 34, 35, 36, 3, 37, 38, 39],\n",
              " [32, 33, 34, 35, 36, 3, 37, 38, 39, 40],\n",
              " [32, 33, 34, 35, 36, 3, 37, 38, 39, 40, 11],\n",
              " [32, 33, 34, 35, 36, 3, 37, 38, 39, 40, 11, 41],\n",
              " [32, 33, 34, 35, 36, 3, 37, 38, 39, 40, 11, 41, 7],\n",
              " [32, 33, 34, 35, 36, 3, 37, 38, 39, 40, 11, 41, 7, 42],\n",
              " [32, 33, 34, 35, 36, 3, 37, 38, 39, 40, 11, 41, 7, 42, 2],\n",
              " [32, 33, 34, 35, 36, 3, 37, 38, 39, 40, 11, 41, 7, 42, 2, 43],\n",
              " [32, 33, 34, 35, 36, 3, 37, 38, 39, 40, 11, 41, 7, 42, 2, 43, 5],\n",
              " [32, 33, 34, 35, 36, 3, 37, 38, 39, 40, 11, 41, 7, 42, 2, 43, 5, 11],\n",
              " [32, 33, 34, 35, 36, 3, 37, 38, 39, 40, 11, 41, 7, 42, 2, 43, 5, 11, 44],\n",
              " [32, 33, 34, 35, 36, 3, 37, 38, 39, 40, 11, 41, 7, 42, 2, 43, 5, 11, 44, 45],\n",
              " [2, 46],\n",
              " [2, 46, 5],\n",
              " [2, 46, 5, 6],\n",
              " [2, 46, 5, 6, 10],\n",
              " [2, 46, 5, 6, 10, 4],\n",
              " [2, 46, 5, 6, 10, 4, 47],\n",
              " [2, 46, 5, 6, 10, 4, 47, 2],\n",
              " [2, 46, 5, 6, 10, 4, 47, 2, 12],\n",
              " [2, 46, 5, 6, 10, 4, 47, 2, 12, 13],\n",
              " [48, 1],\n",
              " [48, 1, 49],\n",
              " [48, 1, 49, 3],\n",
              " [48, 1, 49, 3, 50],\n",
              " [48, 1, 49, 3, 50, 51],\n",
              " [48, 1, 49, 3, 50, 51, 52],\n",
              " [48, 1, 49, 3, 50, 51, 52, 2],\n",
              " [48, 1, 49, 3, 50, 51, 52, 2, 53],\n",
              " [48, 1, 49, 3, 50, 51, 52, 2, 53, 54],\n",
              " [48, 1, 49, 3, 50, 51, 52, 2, 53, 54, 55],\n",
              " [48, 1, 49, 3, 50, 51, 52, 2, 53, 54, 55, 5],\n",
              " [48, 1, 49, 3, 50, 51, 52, 2, 53, 54, 55, 5, 14],\n",
              " [48, 1, 49, 3, 50, 51, 52, 2, 53, 54, 55, 5, 14, 8],\n",
              " [48, 1, 49, 3, 50, 51, 52, 2, 53, 54, 55, 5, 14, 8, 56],\n",
              " [48, 1, 49, 3, 50, 51, 52, 2, 53, 54, 55, 5, 14, 8, 56, 57],\n",
              " [48, 1, 49, 3, 50, 51, 52, 2, 53, 54, 55, 5, 14, 8, 56, 57, 15],\n",
              " [48, 1, 49, 3, 50, 51, 52, 2, 53, 54, 55, 5, 14, 8, 56, 57, 15, 1],\n",
              " [48, 1, 49, 3, 50, 51, 52, 2, 53, 54, 55, 5, 14, 8, 56, 57, 15, 1, 2],\n",
              " [48, 1, 49, 3, 50, 51, 52, 2, 53, 54, 55, 5, 14, 8, 56, 57, 15, 1, 2, 12],\n",
              " [48, 1, 49, 3, 50, 51, 52, 2, 53, 54, 55, 5, 14, 8, 56, 57, 15, 1, 2, 12, 13],\n",
              " [48,\n",
              "  1,\n",
              "  49,\n",
              "  3,\n",
              "  50,\n",
              "  51,\n",
              "  52,\n",
              "  2,\n",
              "  53,\n",
              "  54,\n",
              "  55,\n",
              "  5,\n",
              "  14,\n",
              "  8,\n",
              "  56,\n",
              "  57,\n",
              "  15,\n",
              "  1,\n",
              "  2,\n",
              "  12,\n",
              "  13,\n",
              "  58],\n",
              " [48,\n",
              "  1,\n",
              "  49,\n",
              "  3,\n",
              "  50,\n",
              "  51,\n",
              "  52,\n",
              "  2,\n",
              "  53,\n",
              "  54,\n",
              "  55,\n",
              "  5,\n",
              "  14,\n",
              "  8,\n",
              "  56,\n",
              "  57,\n",
              "  15,\n",
              "  1,\n",
              "  2,\n",
              "  12,\n",
              "  13,\n",
              "  58,\n",
              "  59],\n",
              " [48,\n",
              "  1,\n",
              "  49,\n",
              "  3,\n",
              "  50,\n",
              "  51,\n",
              "  52,\n",
              "  2,\n",
              "  53,\n",
              "  54,\n",
              "  55,\n",
              "  5,\n",
              "  14,\n",
              "  8,\n",
              "  56,\n",
              "  57,\n",
              "  15,\n",
              "  1,\n",
              "  2,\n",
              "  12,\n",
              "  13,\n",
              "  58,\n",
              "  59,\n",
              "  6],\n",
              " [48,\n",
              "  1,\n",
              "  49,\n",
              "  3,\n",
              "  50,\n",
              "  51,\n",
              "  52,\n",
              "  2,\n",
              "  53,\n",
              "  54,\n",
              "  55,\n",
              "  5,\n",
              "  14,\n",
              "  8,\n",
              "  56,\n",
              "  57,\n",
              "  15,\n",
              "  1,\n",
              "  2,\n",
              "  12,\n",
              "  13,\n",
              "  58,\n",
              "  59,\n",
              "  6,\n",
              "  9],\n",
              " [60, 1],\n",
              " [60, 1, 61],\n",
              " [60, 1, 61, 6],\n",
              " [60, 1, 61, 6, 14],\n",
              " [60, 1, 61, 6, 14, 1],\n",
              " [60, 1, 61, 6, 14, 1, 4],\n",
              " [60, 1, 61, 6, 14, 1, 4, 62],\n",
              " [60, 1, 61, 6, 14, 1, 4, 62, 63],\n",
              " [60, 1, 61, 6, 14, 1, 4, 62, 63, 15],\n",
              " [60, 1, 61, 6, 14, 1, 4, 62, 63, 15, 64],\n",
              " [60, 1, 61, 6, 14, 1, 4, 62, 63, 15, 64, 65]]"
            ]
          },
          "metadata": {},
          "execution_count": 43
        }
      ]
    },
    {
      "cell_type": "code",
      "source": [
        "max_len = max([len(x) for x in input_list])\n",
        "max_len"
      ],
      "metadata": {
        "colab": {
          "base_uri": "https://localhost:8080/"
        },
        "id": "cl8CABW7N6ob",
        "outputId": "0c16efd8-9602-430b-dc57-40f920043e51"
      },
      "execution_count": 44,
      "outputs": [
        {
          "output_type": "execute_result",
          "data": {
            "text/plain": [
              "26"
            ]
          },
          "metadata": {},
          "execution_count": 44
        }
      ]
    },
    {
      "cell_type": "code",
      "source": [
        "from tensorflow.keras.preprocessing.sequence import pad_sequences\n",
        "pad_sequences(input_list,maxlen=max_len,padding='pre')"
      ],
      "metadata": {
        "colab": {
          "base_uri": "https://localhost:8080/"
        },
        "id": "ZAEzo1VPOeFv",
        "outputId": "5d26d2f2-5b17-42c9-eed1-c01a305286ff"
      },
      "execution_count": 45,
      "outputs": [
        {
          "output_type": "execute_result",
          "data": {
            "text/plain": [
              "array([[ 0,  0,  0, ...,  0,  3, 16],\n",
              "       [ 0,  0,  0, ...,  3, 16, 17],\n",
              "       [ 0,  0,  0, ..., 16, 17,  4],\n",
              "       ...,\n",
              "       [ 0,  0,  0, ..., 62, 63, 15],\n",
              "       [ 0,  0,  0, ..., 63, 15, 64],\n",
              "       [ 0,  0,  0, ..., 15, 64, 65]], dtype=int32)"
            ]
          },
          "metadata": {},
          "execution_count": 45
        }
      ]
    },
    {
      "cell_type": "code",
      "source": [
        "padded_input = pad_sequences(input_list,maxlen=max_len,padding='pre')"
      ],
      "metadata": {
        "id": "a-FHwtccOzLw"
      },
      "execution_count": 46,
      "outputs": []
    },
    {
      "cell_type": "code",
      "source": [
        "x = padded_input[:,:-1]\n",
        "y = padded_input[:,-1]\n",
        "print(x)\n",
        "print(y)"
      ],
      "metadata": {
        "colab": {
          "base_uri": "https://localhost:8080/"
        },
        "id": "z3oCGuhrPFHb",
        "outputId": "b4dcd64b-a289-4b3f-cbfa-66e9fb01a298"
      },
      "execution_count": 47,
      "outputs": [
        {
          "output_type": "stream",
          "name": "stdout",
          "text": [
            "[[ 0  0  0 ...  0  0  3]\n",
            " [ 0  0  0 ...  0  3 16]\n",
            " [ 0  0  0 ...  3 16 17]\n",
            " ...\n",
            " [ 0  0  0 ...  4 62 63]\n",
            " [ 0  0  0 ... 62 63 15]\n",
            " [ 0  0  0 ... 63 15 64]]\n",
            "[16 17  4  3 18  5 19 20  7  4 21 22  8 23 24 25 26 27  9 28 29 30 10 31\n",
            "  1 33 34 35 36  3 37 38 39 40 11 41  7 42  2 43  5 11 44 45 46  5  6 10\n",
            "  4 47  2 12 13  1 49  3 50 51 52  2 53 54 55  5 14  8 56 57 15  1  2 12\n",
            " 13 58 59  6  9  1 61  6 14  1  4 62 63 15 64 65]\n"
          ]
        }
      ]
    },
    {
      "cell_type": "code",
      "source": [
        "token.word_index"
      ],
      "metadata": {
        "colab": {
          "base_uri": "https://localhost:8080/"
        },
        "id": "kf5HX3rjPfWG",
        "outputId": "e6443d8e-6c23-4051-dc4e-384ca261baaf"
      },
      "execution_count": 48,
      "outputs": [
        {
          "output_type": "execute_result",
          "data": {
            "text/plain": [
              "{'it': 1,\n",
              " 'the': 2,\n",
              " 'a': 3,\n",
              " 'is': 4,\n",
              " 'of': 5,\n",
              " 'no': 6,\n",
              " 'gravity': 7,\n",
              " 'that': 8,\n",
              " 'radiation': 9,\n",
              " 'escape': 10,\n",
              " 'its': 11,\n",
              " 'event': 12,\n",
              " 'horizon': 13,\n",
              " 'light': 14,\n",
              " 'to': 15,\n",
              " 'black': 16,\n",
              " 'hole': 17,\n",
              " 'region': 18,\n",
              " 'spacetime': 19,\n",
              " 'where': 20,\n",
              " 'so': 21,\n",
              " 'strong': 22,\n",
              " 'nothing—no': 23,\n",
              " 'particles': 24,\n",
              " 'or': 25,\n",
              " 'even': 26,\n",
              " 'electromagnetic': 27,\n",
              " 'such': 28,\n",
              " 'as': 29,\n",
              " 'light—can': 30,\n",
              " 'from': 31,\n",
              " 'this': 32,\n",
              " 'cosmic': 33,\n",
              " 'entity': 34,\n",
              " 'forms': 35,\n",
              " 'when': 36,\n",
              " 'massive': 37,\n",
              " 'star': 38,\n",
              " 'collapses': 39,\n",
              " 'under': 40,\n",
              " 'own': 41,\n",
              " 'at': 42,\n",
              " 'end': 43,\n",
              " 'life': 44,\n",
              " 'cycle': 45,\n",
              " 'boundary': 46,\n",
              " 'called': 47,\n",
              " 'although': 48,\n",
              " 'has': 49,\n",
              " 'great': 50,\n",
              " 'effect': 51,\n",
              " 'on': 52,\n",
              " 'fate': 53,\n",
              " 'and': 54,\n",
              " 'trajectory': 55,\n",
              " 'passes': 56,\n",
              " 'close': 57,\n",
              " 'itself': 58,\n",
              " 'emits': 59,\n",
              " 'because': 60,\n",
              " 'reflects': 61,\n",
              " 'incredibly': 62,\n",
              " 'difficult': 63,\n",
              " 'observe': 64,\n",
              " 'directly': 65}"
            ]
          },
          "metadata": {},
          "execution_count": 48
        }
      ]
    },
    {
      "cell_type": "code",
      "source": [
        "from tensorflow.keras.utils import to_categorical\n",
        "to_categorical(y,num_classes=66)"
      ],
      "metadata": {
        "colab": {
          "base_uri": "https://localhost:8080/"
        },
        "id": "phl_vhqEQVne",
        "outputId": "7e7aa2a3-1eb0-4007-a50b-a1d0d14f7436"
      },
      "execution_count": 49,
      "outputs": [
        {
          "output_type": "execute_result",
          "data": {
            "text/plain": [
              "array([[0., 0., 0., ..., 0., 0., 0.],\n",
              "       [0., 0., 0., ..., 0., 0., 0.],\n",
              "       [0., 0., 0., ..., 0., 0., 0.],\n",
              "       ...,\n",
              "       [0., 0., 0., ..., 0., 0., 0.],\n",
              "       [0., 0., 0., ..., 0., 1., 0.],\n",
              "       [0., 0., 0., ..., 0., 0., 1.]])"
            ]
          },
          "metadata": {},
          "execution_count": 49
        }
      ]
    },
    {
      "cell_type": "code",
      "source": [
        "y.shape"
      ],
      "metadata": {
        "colab": {
          "base_uri": "https://localhost:8080/"
        },
        "id": "c-tFHAmHQcvt",
        "outputId": "e092c727-9917-47e1-9837-031e28d51046"
      },
      "execution_count": 50,
      "outputs": [
        {
          "output_type": "execute_result",
          "data": {
            "text/plain": [
              "(88,)"
            ]
          },
          "metadata": {},
          "execution_count": 50
        }
      ]
    },
    {
      "cell_type": "code",
      "source": [
        "x.shape"
      ],
      "metadata": {
        "colab": {
          "base_uri": "https://localhost:8080/"
        },
        "id": "cCYkEs-VQ7uG",
        "outputId": "882a0130-84a7-4105-8a81-48000723c274"
      },
      "execution_count": 51,
      "outputs": [
        {
          "output_type": "execute_result",
          "data": {
            "text/plain": [
              "(88, 25)"
            ]
          },
          "metadata": {},
          "execution_count": 51
        }
      ]
    },
    {
      "cell_type": "code",
      "source": [
        "from tensorflow.keras.models import Sequential\n",
        "from tensorflow.keras.layers import Dense, LSTM, Embedding"
      ],
      "metadata": {
        "id": "rP2HMSTkRCeu"
      },
      "execution_count": 52,
      "outputs": []
    },
    {
      "cell_type": "code",
      "source": [
        "model = Sequential()\n",
        "model.add(Embedding(88,100,input_length=33))\n",
        "model.add(LSTM(150))\n",
        "model.add(Dense(88,activation='softmax'))"
      ],
      "metadata": {
        "id": "6zP5ld3wSQkN",
        "colab": {
          "base_uri": "https://localhost:8080/"
        },
        "outputId": "de575dca-8752-4a3a-eb03-3f4fb78b1c1d"
      },
      "execution_count": 53,
      "outputs": [
        {
          "output_type": "stream",
          "name": "stderr",
          "text": [
            "/usr/local/lib/python3.11/dist-packages/keras/src/layers/core/embedding.py:90: UserWarning: Argument `input_length` is deprecated. Just remove it.\n",
            "  warnings.warn(\n"
          ]
        }
      ]
    },
    {
      "cell_type": "code",
      "source": [
        "model.compile(loss='sparse_categorical_crossentropy', optimizer='adam', metrics=['accuracy'])"
      ],
      "metadata": {
        "id": "NXUb0K5-TA-L"
      },
      "execution_count": 54,
      "outputs": []
    },
    {
      "cell_type": "code",
      "source": [
        "model.summary()"
      ],
      "metadata": {
        "colab": {
          "base_uri": "https://localhost:8080/",
          "height": 238
        },
        "id": "SQ6K7eRwTbDV",
        "outputId": "d0af808d-4216-49df-ce6f-210629559865"
      },
      "execution_count": 55,
      "outputs": [
        {
          "output_type": "display_data",
          "data": {
            "text/plain": [
              "\u001b[1mModel: \"sequential_1\"\u001b[0m\n"
            ],
            "text/html": [
              "<pre style=\"white-space:pre;overflow-x:auto;line-height:normal;font-family:Menlo,'DejaVu Sans Mono',consolas,'Courier New',monospace\"><span style=\"font-weight: bold\">Model: \"sequential_1\"</span>\n",
              "</pre>\n"
            ]
          },
          "metadata": {}
        },
        {
          "output_type": "display_data",
          "data": {
            "text/plain": [
              "┏━━━━━━━━━━━━━━━━━━━━━━━━━━━━━━━━━┳━━━━━━━━━━━━━━━━━━━━━━━━┳━━━━━━━━━━━━━━━┓\n",
              "┃\u001b[1m \u001b[0m\u001b[1mLayer (type)                   \u001b[0m\u001b[1m \u001b[0m┃\u001b[1m \u001b[0m\u001b[1mOutput Shape          \u001b[0m\u001b[1m \u001b[0m┃\u001b[1m \u001b[0m\u001b[1m      Param #\u001b[0m\u001b[1m \u001b[0m┃\n",
              "┡━━━━━━━━━━━━━━━━━━━━━━━━━━━━━━━━━╇━━━━━━━━━━━━━━━━━━━━━━━━╇━━━━━━━━━━━━━━━┩\n",
              "│ embedding_1 (\u001b[38;5;33mEmbedding\u001b[0m)         │ ?                      │   \u001b[38;5;34m0\u001b[0m (unbuilt) │\n",
              "├─────────────────────────────────┼────────────────────────┼───────────────┤\n",
              "│ lstm_1 (\u001b[38;5;33mLSTM\u001b[0m)                   │ ?                      │   \u001b[38;5;34m0\u001b[0m (unbuilt) │\n",
              "├─────────────────────────────────┼────────────────────────┼───────────────┤\n",
              "│ dense_1 (\u001b[38;5;33mDense\u001b[0m)                 │ ?                      │   \u001b[38;5;34m0\u001b[0m (unbuilt) │\n",
              "└─────────────────────────────────┴────────────────────────┴───────────────┘\n"
            ],
            "text/html": [
              "<pre style=\"white-space:pre;overflow-x:auto;line-height:normal;font-family:Menlo,'DejaVu Sans Mono',consolas,'Courier New',monospace\">┏━━━━━━━━━━━━━━━━━━━━━━━━━━━━━━━━━┳━━━━━━━━━━━━━━━━━━━━━━━━┳━━━━━━━━━━━━━━━┓\n",
              "┃<span style=\"font-weight: bold\"> Layer (type)                    </span>┃<span style=\"font-weight: bold\"> Output Shape           </span>┃<span style=\"font-weight: bold\">       Param # </span>┃\n",
              "┡━━━━━━━━━━━━━━━━━━━━━━━━━━━━━━━━━╇━━━━━━━━━━━━━━━━━━━━━━━━╇━━━━━━━━━━━━━━━┩\n",
              "│ embedding_1 (<span style=\"color: #0087ff; text-decoration-color: #0087ff\">Embedding</span>)         │ ?                      │   <span style=\"color: #00af00; text-decoration-color: #00af00\">0</span> (unbuilt) │\n",
              "├─────────────────────────────────┼────────────────────────┼───────────────┤\n",
              "│ lstm_1 (<span style=\"color: #0087ff; text-decoration-color: #0087ff\">LSTM</span>)                   │ ?                      │   <span style=\"color: #00af00; text-decoration-color: #00af00\">0</span> (unbuilt) │\n",
              "├─────────────────────────────────┼────────────────────────┼───────────────┤\n",
              "│ dense_1 (<span style=\"color: #0087ff; text-decoration-color: #0087ff\">Dense</span>)                 │ ?                      │   <span style=\"color: #00af00; text-decoration-color: #00af00\">0</span> (unbuilt) │\n",
              "└─────────────────────────────────┴────────────────────────┴───────────────┘\n",
              "</pre>\n"
            ]
          },
          "metadata": {}
        },
        {
          "output_type": "display_data",
          "data": {
            "text/plain": [
              "\u001b[1m Total params: \u001b[0m\u001b[38;5;34m0\u001b[0m (0.00 B)\n"
            ],
            "text/html": [
              "<pre style=\"white-space:pre;overflow-x:auto;line-height:normal;font-family:Menlo,'DejaVu Sans Mono',consolas,'Courier New',monospace\"><span style=\"font-weight: bold\"> Total params: </span><span style=\"color: #00af00; text-decoration-color: #00af00\">0</span> (0.00 B)\n",
              "</pre>\n"
            ]
          },
          "metadata": {}
        },
        {
          "output_type": "display_data",
          "data": {
            "text/plain": [
              "\u001b[1m Trainable params: \u001b[0m\u001b[38;5;34m0\u001b[0m (0.00 B)\n"
            ],
            "text/html": [
              "<pre style=\"white-space:pre;overflow-x:auto;line-height:normal;font-family:Menlo,'DejaVu Sans Mono',consolas,'Courier New',monospace\"><span style=\"font-weight: bold\"> Trainable params: </span><span style=\"color: #00af00; text-decoration-color: #00af00\">0</span> (0.00 B)\n",
              "</pre>\n"
            ]
          },
          "metadata": {}
        },
        {
          "output_type": "display_data",
          "data": {
            "text/plain": [
              "\u001b[1m Non-trainable params: \u001b[0m\u001b[38;5;34m0\u001b[0m (0.00 B)\n"
            ],
            "text/html": [
              "<pre style=\"white-space:pre;overflow-x:auto;line-height:normal;font-family:Menlo,'DejaVu Sans Mono',consolas,'Courier New',monospace\"><span style=\"font-weight: bold\"> Non-trainable params: </span><span style=\"color: #00af00; text-decoration-color: #00af00\">0</span> (0.00 B)\n",
              "</pre>\n"
            ]
          },
          "metadata": {}
        }
      ]
    },
    {
      "cell_type": "code",
      "source": [
        "x.shape"
      ],
      "metadata": {
        "colab": {
          "base_uri": "https://localhost:8080/"
        },
        "id": "T_JdnPOITetm",
        "outputId": "8182e5db-91c5-487f-c39f-c1a18e4de659"
      },
      "execution_count": 56,
      "outputs": [
        {
          "output_type": "execute_result",
          "data": {
            "text/plain": [
              "(88, 25)"
            ]
          },
          "metadata": {},
          "execution_count": 56
        }
      ]
    },
    {
      "cell_type": "code",
      "source": [
        "y.shape"
      ],
      "metadata": {
        "colab": {
          "base_uri": "https://localhost:8080/"
        },
        "id": "EcutQjPMgaC_",
        "outputId": "490ab11c-d3db-4be5-d6fe-deac01fa3023"
      },
      "execution_count": 57,
      "outputs": [
        {
          "output_type": "execute_result",
          "data": {
            "text/plain": [
              "(88,)"
            ]
          },
          "metadata": {},
          "execution_count": 57
        }
      ]
    },
    {
      "cell_type": "code",
      "source": [
        "model.fit(x,y,epochs=100)"
      ],
      "metadata": {
        "colab": {
          "base_uri": "https://localhost:8080/"
        },
        "id": "O0-rJS9igbf2",
        "outputId": "9aae2e43-d521-4aa2-d4c5-a5cfdde3f66c"
      },
      "execution_count": 58,
      "outputs": [
        {
          "output_type": "stream",
          "name": "stdout",
          "text": [
            "Epoch 1/100\n",
            "\u001b[1m3/3\u001b[0m \u001b[32m━━━━━━━━━━━━━━━━━━━━\u001b[0m\u001b[37m\u001b[0m \u001b[1m6s\u001b[0m 93ms/step - accuracy: 0.0000e+00 - loss: 4.4768\n",
            "Epoch 2/100\n",
            "\u001b[1m3/3\u001b[0m \u001b[32m━━━━━━━━━━━━━━━━━━━━\u001b[0m\u001b[37m\u001b[0m \u001b[1m0s\u001b[0m 142ms/step - accuracy: 0.1058 - loss: 4.4586\n",
            "Epoch 3/100\n",
            "\u001b[1m3/3\u001b[0m \u001b[32m━━━━━━━━━━━━━━━━━━━━\u001b[0m\u001b[37m\u001b[0m \u001b[1m0s\u001b[0m 134ms/step - accuracy: 0.1197 - loss: 4.4308\n",
            "Epoch 4/100\n",
            "\u001b[1m3/3\u001b[0m \u001b[32m━━━━━━━━━━━━━━━━━━━━\u001b[0m\u001b[37m\u001b[0m \u001b[1m1s\u001b[0m 73ms/step - accuracy: 0.0692 - loss: 4.3544\n",
            "Epoch 5/100\n",
            "\u001b[1m3/3\u001b[0m \u001b[32m━━━━━━━━━━━━━━━━━━━━\u001b[0m\u001b[37m\u001b[0m \u001b[1m0s\u001b[0m 51ms/step - accuracy: 0.0518 - loss: 4.2241\n",
            "Epoch 6/100\n",
            "\u001b[1m3/3\u001b[0m \u001b[32m━━━━━━━━━━━━━━━━━━━━\u001b[0m\u001b[37m\u001b[0m \u001b[1m0s\u001b[0m 61ms/step - accuracy: 0.0558 - loss: 4.1362\n",
            "Epoch 7/100\n",
            "\u001b[1m3/3\u001b[0m \u001b[32m━━━━━━━━━━━━━━━━━━━━\u001b[0m\u001b[37m\u001b[0m \u001b[1m0s\u001b[0m 48ms/step - accuracy: 0.0806 - loss: 4.0629\n",
            "Epoch 8/100\n",
            "\u001b[1m3/3\u001b[0m \u001b[32m━━━━━━━━━━━━━━━━━━━━\u001b[0m\u001b[37m\u001b[0m \u001b[1m0s\u001b[0m 49ms/step - accuracy: 0.1037 - loss: 4.0628\n",
            "Epoch 9/100\n",
            "\u001b[1m3/3\u001b[0m \u001b[32m━━━━━━━━━━━━━━━━━━━━\u001b[0m\u001b[37m\u001b[0m \u001b[1m0s\u001b[0m 49ms/step - accuracy: 0.0998 - loss: 3.9592\n",
            "Epoch 10/100\n",
            "\u001b[1m3/3\u001b[0m \u001b[32m━━━━━━━━━━━━━━━━━━━━\u001b[0m\u001b[37m\u001b[0m \u001b[1m0s\u001b[0m 49ms/step - accuracy: 0.1019 - loss: 3.9105\n",
            "Epoch 11/100\n",
            "\u001b[1m3/3\u001b[0m \u001b[32m━━━━━━━━━━━━━━━━━━━━\u001b[0m\u001b[37m\u001b[0m \u001b[1m0s\u001b[0m 47ms/step - accuracy: 0.1019 - loss: 3.8395\n",
            "Epoch 12/100\n",
            "\u001b[1m3/3\u001b[0m \u001b[32m━━━━━━━━━━━━━━━━━━━━\u001b[0m\u001b[37m\u001b[0m \u001b[1m0s\u001b[0m 53ms/step - accuracy: 0.0863 - loss: 3.7518\n",
            "Epoch 13/100\n",
            "\u001b[1m3/3\u001b[0m \u001b[32m━━━━━━━━━━━━━━━━━━━━\u001b[0m\u001b[37m\u001b[0m \u001b[1m0s\u001b[0m 52ms/step - accuracy: 0.0884 - loss: 3.6938\n",
            "Epoch 14/100\n",
            "\u001b[1m3/3\u001b[0m \u001b[32m━━━━━━━━━━━━━━━━━━━━\u001b[0m\u001b[37m\u001b[0m \u001b[1m0s\u001b[0m 51ms/step - accuracy: 0.1136 - loss: 3.6296\n",
            "Epoch 15/100\n",
            "\u001b[1m3/3\u001b[0m \u001b[32m━━━━━━━━━━━━━━━━━━━━\u001b[0m\u001b[37m\u001b[0m \u001b[1m0s\u001b[0m 50ms/step - accuracy: 0.1346 - loss: 3.5469\n",
            "Epoch 16/100\n",
            "\u001b[1m3/3\u001b[0m \u001b[32m━━━━━━━━━━━━━━━━━━━━\u001b[0m\u001b[37m\u001b[0m \u001b[1m0s\u001b[0m 50ms/step - accuracy: 0.0824 - loss: 3.5250\n",
            "Epoch 17/100\n",
            "\u001b[1m3/3\u001b[0m \u001b[32m━━━━━━━━━━━━━━━━━━━━\u001b[0m\u001b[37m\u001b[0m \u001b[1m0s\u001b[0m 51ms/step - accuracy: 0.0806 - loss: 3.3822\n",
            "Epoch 18/100\n",
            "\u001b[1m3/3\u001b[0m \u001b[32m━━━━━━━━━━━━━━━━━━━━\u001b[0m\u001b[37m\u001b[0m \u001b[1m0s\u001b[0m 48ms/step - accuracy: 0.1037 - loss: 3.3296\n",
            "Epoch 19/100\n",
            "\u001b[1m3/3\u001b[0m \u001b[32m━━━━━━━━━━━━━━━━━━━━\u001b[0m\u001b[37m\u001b[0m \u001b[1m0s\u001b[0m 49ms/step - accuracy: 0.1158 - loss: 3.2157\n",
            "Epoch 20/100\n",
            "\u001b[1m3/3\u001b[0m \u001b[32m━━━━━━━━━━━━━━━━━━━━\u001b[0m\u001b[37m\u001b[0m \u001b[1m0s\u001b[0m 48ms/step - accuracy: 0.1289 - loss: 3.1485\n",
            "Epoch 21/100\n",
            "\u001b[1m3/3\u001b[0m \u001b[32m━━━━━━━━━━━━━━━━━━━━\u001b[0m\u001b[37m\u001b[0m \u001b[1m0s\u001b[0m 47ms/step - accuracy: 0.1538 - loss: 3.1042\n",
            "Epoch 22/100\n",
            "\u001b[1m3/3\u001b[0m \u001b[32m━━━━━━━━━━━━━━━━━━━━\u001b[0m\u001b[37m\u001b[0m \u001b[1m0s\u001b[0m 59ms/step - accuracy: 0.1712 - loss: 3.0164\n",
            "Epoch 23/100\n",
            "\u001b[1m3/3\u001b[0m \u001b[32m━━━━━━━━━━━━━━━━━━━━\u001b[0m\u001b[37m\u001b[0m \u001b[1m0s\u001b[0m 48ms/step - accuracy: 0.1999 - loss: 2.9516\n",
            "Epoch 24/100\n",
            "\u001b[1m3/3\u001b[0m \u001b[32m━━━━━━━━━━━━━━━━━━━━\u001b[0m\u001b[37m\u001b[0m \u001b[1m0s\u001b[0m 48ms/step - accuracy: 0.2134 - loss: 2.8770\n",
            "Epoch 25/100\n",
            "\u001b[1m3/3\u001b[0m \u001b[32m━━━━━━━━━━━━━━━━━━━━\u001b[0m\u001b[37m\u001b[0m \u001b[1m0s\u001b[0m 51ms/step - accuracy: 0.3143 - loss: 2.7263\n",
            "Epoch 26/100\n",
            "\u001b[1m3/3\u001b[0m \u001b[32m━━━━━━━━━━━━━━━━━━━━\u001b[0m\u001b[37m\u001b[0m \u001b[1m0s\u001b[0m 48ms/step - accuracy: 0.2273 - loss: 2.6991\n",
            "Epoch 27/100\n",
            "\u001b[1m3/3\u001b[0m \u001b[32m━━━━━━━━━━━━━━━━━━━━\u001b[0m\u001b[37m\u001b[0m \u001b[1m0s\u001b[0m 53ms/step - accuracy: 0.3274 - loss: 2.6398\n",
            "Epoch 28/100\n",
            "\u001b[1m3/3\u001b[0m \u001b[32m━━━━━━━━━━━━━━━━━━━━\u001b[0m\u001b[37m\u001b[0m \u001b[1m0s\u001b[0m 49ms/step - accuracy: 0.2518 - loss: 2.5973\n",
            "Epoch 29/100\n",
            "\u001b[1m3/3\u001b[0m \u001b[32m━━━━━━━━━━━━━━━━━━━━\u001b[0m\u001b[37m\u001b[0m \u001b[1m0s\u001b[0m 49ms/step - accuracy: 0.3001 - loss: 2.5447\n",
            "Epoch 30/100\n",
            "\u001b[1m3/3\u001b[0m \u001b[32m━━━━━━━━━━━━━━━━━━━━\u001b[0m\u001b[37m\u001b[0m \u001b[1m0s\u001b[0m 50ms/step - accuracy: 0.3192 - loss: 2.4677\n",
            "Epoch 31/100\n",
            "\u001b[1m3/3\u001b[0m \u001b[32m━━━━━━━━━━━━━━━━━━━━\u001b[0m\u001b[37m\u001b[0m \u001b[1m0s\u001b[0m 47ms/step - accuracy: 0.3754 - loss: 2.3954\n",
            "Epoch 32/100\n",
            "\u001b[1m3/3\u001b[0m \u001b[32m━━━━━━━━━━━━━━━━━━━━\u001b[0m\u001b[37m\u001b[0m \u001b[1m0s\u001b[0m 60ms/step - accuracy: 0.4233 - loss: 2.3007\n",
            "Epoch 33/100\n",
            "\u001b[1m3/3\u001b[0m \u001b[32m━━━━━━━━━━━━━━━━━━━━\u001b[0m\u001b[37m\u001b[0m \u001b[1m0s\u001b[0m 48ms/step - accuracy: 0.3917 - loss: 2.3327\n",
            "Epoch 34/100\n",
            "\u001b[1m3/3\u001b[0m \u001b[32m━━━━━━━━━━━━━━━━━━━━\u001b[0m\u001b[37m\u001b[0m \u001b[1m0s\u001b[0m 52ms/step - accuracy: 0.4482 - loss: 2.2081\n",
            "Epoch 35/100\n",
            "\u001b[1m3/3\u001b[0m \u001b[32m━━━━━━━━━━━━━━━━━━━━\u001b[0m\u001b[37m\u001b[0m \u001b[1m0s\u001b[0m 49ms/step - accuracy: 0.5373 - loss: 2.1460\n",
            "Epoch 36/100\n",
            "\u001b[1m3/3\u001b[0m \u001b[32m━━━━━━━━━━━━━━━━━━━━\u001b[0m\u001b[37m\u001b[0m \u001b[1m0s\u001b[0m 50ms/step - accuracy: 0.5195 - loss: 2.1199\n",
            "Epoch 37/100\n",
            "\u001b[1m3/3\u001b[0m \u001b[32m━━━━━━━━━━━━━━━━━━━━\u001b[0m\u001b[37m\u001b[0m \u001b[1m0s\u001b[0m 51ms/step - accuracy: 0.5618 - loss: 2.0444\n",
            "Epoch 38/100\n",
            "\u001b[1m3/3\u001b[0m \u001b[32m━━━━━━━━━━━━━━━━━━━━\u001b[0m\u001b[37m\u001b[0m \u001b[1m0s\u001b[0m 50ms/step - accuracy: 0.5692 - loss: 1.9947\n",
            "Epoch 39/100\n",
            "\u001b[1m3/3\u001b[0m \u001b[32m━━━━━━━━━━━━━━━━━━━━\u001b[0m\u001b[37m\u001b[0m \u001b[1m0s\u001b[0m 48ms/step - accuracy: 0.5700 - loss: 1.8926\n",
            "Epoch 40/100\n",
            "\u001b[1m3/3\u001b[0m \u001b[32m━━━━━━━━━━━━━━━━━━━━\u001b[0m\u001b[37m\u001b[0m \u001b[1m0s\u001b[0m 52ms/step - accuracy: 0.5344 - loss: 1.9061\n",
            "Epoch 41/100\n",
            "\u001b[1m3/3\u001b[0m \u001b[32m━━━━━━━━━━━━━━━━━━━━\u001b[0m\u001b[37m\u001b[0m \u001b[1m0s\u001b[0m 87ms/step - accuracy: 0.6080 - loss: 1.8109\n",
            "Epoch 42/100\n",
            "\u001b[1m3/3\u001b[0m \u001b[32m━━━━━━━━━━━━━━━━━━━━\u001b[0m\u001b[37m\u001b[0m \u001b[1m0s\u001b[0m 99ms/step - accuracy: 0.6467 - loss: 1.7835\n",
            "Epoch 43/100\n",
            "\u001b[1m3/3\u001b[0m \u001b[32m━━━━━━━━━━━━━━━━━━━━\u001b[0m\u001b[37m\u001b[0m \u001b[1m0s\u001b[0m 101ms/step - accuracy: 0.6538 - loss: 1.7880\n",
            "Epoch 44/100\n",
            "\u001b[1m3/3\u001b[0m \u001b[32m━━━━━━━━━━━━━━━━━━━━\u001b[0m\u001b[37m\u001b[0m \u001b[1m1s\u001b[0m 100ms/step - accuracy: 0.6175 - loss: 1.7373\n",
            "Epoch 45/100\n",
            "\u001b[1m3/3\u001b[0m \u001b[32m━━━━━━━━━━━━━━━━━━━━\u001b[0m\u001b[37m\u001b[0m \u001b[1m0s\u001b[0m 93ms/step - accuracy: 0.6669 - loss: 1.6763\n",
            "Epoch 46/100\n",
            "\u001b[1m3/3\u001b[0m \u001b[32m━━━━━━━━━━━━━━━━━━━━\u001b[0m\u001b[37m\u001b[0m \u001b[1m0s\u001b[0m 112ms/step - accuracy: 0.7560 - loss: 1.6344\n",
            "Epoch 47/100\n",
            "\u001b[1m3/3\u001b[0m \u001b[32m━━━━━━━━━━━━━━━━━━━━\u001b[0m\u001b[37m\u001b[0m \u001b[1m0s\u001b[0m 91ms/step - accuracy: 0.7308 - loss: 1.5569\n",
            "Epoch 48/100\n",
            "\u001b[1m3/3\u001b[0m \u001b[32m━━━━━━━━━━━━━━━━━━━━\u001b[0m\u001b[37m\u001b[0m \u001b[1m0s\u001b[0m 51ms/step - accuracy: 0.7539 - loss: 1.5192\n",
            "Epoch 49/100\n",
            "\u001b[1m3/3\u001b[0m \u001b[32m━━━━━━━━━━━━━━━━━━━━\u001b[0m\u001b[37m\u001b[0m \u001b[1m0s\u001b[0m 50ms/step - accuracy: 0.7599 - loss: 1.4906\n",
            "Epoch 50/100\n",
            "\u001b[1m3/3\u001b[0m \u001b[32m━━━━━━━━━━━━━━━━━━━━\u001b[0m\u001b[37m\u001b[0m \u001b[1m0s\u001b[0m 48ms/step - accuracy: 0.7734 - loss: 1.4519\n",
            "Epoch 51/100\n",
            "\u001b[1m3/3\u001b[0m \u001b[32m━━━━━━━━━━━━━━━━━━━━\u001b[0m\u001b[37m\u001b[0m \u001b[1m0s\u001b[0m 50ms/step - accuracy: 0.7848 - loss: 1.4641\n",
            "Epoch 52/100\n",
            "\u001b[1m3/3\u001b[0m \u001b[32m━━━━━━━━━━━━━━━━━━━━\u001b[0m\u001b[37m\u001b[0m \u001b[1m0s\u001b[0m 49ms/step - accuracy: 0.7812 - loss: 1.3663\n",
            "Epoch 53/100\n",
            "\u001b[1m3/3\u001b[0m \u001b[32m━━━━━━━━━━━━━━━━━━━━\u001b[0m\u001b[37m\u001b[0m \u001b[1m0s\u001b[0m 48ms/step - accuracy: 0.7944 - loss: 1.3031\n",
            "Epoch 54/100\n",
            "\u001b[1m3/3\u001b[0m \u001b[32m━━━━━━━━━━━━━━━━━━━━\u001b[0m\u001b[37m\u001b[0m \u001b[1m0s\u001b[0m 56ms/step - accuracy: 0.7539 - loss: 1.3620\n",
            "Epoch 55/100\n",
            "\u001b[1m3/3\u001b[0m \u001b[32m━━━━━━━━━━━━━━━━━━━━\u001b[0m\u001b[37m\u001b[0m \u001b[1m0s\u001b[0m 54ms/step - accuracy: 0.7763 - loss: 1.3227\n",
            "Epoch 56/100\n",
            "\u001b[1m3/3\u001b[0m \u001b[32m━━━━━━━━━━━━━━━━━━━━\u001b[0m\u001b[37m\u001b[0m \u001b[1m0s\u001b[0m 51ms/step - accuracy: 0.7610 - loss: 1.3248\n",
            "Epoch 57/100\n",
            "\u001b[1m3/3\u001b[0m \u001b[32m━━━━━━━━━━━━━━━━━━━━\u001b[0m\u001b[37m\u001b[0m \u001b[1m0s\u001b[0m 52ms/step - accuracy: 0.8310 - loss: 1.2262\n",
            "Epoch 58/100\n",
            "\u001b[1m3/3\u001b[0m \u001b[32m━━━━━━━━━━━━━━━━━━━━\u001b[0m\u001b[37m\u001b[0m \u001b[1m0s\u001b[0m 63ms/step - accuracy: 0.7805 - loss: 1.2339\n",
            "Epoch 59/100\n",
            "\u001b[1m3/3\u001b[0m \u001b[32m━━━━━━━━━━━━━━━━━━━━\u001b[0m\u001b[37m\u001b[0m \u001b[1m0s\u001b[0m 49ms/step - accuracy: 0.8114 - loss: 1.1968\n",
            "Epoch 60/100\n",
            "\u001b[1m3/3\u001b[0m \u001b[32m━━━━━━━━━━━━━━━━━━━━\u001b[0m\u001b[37m\u001b[0m \u001b[1m0s\u001b[0m 75ms/step - accuracy: 0.8249 - loss: 1.1486\n",
            "Epoch 61/100\n",
            "\u001b[1m3/3\u001b[0m \u001b[32m━━━━━━━━━━━━━━━━━━━━\u001b[0m\u001b[37m\u001b[0m \u001b[1m0s\u001b[0m 90ms/step - accuracy: 0.8523 - loss: 1.1416\n",
            "Epoch 62/100\n",
            "\u001b[1m3/3\u001b[0m \u001b[32m━━━━━━━━━━━━━━━━━━━━\u001b[0m\u001b[37m\u001b[0m \u001b[1m0s\u001b[0m 108ms/step - accuracy: 0.8288 - loss: 1.0913\n",
            "Epoch 63/100\n",
            "\u001b[1m3/3\u001b[0m \u001b[32m━━━━━━━━━━━━━━━━━━━━\u001b[0m\u001b[37m\u001b[0m \u001b[1m0s\u001b[0m 49ms/step - accuracy: 0.8150 - loss: 1.1145\n",
            "Epoch 64/100\n",
            "\u001b[1m3/3\u001b[0m \u001b[32m━━━━━━━━━━━━━━━━━━━━\u001b[0m\u001b[37m\u001b[0m \u001b[1m0s\u001b[0m 49ms/step - accuracy: 0.8363 - loss: 1.0984\n",
            "Epoch 65/100\n",
            "\u001b[1m3/3\u001b[0m \u001b[32m━━━━━━━━━━━━━━━━━━━━\u001b[0m\u001b[37m\u001b[0m \u001b[1m0s\u001b[0m 60ms/step - accuracy: 0.8402 - loss: 1.0585\n",
            "Epoch 66/100\n",
            "\u001b[1m3/3\u001b[0m \u001b[32m━━━━━━━━━━━━━━━━━━━━\u001b[0m\u001b[37m\u001b[0m \u001b[1m0s\u001b[0m 52ms/step - accuracy: 0.8867 - loss: 1.0261\n",
            "Epoch 67/100\n",
            "\u001b[1m3/3\u001b[0m \u001b[32m━━━━━━━━━━━━━━━━━━━━\u001b[0m\u001b[37m\u001b[0m \u001b[1m0s\u001b[0m 50ms/step - accuracy: 0.9059 - loss: 0.9488\n",
            "Epoch 68/100\n",
            "\u001b[1m3/3\u001b[0m \u001b[32m━━━━━━━━━━━━━━━━━━━━\u001b[0m\u001b[37m\u001b[0m \u001b[1m0s\u001b[0m 48ms/step - accuracy: 0.9137 - loss: 0.9656\n",
            "Epoch 69/100\n",
            "\u001b[1m3/3\u001b[0m \u001b[32m━━━━━━━━━━━━━━━━━━━━\u001b[0m\u001b[37m\u001b[0m \u001b[1m0s\u001b[0m 50ms/step - accuracy: 0.8651 - loss: 0.9716\n",
            "Epoch 70/100\n",
            "\u001b[1m3/3\u001b[0m \u001b[32m━━━━━━━━━━━━━━━━━━━━\u001b[0m\u001b[37m\u001b[0m \u001b[1m0s\u001b[0m 50ms/step - accuracy: 0.9290 - loss: 0.9585\n",
            "Epoch 71/100\n",
            "\u001b[1m3/3\u001b[0m \u001b[32m━━━━━━━━━━━━━━━━━━━━\u001b[0m\u001b[37m\u001b[0m \u001b[1m0s\u001b[0m 55ms/step - accuracy: 0.9542 - loss: 0.9265\n",
            "Epoch 72/100\n",
            "\u001b[1m3/3\u001b[0m \u001b[32m━━━━━━━━━━━━━━━━━━━━\u001b[0m\u001b[37m\u001b[0m \u001b[1m0s\u001b[0m 48ms/step - accuracy: 0.9599 - loss: 0.8847\n",
            "Epoch 73/100\n",
            "\u001b[1m3/3\u001b[0m \u001b[32m━━━━━━━━━━━━━━━━━━━━\u001b[0m\u001b[37m\u001b[0m \u001b[1m0s\u001b[0m 50ms/step - accuracy: 0.9308 - loss: 0.9066\n",
            "Epoch 74/100\n",
            "\u001b[1m3/3\u001b[0m \u001b[32m━━━━━━━━━━━━━━━━━━━━\u001b[0m\u001b[37m\u001b[0m \u001b[1m0s\u001b[0m 49ms/step - accuracy: 0.9656 - loss: 0.8468\n",
            "Epoch 75/100\n",
            "\u001b[1m3/3\u001b[0m \u001b[32m━━━━━━━━━━━━━━━━━━━━\u001b[0m\u001b[37m\u001b[0m \u001b[1m0s\u001b[0m 49ms/step - accuracy: 0.9616 - loss: 0.8099\n",
            "Epoch 76/100\n",
            "\u001b[1m3/3\u001b[0m \u001b[32m━━━━━━━━━━━━━━━━━━━━\u001b[0m\u001b[37m\u001b[0m \u001b[1m0s\u001b[0m 49ms/step - accuracy: 0.9673 - loss: 0.8551\n",
            "Epoch 77/100\n",
            "\u001b[1m3/3\u001b[0m \u001b[32m━━━━━━━━━━━━━━━━━━━━\u001b[0m\u001b[37m\u001b[0m \u001b[1m0s\u001b[0m 48ms/step - accuracy: 0.9847 - loss: 0.8045\n",
            "Epoch 78/100\n",
            "\u001b[1m3/3\u001b[0m \u001b[32m━━━━━━━━━━━━━━━━━━━━\u001b[0m\u001b[37m\u001b[0m \u001b[1m0s\u001b[0m 47ms/step - accuracy: 0.9943 - loss: 0.7605\n",
            "Epoch 79/100\n",
            "\u001b[1m3/3\u001b[0m \u001b[32m━━━━━━━━━━━━━━━━━━━━\u001b[0m\u001b[37m\u001b[0m \u001b[1m0s\u001b[0m 49ms/step - accuracy: 0.9769 - loss: 0.7814\n",
            "Epoch 80/100\n",
            "\u001b[1m3/3\u001b[0m \u001b[32m━━━━━━━━━━━━━━━━━━━━\u001b[0m\u001b[37m\u001b[0m \u001b[1m0s\u001b[0m 49ms/step - accuracy: 0.9730 - loss: 0.7703\n",
            "Epoch 81/100\n",
            "\u001b[1m3/3\u001b[0m \u001b[32m━━━━━━━━━━━━━━━━━━━━\u001b[0m\u001b[37m\u001b[0m \u001b[1m0s\u001b[0m 49ms/step - accuracy: 1.0000 - loss: 0.7490\n",
            "Epoch 82/100\n",
            "\u001b[1m3/3\u001b[0m \u001b[32m━━━━━━━━━━━━━━━━━━━━\u001b[0m\u001b[37m\u001b[0m \u001b[1m0s\u001b[0m 51ms/step - accuracy: 0.9943 - loss: 0.7110\n",
            "Epoch 83/100\n",
            "\u001b[1m3/3\u001b[0m \u001b[32m━━━━━━━━━━━━━━━━━━━━\u001b[0m\u001b[37m\u001b[0m \u001b[1m0s\u001b[0m 47ms/step - accuracy: 0.9943 - loss: 0.7029\n",
            "Epoch 84/100\n",
            "\u001b[1m3/3\u001b[0m \u001b[32m━━━━━━━━━━━━━━━━━━━━\u001b[0m\u001b[37m\u001b[0m \u001b[1m0s\u001b[0m 53ms/step - accuracy: 1.0000 - loss: 0.7060\n",
            "Epoch 85/100\n",
            "\u001b[1m3/3\u001b[0m \u001b[32m━━━━━━━━━━━━━━━━━━━━\u001b[0m\u001b[37m\u001b[0m \u001b[1m0s\u001b[0m 82ms/step - accuracy: 0.9904 - loss: 0.6601\n",
            "Epoch 86/100\n",
            "\u001b[1m3/3\u001b[0m \u001b[32m━━━━━━━━━━━━━━━━━━━━\u001b[0m\u001b[37m\u001b[0m \u001b[1m0s\u001b[0m 100ms/step - accuracy: 1.0000 - loss: 0.6684\n",
            "Epoch 87/100\n",
            "\u001b[1m3/3\u001b[0m \u001b[32m━━━━━━━━━━━━━━━━━━━━\u001b[0m\u001b[37m\u001b[0m \u001b[1m0s\u001b[0m 92ms/step - accuracy: 1.0000 - loss: 0.6535\n",
            "Epoch 88/100\n",
            "\u001b[1m3/3\u001b[0m \u001b[32m━━━━━━━━━━━━━━━━━━━━\u001b[0m\u001b[37m\u001b[0m \u001b[1m1s\u001b[0m 100ms/step - accuracy: 1.0000 - loss: 0.6361\n",
            "Epoch 89/100\n",
            "\u001b[1m3/3\u001b[0m \u001b[32m━━━━━━━━━━━━━━━━━━━━\u001b[0m\u001b[37m\u001b[0m \u001b[1m1s\u001b[0m 104ms/step - accuracy: 1.0000 - loss: 0.6749\n",
            "Epoch 90/100\n",
            "\u001b[1m3/3\u001b[0m \u001b[32m━━━━━━━━━━━━━━━━━━━━\u001b[0m\u001b[37m\u001b[0m \u001b[1m0s\u001b[0m 66ms/step - accuracy: 1.0000 - loss: 0.5907\n",
            "Epoch 91/100\n",
            "\u001b[1m3/3\u001b[0m \u001b[32m━━━━━━━━━━━━━━━━━━━━\u001b[0m\u001b[37m\u001b[0m \u001b[1m0s\u001b[0m 52ms/step - accuracy: 1.0000 - loss: 0.5952\n",
            "Epoch 92/100\n",
            "\u001b[1m3/3\u001b[0m \u001b[32m━━━━━━━━━━━━━━━━━━━━\u001b[0m\u001b[37m\u001b[0m \u001b[1m0s\u001b[0m 48ms/step - accuracy: 1.0000 - loss: 0.5958\n",
            "Epoch 93/100\n",
            "\u001b[1m3/3\u001b[0m \u001b[32m━━━━━━━━━━━━━━━━━━━━\u001b[0m\u001b[37m\u001b[0m \u001b[1m0s\u001b[0m 49ms/step - accuracy: 1.0000 - loss: 0.5503\n",
            "Epoch 94/100\n",
            "\u001b[1m3/3\u001b[0m \u001b[32m━━━━━━━━━━━━━━━━━━━━\u001b[0m\u001b[37m\u001b[0m \u001b[1m0s\u001b[0m 65ms/step - accuracy: 1.0000 - loss: 0.5550\n",
            "Epoch 95/100\n",
            "\u001b[1m3/3\u001b[0m \u001b[32m━━━━━━━━━━━━━━━━━━━━\u001b[0m\u001b[37m\u001b[0m \u001b[1m0s\u001b[0m 51ms/step - accuracy: 1.0000 - loss: 0.5561\n",
            "Epoch 96/100\n",
            "\u001b[1m3/3\u001b[0m \u001b[32m━━━━━━━━━━━━━━━━━━━━\u001b[0m\u001b[37m\u001b[0m \u001b[1m0s\u001b[0m 52ms/step - accuracy: 1.0000 - loss: 0.5204\n",
            "Epoch 97/100\n",
            "\u001b[1m3/3\u001b[0m \u001b[32m━━━━━━━━━━━━━━━━━━━━\u001b[0m\u001b[37m\u001b[0m \u001b[1m0s\u001b[0m 54ms/step - accuracy: 1.0000 - loss: 0.5069\n",
            "Epoch 98/100\n",
            "\u001b[1m3/3\u001b[0m \u001b[32m━━━━━━━━━━━━━━━━━━━━\u001b[0m\u001b[37m\u001b[0m \u001b[1m0s\u001b[0m 52ms/step - accuracy: 1.0000 - loss: 0.5147\n",
            "Epoch 99/100\n",
            "\u001b[1m3/3\u001b[0m \u001b[32m━━━━━━━━━━━━━━━━━━━━\u001b[0m\u001b[37m\u001b[0m \u001b[1m0s\u001b[0m 56ms/step - accuracy: 1.0000 - loss: 0.4845\n",
            "Epoch 100/100\n",
            "\u001b[1m3/3\u001b[0m \u001b[32m━━━━━━━━━━━━━━━━━━━━\u001b[0m\u001b[37m\u001b[0m \u001b[1m0s\u001b[0m 52ms/step - accuracy: 1.0000 - loss: 0.4894\n"
          ]
        },
        {
          "output_type": "execute_result",
          "data": {
            "text/plain": [
              "<keras.src.callbacks.history.History at 0x7f8f30157a90>"
            ]
          },
          "metadata": {},
          "execution_count": 58
        }
      ]
    },
    {
      "cell_type": "code",
      "source": [
        "text_1 = \"black hole\"\n",
        "\n",
        "token_text_1 =token.texts_to_sequences([text_1])[0]\n"
      ],
      "metadata": {
        "id": "ZQdn3OKEhbU8"
      },
      "execution_count": 59,
      "outputs": []
    },
    {
      "cell_type": "code",
      "source": [
        "padded_text = pad_sequences([token_text_1],maxlen=33,padding='pre')"
      ],
      "metadata": {
        "id": "I0MiBTC_oSyW"
      },
      "execution_count": 60,
      "outputs": []
    },
    {
      "cell_type": "code",
      "source": [
        "model.predict(padded_text)"
      ],
      "metadata": {
        "colab": {
          "base_uri": "https://localhost:8080/"
        },
        "id": "V2wZooxSouaP",
        "outputId": "dc088ad3-ed3b-42db-e3f5-c21102182c56"
      },
      "execution_count": 61,
      "outputs": [
        {
          "output_type": "stream",
          "name": "stdout",
          "text": [
            "\u001b[1m1/1\u001b[0m \u001b[32m━━━━━━━━━━━━━━━━━━━━\u001b[0m\u001b[37m\u001b[0m \u001b[1m0s\u001b[0m 210ms/step\n"
          ]
        },
        {
          "output_type": "execute_result",
          "data": {
            "text/plain": [
              "array([[3.62754799e-05, 4.18753363e-02, 7.00509350e-04, 2.99532302e-02,\n",
              "        2.43370965e-01, 8.50404575e-02, 8.40631351e-02, 5.90744603e-04,\n",
              "        1.96219757e-04, 4.50796331e-04, 2.88774818e-02, 1.88739505e-04,\n",
              "        3.55716620e-04, 4.87736310e-04, 1.38234459e-02, 1.01858552e-03,\n",
              "        5.78705221e-02, 1.93568349e-01, 7.34767737e-03, 2.34981743e-03,\n",
              "        2.74350343e-04, 2.44610710e-04, 2.83559551e-04, 1.56621332e-04,\n",
              "        2.80492502e-04, 1.64002777e-04, 2.29043217e-04, 2.52093188e-04,\n",
              "        1.91307452e-04, 6.20085048e-04, 7.79685506e-04, 1.23120041e-03,\n",
              "        5.15197644e-05, 1.01750158e-02, 2.48891078e-02, 1.84336379e-02,\n",
              "        1.00411018e-02, 5.23810880e-03, 1.12027582e-03, 7.57148140e-04,\n",
              "        3.07829032e-04, 2.05919234e-04, 4.51770939e-05, 2.22213293e-05,\n",
              "        6.74027033e-05, 5.02885996e-05, 2.70791333e-02, 4.63560270e-03,\n",
              "        3.00492047e-05, 2.56039035e-02, 8.46191682e-03, 2.10482464e-03,\n",
              "        1.19836908e-03, 2.54859071e-04, 1.79411887e-04, 6.55205222e-04,\n",
              "        1.25830353e-04, 2.06756027e-04, 1.22753889e-04, 1.07614134e-04,\n",
              "        2.89073814e-05, 5.71703427e-02, 1.89891388e-03, 2.52097525e-04,\n",
              "        6.20310137e-04, 1.51479006e-04, 7.32698900e-05, 3.84430496e-05,\n",
              "        1.70742987e-05, 3.09344905e-05, 7.44066929e-05, 2.54557508e-05,\n",
              "        3.91149661e-05, 7.77016903e-05, 5.32924751e-05, 1.21546927e-05,\n",
              "        3.28776587e-05, 4.05475330e-05, 4.30561449e-05, 2.35564439e-05,\n",
              "        2.43784434e-05, 3.14441495e-05, 4.28696367e-05, 2.35882308e-05,\n",
              "        2.20579295e-05, 3.55973680e-05, 3.28022797e-05, 3.96405230e-05]],\n",
              "      dtype=float32)"
            ]
          },
          "metadata": {},
          "execution_count": 61
        }
      ]
    },
    {
      "cell_type": "code",
      "source": [
        "import numpy as np\n",
        "pos = np.argmax(model.predict(padded_text))\n",
        "pos"
      ],
      "metadata": {
        "colab": {
          "base_uri": "https://localhost:8080/"
        },
        "id": "0JIZWEDLo780",
        "outputId": "98532858-a656-47ce-ccb5-fc648c95846b"
      },
      "execution_count": 62,
      "outputs": [
        {
          "output_type": "stream",
          "name": "stdout",
          "text": [
            "\u001b[1m1/1\u001b[0m \u001b[32m━━━━━━━━━━━━━━━━━━━━\u001b[0m\u001b[37m\u001b[0m \u001b[1m0s\u001b[0m 43ms/step\n"
          ]
        },
        {
          "output_type": "execute_result",
          "data": {
            "text/plain": [
              "np.int64(4)"
            ]
          },
          "metadata": {},
          "execution_count": 62
        }
      ]
    },
    {
      "cell_type": "code",
      "source": [
        "for word, index in token.word_index.items():\n",
        "  if index == pos:\n",
        "    print(word)"
      ],
      "metadata": {
        "colab": {
          "base_uri": "https://localhost:8080/"
        },
        "id": "s-GYdHwBp2DR",
        "outputId": "ffe4a3f6-d078-4e5e-f388-bfba15312407"
      },
      "execution_count": 63,
      "outputs": [
        {
          "output_type": "stream",
          "name": "stdout",
          "text": [
            "is\n"
          ]
        }
      ]
    },
    {
      "cell_type": "code",
      "source": [
        "text_2 = \"A black hole is a region of\"\n",
        "\n",
        "token_text_2 =token.texts_to_sequences([text_2])[0]\n",
        "padded_text_1 = pad_sequences([token_text_2],maxlen=33,padding='pre')\n",
        "model.predict(padded_text_1)\n",
        "pos_1 = np.argmax(model.predict(padded_text_1))\n",
        "\n",
        "for word, index in token.word_index.items():\n",
        "  if index == pos_1:\n",
        "    print(word)"
      ],
      "metadata": {
        "colab": {
          "base_uri": "https://localhost:8080/"
        },
        "id": "WnuE2neaqlNR",
        "outputId": "0ce97179-1f77-4cb3-d132-e20c7639ddaf"
      },
      "execution_count": 64,
      "outputs": [
        {
          "output_type": "stream",
          "name": "stdout",
          "text": [
            "\u001b[1m1/1\u001b[0m \u001b[32m━━━━━━━━━━━━━━━━━━━━\u001b[0m\u001b[37m\u001b[0m \u001b[1m0s\u001b[0m 43ms/step\n",
            "\u001b[1m1/1\u001b[0m \u001b[32m━━━━━━━━━━━━━━━━━━━━\u001b[0m\u001b[37m\u001b[0m \u001b[1m0s\u001b[0m 45ms/step\n",
            "spacetime\n"
          ]
        }
      ]
    }
  ]
}