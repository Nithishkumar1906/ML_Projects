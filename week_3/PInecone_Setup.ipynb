{
 "cells": [
  {
   "cell_type": "code",
   "execution_count": 1,
   "id": "0e820241-49e2-433a-8acb-13656f5e543b",
   "metadata": {},
   "outputs": [],
   "source": [
    "import pinecone\n",
    "from pinecone import Pinecone, ServerlessSpec\n",
    "import os\n",
    "from dotenv import load_dotenv,find_dotenv"
   ]
  },
  {
   "cell_type": "code",
   "execution_count": 2,
   "id": "7c91d367-d1e7-48fc-b725-217ce0b58c96",
   "metadata": {},
   "outputs": [
    {
     "data": {
      "text/plain": [
       "True"
      ]
     },
     "execution_count": 2,
     "metadata": {},
     "output_type": "execute_result"
    }
   ],
   "source": [
    "load_dotenv(find_dotenv(), override = True)"
   ]
  },
  {
   "cell_type": "code",
   "execution_count": 5,
   "id": "de6cfd88-8829-4c30-8ce2-11350eb8d367",
   "metadata": {},
   "outputs": [],
   "source": [
    "pc = Pinecone(api_key = os.environ.get(\"PINECONE_API\"),environment = os.environ.get(\"PINECONE_ENV\"))"
   ]
  },
  {
   "cell_type": "code",
   "execution_count": 6,
   "id": "342b7a27-cb84-4834-be22-43b9267a98ee",
   "metadata": {},
   "outputs": [
    {
     "data": {
      "text/plain": [
       "[\n",
       "    {\n",
       "        \"name\": \"my-pinecone\",\n",
       "        \"metric\": \"cosine\",\n",
       "        \"host\": \"my-pinecone-y3e23wn.svc.aped-4627-b74a.pinecone.io\",\n",
       "        \"spec\": {\n",
       "            \"serverless\": {\n",
       "                \"cloud\": \"aws\",\n",
       "                \"region\": \"us-east-1\"\n",
       "            }\n",
       "        },\n",
       "        \"status\": {\n",
       "            \"ready\": true,\n",
       "            \"state\": \"Ready\"\n",
       "        },\n",
       "        \"vector_type\": \"dense\",\n",
       "        \"dimension\": 3,\n",
       "        \"deletion_protection\": \"disabled\",\n",
       "        \"tags\": null\n",
       "    }\n",
       "]"
      ]
     },
     "execution_count": 6,
     "metadata": {},
     "output_type": "execute_result"
    }
   ],
   "source": [
    "pc.list_indexes()"
   ]
  },
  {
   "cell_type": "code",
   "execution_count": 7,
   "id": "e911fd59-df19-4cfd-abf3-31b5abaf54f4",
   "metadata": {},
   "outputs": [],
   "source": [
    "pinecone_name = \"my-pinecone\"\n",
    "dimension = 3\n",
    "metric = \"cosine\""
   ]
  },
  {
   "cell_type": "code",
   "execution_count": 8,
   "id": "2fb81e65-35d2-4fce-8d2b-3879d8edfec1",
   "metadata": {},
   "outputs": [
    {
     "name": "stdout",
     "output_type": "stream",
     "text": [
      "my-pinecone Succesfully Deleted.\n"
     ]
    }
   ],
   "source": [
    "if pinecone_name in [index.name for index in pc.list_indexes()]:\n",
    "    pc.delete_index(pinecone_name)\n",
    "    print(f\"{pinecone_name} Succesfully Deleted.\")\n",
    "else:\n",
    "    print(f\"{pinecone_name} Not in index.\")"
   ]
  },
  {
   "cell_type": "code",
   "execution_count": 9,
   "id": "0927feef-bb03-41d9-a33f-2a75c8ea40a7",
   "metadata": {},
   "outputs": [
    {
     "data": {
      "text/plain": [
       "[]"
      ]
     },
     "execution_count": 9,
     "metadata": {},
     "output_type": "execute_result"
    }
   ],
   "source": [
    "pc.list_indexes()"
   ]
  },
  {
   "cell_type": "code",
   "execution_count": 10,
   "id": "fd9ec34e-d0ca-4b6e-a9de-74ebeec7d0d9",
   "metadata": {},
   "outputs": [
    {
     "data": {
      "text/plain": [
       "{\n",
       "    \"name\": \"my-pinecone\",\n",
       "    \"metric\": \"cosine\",\n",
       "    \"host\": \"my-pinecone-y3e23wn.svc.aped-4627-b74a.pinecone.io\",\n",
       "    \"spec\": {\n",
       "        \"serverless\": {\n",
       "            \"cloud\": \"aws\",\n",
       "            \"region\": \"us-east-1\"\n",
       "        }\n",
       "    },\n",
       "    \"status\": {\n",
       "        \"ready\": true,\n",
       "        \"state\": \"Ready\"\n",
       "    },\n",
       "    \"vector_type\": \"dense\",\n",
       "    \"dimension\": 3,\n",
       "    \"deletion_protection\": \"disabled\",\n",
       "    \"tags\": null\n",
       "}"
      ]
     },
     "execution_count": 10,
     "metadata": {},
     "output_type": "execute_result"
    }
   ],
   "source": [
    "pc.create_index(\n",
    "    name = pinecone_name,\n",
    "    dimension = dimension,\n",
    "    metric = metric,\n",
    "    spec = ServerlessSpec(\n",
    "        cloud = \"aws\",\n",
    "        region = \"us-east-1\")\n",
    "    )"
   ]
  },
  {
   "cell_type": "code",
   "execution_count": 14,
   "id": "db604521-836d-4ed3-b042-70aed0769f3d",
   "metadata": {},
   "outputs": [],
   "source": [
    "pinecone_name_1 = \"my-pinecone-1\"\n",
    "dimension_1 = 1536\n",
    "metric_1 = \"euclidean\""
   ]
  },
  {
   "cell_type": "code",
   "execution_count": 15,
   "id": "a99b73c3-b0aa-4ec0-b93c-3646e7b05508",
   "metadata": {},
   "outputs": [
    {
     "name": "stdout",
     "output_type": "stream",
     "text": [
      "my-pinecone-1 Not in index.\n"
     ]
    }
   ],
   "source": [
    "if pinecone_name_1 in [index.name for index in pc.list_indexes()]:\n",
    "    pc.delete_index(pinecone_name_1)\n",
    "    print(f\"{pinecone_name_1} Succesfully Deleted.\")\n",
    "else:\n",
    "    print(f\"{pinecone_name_1} Not in index.\")"
   ]
  },
  {
   "cell_type": "code",
   "execution_count": 16,
   "id": "20fb2fd9-045d-41ee-8d21-9779cd4733b5",
   "metadata": {},
   "outputs": [
    {
     "data": {
      "text/plain": [
       "{\n",
       "    \"name\": \"my-pinecone-1\",\n",
       "    \"metric\": \"euclidean\",\n",
       "    \"host\": \"my-pinecone-1-y3e23wn.svc.aped-4627-b74a.pinecone.io\",\n",
       "    \"spec\": {\n",
       "        \"serverless\": {\n",
       "            \"cloud\": \"aws\",\n",
       "            \"region\": \"us-east-1\"\n",
       "        }\n",
       "    },\n",
       "    \"status\": {\n",
       "        \"ready\": true,\n",
       "        \"state\": \"Ready\"\n",
       "    },\n",
       "    \"vector_type\": \"dense\",\n",
       "    \"dimension\": 1536,\n",
       "    \"deletion_protection\": \"disabled\",\n",
       "    \"tags\": null\n",
       "}"
      ]
     },
     "execution_count": 16,
     "metadata": {},
     "output_type": "execute_result"
    }
   ],
   "source": [
    "pc.create_index(\n",
    "    name = pinecone_name_1,\n",
    "    dimension = dimension_1,\n",
    "    metric = metric_1,\n",
    "    spec = ServerlessSpec(\n",
    "        cloud = \"aws\",\n",
    "        region = \"us-east-1\")\n",
    "    )"
   ]
  },
  {
   "cell_type": "code",
   "execution_count": 17,
   "id": "73689242-cdd0-484c-9694-4221d74d6e56",
   "metadata": {},
   "outputs": [
    {
     "data": {
      "text/plain": [
       "[\n",
       "    {\n",
       "        \"name\": \"my-pinecone\",\n",
       "        \"metric\": \"cosine\",\n",
       "        \"host\": \"my-pinecone-y3e23wn.svc.aped-4627-b74a.pinecone.io\",\n",
       "        \"spec\": {\n",
       "            \"serverless\": {\n",
       "                \"cloud\": \"aws\",\n",
       "                \"region\": \"us-east-1\"\n",
       "            }\n",
       "        },\n",
       "        \"status\": {\n",
       "            \"ready\": true,\n",
       "            \"state\": \"Ready\"\n",
       "        },\n",
       "        \"vector_type\": \"dense\",\n",
       "        \"dimension\": 3,\n",
       "        \"deletion_protection\": \"disabled\",\n",
       "        \"tags\": null\n",
       "    },\n",
       "    {\n",
       "        \"name\": \"my-pinecone-1\",\n",
       "        \"metric\": \"euclidean\",\n",
       "        \"host\": \"my-pinecone-1-y3e23wn.svc.aped-4627-b74a.pinecone.io\",\n",
       "        \"spec\": {\n",
       "            \"serverless\": {\n",
       "                \"cloud\": \"aws\",\n",
       "                \"region\": \"us-east-1\"\n",
       "            }\n",
       "        },\n",
       "        \"status\": {\n",
       "            \"ready\": true,\n",
       "            \"state\": \"Ready\"\n",
       "        },\n",
       "        \"vector_type\": \"dense\",\n",
       "        \"dimension\": 1536,\n",
       "        \"deletion_protection\": \"disabled\",\n",
       "        \"tags\": null\n",
       "    }\n",
       "]"
      ]
     },
     "execution_count": 17,
     "metadata": {},
     "output_type": "execute_result"
    }
   ],
   "source": [
    "pc.list_indexes()"
   ]
  },
  {
   "cell_type": "code",
   "execution_count": 18,
   "id": "c083b633-495e-49a5-9b75-1f8328e7be89",
   "metadata": {},
   "outputs": [
    {
     "name": "stderr",
     "output_type": "stream",
     "text": [
      "C:\\Users\\hp\\.conda\\envs\\langchain_env\\lib\\site-packages\\tqdm\\auto.py:21: TqdmWarning: IProgress not found. Please update jupyter and ipywidgets. See https://ipywidgets.readthedocs.io/en/stable/user_install.html\n",
      "  from .autonotebook import tqdm as notebook_tqdm\n"
     ]
    }
   ],
   "source": [
    "index = pc.Index(name = pinecone_name)"
   ]
  },
  {
   "cell_type": "code",
   "execution_count": 20,
   "id": "a5731b54-3943-4c28-8c0f-dc237aa7b87d",
   "metadata": {},
   "outputs": [
    {
     "data": {
      "text/plain": [
       "{'upserted_count': 5}"
      ]
     },
     "execution_count": 20,
     "metadata": {},
     "output_type": "execute_result"
    }
   ],
   "source": [
    "index.upsert([\n",
    "    ('dog' , [4.,0.,1.]),\n",
    "    ('cat', [4.,0.,1.]),\n",
    "    ('chicken',[2.,2.,1.]),\n",
    "    ('bird', [2.,2.,0.]),\n",
    "    ('elephant', [4.,0.,1.])\n",
    "])"
   ]
  }
 ],
 "metadata": {
  "kernelspec": {
   "display_name": "langchain_env",
   "language": "python",
   "name": "langchain_env"
  },
  "language_info": {
   "codemirror_mode": {
    "name": "ipython",
    "version": 3
   },
   "file_extension": ".py",
   "mimetype": "text/x-python",
   "name": "python",
   "nbconvert_exporter": "python",
   "pygments_lexer": "ipython3",
   "version": "3.10.10"
  }
 },
 "nbformat": 4,
 "nbformat_minor": 5
}
